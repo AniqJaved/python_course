{
 "cells": [
  {
   "cell_type": "markdown",
   "id": "301e45b1",
   "metadata": {},
   "source": [
    "## What you'll learn\n",
    "\n",
    "### Getting started with Python\n",
    "\n",
    "- How to write & Execute code on [Jupyter Notebook](https://jupyter.org/) a Distribution of [Anaconda](https://www.anaconda.com/)\n",
    "- How to load data from spreadsheet.\n",
    "- How to turn data into beautiful plots\n",
    "\n",
    "### Loading data in Pandas\n",
    "\n",
    "- What is pandas ?\n",
    "- Selecting Columns.\n",
    "- Selecting rows with logic.\n",
    "\n",
    "### Ploting Data With matplotlib\n",
    "\n",
    "- Creating line plot\n",
    "- Adding labels & legneds\n",
    "- Adding some style\n",
    "- \n",
    "\n",
    "### Different Types of Plots\n",
    "\n",
    "- jel\n"
   ]
  },
  {
   "cell_type": "markdown",
   "id": "328fc9ca",
   "metadata": {},
   "source": [
    "<img src= \"./media/ramson_notes.png\" width = 500 height = 300>"
   ]
  },
  {
   "cell_type": "markdown",
   "id": "8b1e554e",
   "metadata": {},
   "source": [
    "## Jupyter Notebook\n",
    "- [How to use Jupyter Notebook](https://www.codecademy.com/articles/how-to-use-jupyter-notebooks)"
   ]
  },
  {
   "cell_type": "markdown",
   "id": "d69c4b1a",
   "metadata": {},
   "source": [
    "## What is Module ?\n",
    "\n",
    "- Groups related tools together\n",
    "- Makes it easy to know where to look for a particular tool\n",
    "- Common examples:\n",
    "    - `matplotlib`\n",
    "    - `pandas`\n",
    "    - `scikit-learn`\n",
    "    - `scipy`\n",
    "    - `nltk`\n"
   ]
  },
  {
   "cell_type": "markdown",
   "id": "cc5c3f46",
   "metadata": {},
   "source": [
    "- `importing module`"
   ]
  },
  {
   "cell_type": "code",
   "execution_count": 9,
   "id": "bec27e15",
   "metadata": {},
   "outputs": [],
   "source": [
    "import pandas"
   ]
  },
  {
   "cell_type": "markdown",
   "id": "2c87e740",
   "metadata": {},
   "source": [
    "- `importing module as alias`"
   ]
  },
  {
   "cell_type": "code",
   "execution_count": 10,
   "id": "f40780d7",
   "metadata": {},
   "outputs": [],
   "source": [
    "import pandas as pd"
   ]
  },
  {
   "cell_type": "markdown",
   "id": "b1616746",
   "metadata": {},
   "source": [
    "- `importing submodule`"
   ]
  },
  {
   "cell_type": "code",
   "execution_count": 12,
   "id": "fd22cc7f",
   "metadata": {},
   "outputs": [],
   "source": [
    "from matplotlib import pyplot as plt"
   ]
  },
  {
   "cell_type": "markdown",
   "id": "00c3a4a5",
   "metadata": {},
   "source": [
    "### Importing pandas and matplotlib"
   ]
  },
  {
   "cell_type": "code",
   "execution_count": 26,
   "id": "1120ad68",
   "metadata": {},
   "outputs": [
    {
     "data": {
      "text/html": [
       "<div>\n",
       "<style scoped>\n",
       "    .dataframe tbody tr th:only-of-type {\n",
       "        vertical-align: middle;\n",
       "    }\n",
       "\n",
       "    .dataframe tbody tr th {\n",
       "        vertical-align: top;\n",
       "    }\n",
       "\n",
       "    .dataframe thead th {\n",
       "        text-align: right;\n",
       "    }\n",
       "</style>\n",
       "<table border=\"1\" class=\"dataframe\">\n",
       "  <thead>\n",
       "    <tr style=\"text-align: right;\">\n",
       "      <th></th>\n",
       "      <th>letter_index</th>\n",
       "      <th>letter</th>\n",
       "      <th>frequency</th>\n",
       "    </tr>\n",
       "  </thead>\n",
       "  <tbody>\n",
       "    <tr>\n",
       "      <th>0</th>\n",
       "      <td>1</td>\n",
       "      <td>A</td>\n",
       "      <td>7.38</td>\n",
       "    </tr>\n",
       "    <tr>\n",
       "      <th>1</th>\n",
       "      <td>2</td>\n",
       "      <td>B</td>\n",
       "      <td>1.09</td>\n",
       "    </tr>\n",
       "    <tr>\n",
       "      <th>2</th>\n",
       "      <td>3</td>\n",
       "      <td>C</td>\n",
       "      <td>2.46</td>\n",
       "    </tr>\n",
       "    <tr>\n",
       "      <th>3</th>\n",
       "      <td>4</td>\n",
       "      <td>D</td>\n",
       "      <td>4.10</td>\n",
       "    </tr>\n",
       "    <tr>\n",
       "      <th>4</th>\n",
       "      <td>5</td>\n",
       "      <td>E</td>\n",
       "      <td>12.84</td>\n",
       "    </tr>\n",
       "  </tbody>\n",
       "</table>\n",
       "</div>"
      ],
      "text/plain": [
       "   letter_index letter  frequency\n",
       "0             1      A       7.38\n",
       "1             2      B       1.09\n",
       "2             3      C       2.46\n",
       "3             4      D       4.10\n",
       "4             5      E      12.84"
      ]
     },
     "execution_count": 26,
     "metadata": {},
     "output_type": "execute_result"
    }
   ],
   "source": [
    "# Pandas loads our data\n",
    "df = pd.read_excel('./dataset/ramson.xlsx')\n",
    "df.head()"
   ]
  },
  {
   "cell_type": "code",
   "execution_count": 28,
   "id": "0a3a5ee7",
   "metadata": {},
   "outputs": [
    {
     "data": {
      "image/png": "[encoded data removed]",
      "text/plain": [
       "<Figure size 432x288 with 1 Axes>"
      ]
     },
     "metadata": {
      "needs_background": "light"
     },
     "output_type": "display_data"
    }
   ],
   "source": [
    "# Matplotlib plots and displays\n",
    "plt.plot(df.letter, df.frequency)\n",
    "plt.show()"
   ]
  },
  {
   "cell_type": "markdown",
   "id": "76bfe5c7",
   "metadata": {},
   "source": [
    "### Creating variables\n",
    "\n",
    "####  Filing a missing puppy report\n",
    "\n",
    "<img src = \"./media/report filling.png\" width = 200 height = 200>"
   ]
  },
  {
   "cell_type": "code",
   "execution_count": 28,
   "id": "84be8804",
   "metadata": {},
   "outputs": [],
   "source": [
    "name = \"Bayes\"\n",
    "height = 24\n",
    "weight = 75.5"
   ]
  },
  {
   "cell_type": "markdown",
   "id": "eaf08d41",
   "metadata": {},
   "source": [
    "### Rules for variable names\n",
    "\n",
    "- Must start with a letter (usually lowercase).\n",
    "- No space or special character.\n",
    "- After First letter you can use letter/number/underscore.\n",
    "- Case sensitive `my_var` is different then `My_Var`"
   ]
  },
  {
   "cell_type": "markdown",
   "id": "3dc7b7d2",
   "metadata": {},
   "source": [
    "#### Valid Variables"
   ]
  },
  {
   "cell_type": "code",
   "execution_count": 29,
   "id": "f67f6270",
   "metadata": {},
   "outputs": [],
   "source": [
    "bayes_weight = 23\n",
    "b = 2\n",
    "bayes42 = 43"
   ]
  },
  {
   "cell_type": "markdown",
   "id": "d9872c1d",
   "metadata": {},
   "source": [
    "#### Invalid valiables "
   ]
  },
  {
   "cell_type": "code",
   "execution_count": 30,
   "id": "5ba14275",
   "metadata": {},
   "outputs": [
    {
     "ename": "SyntaxError",
     "evalue": "cannot assign to operator (<ipython-input-30-04b4c9cfade7>, line 1)",
     "output_type": "error",
     "traceback": [
      "\u001b[1;36m  File \u001b[1;32m\"<ipython-input-30-04b4c9cfade7>\"\u001b[1;36m, line \u001b[1;32m1\u001b[0m\n\u001b[1;33m    bay-weight = 24\u001b[0m\n\u001b[1;37m    ^\u001b[0m\n\u001b[1;31mSyntaxError\u001b[0m\u001b[1;31m:\u001b[0m cannot assign to operator\n"
     ]
    }
   ],
   "source": [
    "bay-weight = 24"
   ]
  },
  {
   "cell_type": "code",
   "execution_count": 31,
   "id": "3b4596c3",
   "metadata": {},
   "outputs": [
    {
     "ename": "SyntaxError",
     "evalue": "invalid syntax (<ipython-input-31-5c1ae0ebb7ff>, line 1)",
     "output_type": "error",
     "traceback": [
      "\u001b[1;36m  File \u001b[1;32m\"<ipython-input-31-5c1ae0ebb7ff>\"\u001b[1;36m, line \u001b[1;32m1\u001b[0m\n\u001b[1;33m    bayes!\u001b[0m\n\u001b[1;37m         ^\u001b[0m\n\u001b[1;31mSyntaxError\u001b[0m\u001b[1;31m:\u001b[0m invalid syntax\n"
     ]
    }
   ],
   "source": [
    "bayes!"
   ]
  },
  {
   "cell_type": "code",
   "execution_count": 32,
   "id": "0f5ded9f",
   "metadata": {},
   "outputs": [
    {
     "ename": "SyntaxError",
     "evalue": "invalid syntax (<ipython-input-32-952b0912fb03>, line 1)",
     "output_type": "error",
     "traceback": [
      "\u001b[1;36m  File \u001b[1;32m\"<ipython-input-32-952b0912fb03>\"\u001b[1;36m, line \u001b[1;32m1\u001b[0m\n\u001b[1;33m    42bayes\u001b[0m\n\u001b[1;37m      ^\u001b[0m\n\u001b[1;31mSyntaxError\u001b[0m\u001b[1;31m:\u001b[0m invalid syntax\n"
     ]
    }
   ],
   "source": [
    "42bayes"
   ]
  },
  {
   "cell_type": "markdown",
   "id": "15c39ec6",
   "metadata": {},
   "source": [
    "### Floats and strings\n",
    "\n",
    "- ***floats:*** represents an integer or decimal number"
   ]
  },
  {
   "cell_type": "code",
   "execution_count": 33,
   "id": "90a8c7b0",
   "metadata": {},
   "outputs": [],
   "source": [
    "height = 24\n",
    "weight = 75.5"
   ]
  },
  {
   "cell_type": "markdown",
   "id": "1f9370cc",
   "metadata": {},
   "source": [
    "- ***string:*** reperesent text: can contain letters, number , space & special characters "
   ]
  },
  {
   "cell_type": "code",
   "execution_count": 34,
   "id": "69229faa",
   "metadata": {},
   "outputs": [],
   "source": [
    "name = 'Bayes'\n",
    "breed = \"Golden Retiever\""
   ]
  },
  {
   "cell_type": "markdown",
   "id": "4a26da36",
   "metadata": {},
   "source": [
    "#### Common string mistakes\n",
    "\n",
    "- Without quotes, you'll get a name error."
   ]
  },
  {
   "cell_type": "code",
   "execution_count": 35,
   "id": "9a66361a",
   "metadata": {},
   "outputs": [
    {
     "ename": "NameError",
     "evalue": "name 'Qasim_Hassan' is not defined",
     "output_type": "error",
     "traceback": [
      "\u001b[1;31m---------------------------------------------------------------------------\u001b[0m",
      "\u001b[1;31mNameError\u001b[0m                                 Traceback (most recent call last)",
      "\u001b[1;32m<ipython-input-35-56280dbccc88>\u001b[0m in \u001b[0;36m<module>\u001b[1;34m\u001b[0m\n\u001b[1;32m----> 1\u001b[1;33m \u001b[0mowner\u001b[0m \u001b[1;33m=\u001b[0m \u001b[0mQasim_Hassan\u001b[0m\u001b[1;33m\u001b[0m\u001b[1;33m\u001b[0m\u001b[0m\n\u001b[0m",
      "\u001b[1;31mNameError\u001b[0m: name 'Qasim_Hassan' is not defined"
     ]
    }
   ],
   "source": [
    "owner = Qasim_Hassan"
   ]
  },
  {
   "cell_type": "markdown",
   "id": "283a0aa4",
   "metadata": {},
   "source": [
    "- If you use different quotation marks,  you'll get a syntax error"
   ]
  },
  {
   "cell_type": "code",
   "execution_count": 36,
   "id": "9d3b5dc2",
   "metadata": {},
   "outputs": [
    {
     "ename": "SyntaxError",
     "evalue": "EOL while scanning string literal (<ipython-input-36-1195f9f3e594>, line 1)",
     "output_type": "error",
     "traceback": [
      "\u001b[1;36m  File \u001b[1;32m\"<ipython-input-36-1195f9f3e594>\"\u001b[1;36m, line \u001b[1;32m1\u001b[0m\n\u001b[1;33m    fur_color = \"blonde'\u001b[0m\n\u001b[1;37m                        ^\u001b[0m\n\u001b[1;31mSyntaxError\u001b[0m\u001b[1;31m:\u001b[0m EOL while scanning string literal\n"
     ]
    }
   ],
   "source": [
    "fur_color = \"blonde'"
   ]
  },
  {
   "cell_type": "markdown",
   "id": "aa79bc61",
   "metadata": {},
   "source": [
    "### Displaying variables"
   ]
  },
  {
   "cell_type": "code",
   "execution_count": 37,
   "id": "bddf0b17",
   "metadata": {},
   "outputs": [
    {
     "name": "stdout",
     "output_type": "stream",
     "text": [
      "24\n"
     ]
    },
    {
     "data": {
      "text/plain": [
       "75"
      ]
     },
     "execution_count": 37,
     "metadata": {},
     "output_type": "execute_result"
    }
   ],
   "source": [
    "name = \"Bayes\"\n",
    "height = 24\n",
    "weight = 75\n",
    "\n",
    "print(height)\n",
    "weight"
   ]
  },
  {
   "cell_type": "code",
   "execution_count": 38,
   "id": "1b81211e",
   "metadata": {},
   "outputs": [
    {
     "name": "stdout",
     "output_type": "stream",
     "text": [
      "Bayes 24 75\n"
     ]
    }
   ],
   "source": [
    "print(name, height, weight)"
   ]
  },
  {
   "cell_type": "code",
   "execution_count": 39,
   "id": "7d4b2dea",
   "metadata": {},
   "outputs": [
    {
     "name": "stdout",
     "output_type": "stream",
     "text": [
      "Bayes + 24 + 75\n"
     ]
    }
   ],
   "source": [
    "print(name, height, weight, sep=' + ')"
   ]
  },
  {
   "cell_type": "code",
   "execution_count": 40,
   "id": "b30bd768",
   "metadata": {},
   "outputs": [
    {
     "name": "stdout",
     "output_type": "stream",
     "text": [
      "Bayes 24 75 <= line Ends Here =>"
     ]
    }
   ],
   "source": [
    "print(name, height, weight, end=' <= line Ends Here =>')"
   ]
  },
  {
   "cell_type": "markdown",
   "id": "25f654ae",
   "metadata": {},
   "source": [
    "## What is Function ?\n",
    "\n",
    "- A function is an action"
   ]
  },
  {
   "cell_type": "markdown",
   "id": "ac9a62be",
   "metadata": {},
   "source": [
    "<img src = \"./media/function.png\" width = 400 height = 400>"
   ]
  },
  {
   "cell_type": "markdown",
   "id": "1cdd2eaa",
   "metadata": {},
   "source": [
    "#### Functions in code"
   ]
  },
  {
   "cell_type": "code",
   "execution_count": 20,
   "id": "9b6e3fc9",
   "metadata": {},
   "outputs": [
    {
     "data": {
      "image/png": "[encoded data removed]",
      "text/plain": [
       "<Figure size 432x288 with 1 Axes>"
      ]
     },
     "metadata": {
      "needs_background": "light"
     },
     "output_type": "display_data"
    }
   ],
   "source": [
    "import pandas as pd\n",
    "from matplotlib import pyplot as plt\n",
    "\n",
    "df = pd.read_csv('./dataset/deshaun.csv')\n",
    "plt.plot(df.day_of_week, df.hours_worked, label = 'Officer Deshuan', marker = \"s\", color= 'y')\n",
    "plt.legend()\n",
    "plt.show()"
   ]
  },
  {
   "cell_type": "markdown",
   "id": "736b12df",
   "metadata": {},
   "source": [
    "#### Functions perform actions:\n",
    "\n",
    "- `pd.read_csv()` turns a csv file into a table in python.\n",
    "- `plt.plot()` turn data into line plot.\n",
    "- `plt.show()` display plots into new window.\n",
    "- `plt.legned()` tells us the data representation."
   ]
  },
  {
   "cell_type": "markdown",
   "id": "68a33af1",
   "metadata": {},
   "source": [
    "<img src = \"./media/function arguments.png\">"
   ]
  },
  {
   "cell_type": "markdown",
   "id": "769832e9",
   "metadata": {},
   "source": [
    "- Lets consider this is below given is the data"
   ]
  },
  {
   "cell_type": "markdown",
   "id": "86042679",
   "metadata": {},
   "source": [
    "<img src = \"./media/table_1.png\" width = 300 height = 300>"
   ]
  },
  {
   "cell_type": "markdown",
   "id": "660849f2",
   "metadata": {},
   "source": [
    "- below given is the result of the above data"
   ]
  },
  {
   "cell_type": "markdown",
   "id": "7491c2fa",
   "metadata": {},
   "source": [
    "<img src = \"./media/result.png\">"
   ]
  },
  {
   "cell_type": "markdown",
   "id": "cbaccfe2",
   "metadata": {},
   "source": [
    "## Anatomy of a function: function name"
   ]
  },
  {
   "cell_type": "markdown",
   "id": "16a4aec9",
   "metadata": {},
   "source": [
    "<img src = \"./media/function_name.png\">"
   ]
  },
  {
   "cell_type": "markdown",
   "id": "ee40f50a",
   "metadata": {},
   "source": [
    "### Function Name:\n",
    "- Starts with the module that the function \"lives\" in ( `plt` )\n",
    "- Followed by the name of the function ( `plot` )\n",
    "- Function name is always followed by parentheses `()`"
   ]
  },
  {
   "cell_type": "markdown",
   "id": "ba96ae26",
   "metadata": {},
   "source": [
    "## Anatomy of a function: positional arguments"
   ]
  },
  {
   "cell_type": "markdown",
   "id": "71b458a5",
   "metadata": {},
   "source": [
    "<img src = \"./media/positonal_arguments.png\">"
   ]
  },
  {
   "cell_type": "markdown",
   "id": "e2e6969a",
   "metadata": {},
   "source": [
    "### Positional Arguments:\n",
    "- These are ***inputs*** to a function; they tell the function how to do its job\n",
    "- Order matters!"
   ]
  },
  {
   "cell_type": "markdown",
   "id": "cfa3739f",
   "metadata": {},
   "source": [
    "## Anatomy of a function: keyword arguments"
   ]
  },
  {
   "cell_type": "markdown",
   "id": "03456093",
   "metadata": {},
   "source": [
    "<img src = \"./media/keyword_argument.png\">"
   ]
  },
  {
   "cell_type": "markdown",
   "id": "5869e36f",
   "metadata": {},
   "source": [
    "Keyword Arguments:\n",
    "- Must come ***after*** positional arguments\n",
    "= Start with the name of the argument ( `label` ), then an equals\n",
    "sign ( `=` )\n",
    "- Followed by the argument ( `Ransom` )"
   ]
  },
  {
   "cell_type": "markdown",
   "id": "1ad18043",
   "metadata": {},
   "source": [
    "## Common function errors\n",
    "\n",
    "- Missing commas between arguments"
   ]
  },
  {
   "cell_type": "markdown",
   "id": "ad393a17",
   "metadata": {},
   "source": [
    "<img src = \"./media/missing_commas.png\">"
   ]
  },
  {
   "cell_type": "markdown",
   "id": "12bca4da",
   "metadata": {},
   "source": [
    "- Missing closed parenthesis"
   ]
  },
  {
   "cell_type": "markdown",
   "id": "8956df27",
   "metadata": {},
   "source": [
    "<img src = \"./media/closed_paranthesis.png\">"
   ]
  },
  {
   "cell_type": "markdown",
   "id": "fd420d1c",
   "metadata": {},
   "source": [
    "# Part-2 Loading data from pandas"
   ]
  },
  {
   "cell_type": "markdown",
   "id": "55b5fcd9",
   "metadata": {},
   "source": [
    "## What can pandas do for you?\n",
    "- Loading tabular data from differenct resources.\n",
    "- Search for particular rows or columns\n",
    "- Calculate aggregate statistics\n",
    "- Combining data from multiple sources"
   ]
  },
  {
   "cell_type": "markdown",
   "id": "80c26bfc",
   "metadata": {},
   "source": [
    "### Tabular data with pandas\n",
    "\n",
    "- Tabular data\n",
    "\n",
    "<img src = \"./media/tabular_data.png\">\n",
    "\n",
    "- Dataframe\n",
    "\n",
    "<img src = \"./media/dataframe.png\">"
   ]
  },
  {
   "cell_type": "markdown",
   "id": "c701ffdf",
   "metadata": {},
   "source": [
    "### CSV files\n",
    "\n",
    "<img src = \"./media/csv_files.png\" width = 600 height = 600>"
   ]
  },
  {
   "cell_type": "markdown",
   "id": "11bcda8c",
   "metadata": {},
   "source": [
    "### Loading a csv"
   ]
  },
  {
   "cell_type": "code",
   "execution_count": 1,
   "id": "4892ce7b",
   "metadata": {},
   "outputs": [],
   "source": [
    "import pandas as pd\n",
    "credit_records = pd.read_csv('./data/credit_records.csv')"
   ]
  },
  {
   "cell_type": "markdown",
   "id": "78178a39",
   "metadata": {},
   "source": [
    "### Displaying a DataFrame"
   ]
  },
  {
   "cell_type": "code",
   "execution_count": 2,
   "id": "9d7f957c",
   "metadata": {},
   "outputs": [
    {
     "data": {
      "text/html": [
       "<div>\n",
       "<style scoped>\n",
       "    .dataframe tbody tr th:only-of-type {\n",
       "        vertical-align: middle;\n",
       "    }\n",
       "\n",
       "    .dataframe tbody tr th {\n",
       "        vertical-align: top;\n",
       "    }\n",
       "\n",
       "    .dataframe thead th {\n",
       "        text-align: right;\n",
       "    }\n",
       "</style>\n",
       "<table border=\"1\" class=\"dataframe\">\n",
       "  <thead>\n",
       "    <tr style=\"text-align: right;\">\n",
       "      <th></th>\n",
       "      <th>suspect</th>\n",
       "      <th>location</th>\n",
       "      <th>date</th>\n",
       "      <th>item</th>\n",
       "      <th>price</th>\n",
       "    </tr>\n",
       "  </thead>\n",
       "  <tbody>\n",
       "    <tr>\n",
       "      <th>0</th>\n",
       "      <td>Kirstine Smith</td>\n",
       "      <td>Groceries R Us</td>\n",
       "      <td>6-Jan-18</td>\n",
       "      <td>broccoli</td>\n",
       "      <td>1.25</td>\n",
       "    </tr>\n",
       "    <tr>\n",
       "      <th>1</th>\n",
       "      <td>Gertrude Cox</td>\n",
       "      <td>Petroleum Plaza</td>\n",
       "      <td>6-Jan-18</td>\n",
       "      <td>fizzy drink</td>\n",
       "      <td>1.90</td>\n",
       "    </tr>\n",
       "    <tr>\n",
       "      <th>2</th>\n",
       "      <td>Fred Frequentist</td>\n",
       "      <td>Groceries R Us</td>\n",
       "      <td>6-Jan-18</td>\n",
       "      <td>broccoli</td>\n",
       "      <td>1.25</td>\n",
       "    </tr>\n",
       "    <tr>\n",
       "      <th>3</th>\n",
       "      <td>Gertrude Cox</td>\n",
       "      <td>Groceries R Us</td>\n",
       "      <td>12-Jan-18</td>\n",
       "      <td>broccoli</td>\n",
       "      <td>1.25</td>\n",
       "    </tr>\n",
       "    <tr>\n",
       "      <th>4</th>\n",
       "      <td>Kirstine Smith</td>\n",
       "      <td>Clothing Club</td>\n",
       "      <td>9-Jan-18</td>\n",
       "      <td>shirt</td>\n",
       "      <td>14.25</td>\n",
       "    </tr>\n",
       "    <tr>\n",
       "      <th>...</th>\n",
       "      <td>...</td>\n",
       "      <td>...</td>\n",
       "      <td>...</td>\n",
       "      <td>...</td>\n",
       "      <td>...</td>\n",
       "    </tr>\n",
       "    <tr>\n",
       "      <th>100</th>\n",
       "      <td>Gertrude Cox</td>\n",
       "      <td>Clothing Club</td>\n",
       "      <td>7-Jan-18</td>\n",
       "      <td>shirt</td>\n",
       "      <td>14.25</td>\n",
       "    </tr>\n",
       "    <tr>\n",
       "      <th>101</th>\n",
       "      <td>Fred Frequentist</td>\n",
       "      <td>Clothing Club</td>\n",
       "      <td>4-Jan-18</td>\n",
       "      <td>pants</td>\n",
       "      <td>12.05</td>\n",
       "    </tr>\n",
       "    <tr>\n",
       "      <th>102</th>\n",
       "      <td>Gertrude Cox</td>\n",
       "      <td>Clothing Club</td>\n",
       "      <td>9-Jan-18</td>\n",
       "      <td>dress</td>\n",
       "      <td>20.15</td>\n",
       "    </tr>\n",
       "    <tr>\n",
       "      <th>103</th>\n",
       "      <td>Kirstine Smith</td>\n",
       "      <td>Burger Mart</td>\n",
       "      <td>14-Jan-18</td>\n",
       "      <td>burger</td>\n",
       "      <td>3.95</td>\n",
       "    </tr>\n",
       "    <tr>\n",
       "      <th>104</th>\n",
       "      <td>Ronald Aylmer Fisher</td>\n",
       "      <td>Groceries R Us</td>\n",
       "      <td>11-Jan-18</td>\n",
       "      <td>cucumbers</td>\n",
       "      <td>2.05</td>\n",
       "    </tr>\n",
       "  </tbody>\n",
       "</table>\n",
       "<p>105 rows × 5 columns</p>\n",
       "</div>"
      ],
      "text/plain": [
       "                  suspect         location       date         item  price\n",
       "0          Kirstine Smith   Groceries R Us   6-Jan-18     broccoli   1.25\n",
       "1            Gertrude Cox  Petroleum Plaza   6-Jan-18  fizzy drink   1.90\n",
       "2        Fred Frequentist   Groceries R Us   6-Jan-18     broccoli   1.25\n",
       "3            Gertrude Cox   Groceries R Us  12-Jan-18     broccoli   1.25\n",
       "4          Kirstine Smith    Clothing Club   9-Jan-18        shirt  14.25\n",
       "..                    ...              ...        ...          ...    ...\n",
       "100          Gertrude Cox    Clothing Club   7-Jan-18        shirt  14.25\n",
       "101      Fred Frequentist    Clothing Club   4-Jan-18        pants  12.05\n",
       "102          Gertrude Cox    Clothing Club   9-Jan-18        dress  20.15\n",
       "103        Kirstine Smith      Burger Mart  14-Jan-18       burger   3.95\n",
       "104  Ronald Aylmer Fisher   Groceries R Us  11-Jan-18    cucumbers   2.05\n",
       "\n",
       "[105 rows x 5 columns]"
      ]
     },
     "execution_count": 2,
     "metadata": {},
     "output_type": "execute_result"
    }
   ],
   "source": [
    "credit_records"
   ]
  },
  {
   "cell_type": "code",
   "execution_count": 3,
   "id": "d956dba2",
   "metadata": {},
   "outputs": [
    {
     "name": "stdout",
     "output_type": "stream",
     "text": [
      "                  suspect         location       date         item  price\n",
      "0          Kirstine Smith   Groceries R Us   6-Jan-18     broccoli   1.25\n",
      "1            Gertrude Cox  Petroleum Plaza   6-Jan-18  fizzy drink   1.90\n",
      "2        Fred Frequentist   Groceries R Us   6-Jan-18     broccoli   1.25\n",
      "3            Gertrude Cox   Groceries R Us  12-Jan-18     broccoli   1.25\n",
      "4          Kirstine Smith    Clothing Club   9-Jan-18        shirt  14.25\n",
      "..                    ...              ...        ...          ...    ...\n",
      "100          Gertrude Cox    Clothing Club   7-Jan-18        shirt  14.25\n",
      "101      Fred Frequentist    Clothing Club   4-Jan-18        pants  12.05\n",
      "102          Gertrude Cox    Clothing Club   9-Jan-18        dress  20.15\n",
      "103        Kirstine Smith      Burger Mart  14-Jan-18       burger   3.95\n",
      "104  Ronald Aylmer Fisher   Groceries R Us  11-Jan-18    cucumbers   2.05\n",
      "\n",
      "[105 rows x 5 columns]\n"
     ]
    }
   ],
   "source": [
    "print(credit_records)"
   ]
  },
  {
   "cell_type": "markdown",
   "id": "bfba7035",
   "metadata": {},
   "source": [
    "### Inspecting a DataFrame"
   ]
  },
  {
   "cell_type": "code",
   "execution_count": 4,
   "id": "4c90f0ea",
   "metadata": {},
   "outputs": [
    {
     "data": {
      "text/html": [
       "<div>\n",
       "<style scoped>\n",
       "    .dataframe tbody tr th:only-of-type {\n",
       "        vertical-align: middle;\n",
       "    }\n",
       "\n",
       "    .dataframe tbody tr th {\n",
       "        vertical-align: top;\n",
       "    }\n",
       "\n",
       "    .dataframe thead th {\n",
       "        text-align: right;\n",
       "    }\n",
       "</style>\n",
       "<table border=\"1\" class=\"dataframe\">\n",
       "  <thead>\n",
       "    <tr style=\"text-align: right;\">\n",
       "      <th></th>\n",
       "      <th>suspect</th>\n",
       "      <th>location</th>\n",
       "      <th>date</th>\n",
       "      <th>item</th>\n",
       "      <th>price</th>\n",
       "    </tr>\n",
       "  </thead>\n",
       "  <tbody>\n",
       "    <tr>\n",
       "      <th>0</th>\n",
       "      <td>Kirstine Smith</td>\n",
       "      <td>Groceries R Us</td>\n",
       "      <td>6-Jan-18</td>\n",
       "      <td>broccoli</td>\n",
       "      <td>1.25</td>\n",
       "    </tr>\n",
       "    <tr>\n",
       "      <th>1</th>\n",
       "      <td>Gertrude Cox</td>\n",
       "      <td>Petroleum Plaza</td>\n",
       "      <td>6-Jan-18</td>\n",
       "      <td>fizzy drink</td>\n",
       "      <td>1.90</td>\n",
       "    </tr>\n",
       "    <tr>\n",
       "      <th>2</th>\n",
       "      <td>Fred Frequentist</td>\n",
       "      <td>Groceries R Us</td>\n",
       "      <td>6-Jan-18</td>\n",
       "      <td>broccoli</td>\n",
       "      <td>1.25</td>\n",
       "    </tr>\n",
       "    <tr>\n",
       "      <th>3</th>\n",
       "      <td>Gertrude Cox</td>\n",
       "      <td>Groceries R Us</td>\n",
       "      <td>12-Jan-18</td>\n",
       "      <td>broccoli</td>\n",
       "      <td>1.25</td>\n",
       "    </tr>\n",
       "    <tr>\n",
       "      <th>4</th>\n",
       "      <td>Kirstine Smith</td>\n",
       "      <td>Clothing Club</td>\n",
       "      <td>9-Jan-18</td>\n",
       "      <td>shirt</td>\n",
       "      <td>14.25</td>\n",
       "    </tr>\n",
       "  </tbody>\n",
       "</table>\n",
       "</div>"
      ],
      "text/plain": [
       "            suspect         location       date         item  price\n",
       "0    Kirstine Smith   Groceries R Us   6-Jan-18     broccoli   1.25\n",
       "1      Gertrude Cox  Petroleum Plaza   6-Jan-18  fizzy drink   1.90\n",
       "2  Fred Frequentist   Groceries R Us   6-Jan-18     broccoli   1.25\n",
       "3      Gertrude Cox   Groceries R Us  12-Jan-18     broccoli   1.25\n",
       "4    Kirstine Smith    Clothing Club   9-Jan-18        shirt  14.25"
      ]
     },
     "execution_count": 4,
     "metadata": {},
     "output_type": "execute_result"
    }
   ],
   "source": [
    "credit_records.head()"
   ]
  },
  {
   "cell_type": "code",
   "execution_count": 5,
   "id": "23e74e4d",
   "metadata": {},
   "outputs": [
    {
     "name": "stdout",
     "output_type": "stream",
     "text": [
      "            suspect         location       date         item  price\n",
      "0    Kirstine Smith   Groceries R Us   6-Jan-18     broccoli   1.25\n",
      "1      Gertrude Cox  Petroleum Plaza   6-Jan-18  fizzy drink   1.90\n",
      "2  Fred Frequentist   Groceries R Us   6-Jan-18     broccoli   1.25\n",
      "3      Gertrude Cox   Groceries R Us  12-Jan-18     broccoli   1.25\n",
      "4    Kirstine Smith    Clothing Club   9-Jan-18        shirt  14.25\n"
     ]
    }
   ],
   "source": [
    "print(credit_records.head())"
   ]
  },
  {
   "cell_type": "code",
   "execution_count": 6,
   "id": "c5c856f6",
   "metadata": {},
   "outputs": [
    {
     "name": "stdout",
     "output_type": "stream",
     "text": [
      "<class 'pandas.core.frame.DataFrame'>\n",
      "RangeIndex: 105 entries, 0 to 104\n",
      "Data columns (total 5 columns):\n",
      " #   Column    Non-Null Count  Dtype  \n",
      "---  ------    --------------  -----  \n",
      " 0   suspect   105 non-null    object \n",
      " 1   location  105 non-null    object \n",
      " 2   date      105 non-null    object \n",
      " 3   item      105 non-null    object \n",
      " 4   price     105 non-null    float64\n",
      "dtypes: float64(1), object(4)\n",
      "memory usage: 4.2+ KB\n"
     ]
    }
   ],
   "source": [
    "credit_records.info()"
   ]
  },
  {
   "cell_type": "code",
   "execution_count": 7,
   "id": "6c08001b",
   "metadata": {},
   "outputs": [
    {
     "name": "stdout",
     "output_type": "stream",
     "text": [
      "<class 'pandas.core.frame.DataFrame'>\n",
      "RangeIndex: 105 entries, 0 to 104\n",
      "Data columns (total 5 columns):\n",
      " #   Column    Non-Null Count  Dtype  \n",
      "---  ------    --------------  -----  \n",
      " 0   suspect   105 non-null    object \n",
      " 1   location  105 non-null    object \n",
      " 2   date      105 non-null    object \n",
      " 3   item      105 non-null    object \n",
      " 4   price     105 non-null    float64\n",
      "dtypes: float64(1), object(4)\n",
      "memory usage: 4.2+ KB\n",
      "None\n"
     ]
    }
   ],
   "source": [
    "print(credit_records.info())"
   ]
  },
  {
   "cell_type": "markdown",
   "id": "b3fb020d",
   "metadata": {},
   "source": [
    "<img src= \"./media/inspecting.png\" width = 600 height = 600>"
   ]
  },
  {
   "cell_type": "markdown",
   "id": "05952abd",
   "metadata": {},
   "source": [
    "## Selecting columns"
   ]
  },
  {
   "cell_type": "markdown",
   "id": "d9729ac4",
   "metadata": {},
   "source": [
    "### Why select columns?\n",
    "\n",
    "- Use in a calculation"
   ]
  },
  {
   "cell_type": "code",
   "execution_count": 8,
   "id": "ae3e800e",
   "metadata": {},
   "outputs": [
    {
     "data": {
      "text/plain": [
       "913.9000000000001"
      ]
     },
     "execution_count": 8,
     "metadata": {},
     "output_type": "execute_result"
    }
   ],
   "source": [
    "credit_records.price.sum()"
   ]
  },
  {
   "cell_type": "markdown",
   "id": "825e06da",
   "metadata": {},
   "source": [
    "- Plot data"
   ]
  },
  {
   "cell_type": "code",
   "execution_count": 29,
   "id": "5f2318f6",
   "metadata": {},
   "outputs": [
    {
     "ename": "NameError",
     "evalue": "name 'ransom' is not defined",
     "output_type": "error",
     "traceback": [
      "\u001b[1;31m---------------------------------------------------------------------------\u001b[0m",
      "\u001b[1;31mNameError\u001b[0m                                 Traceback (most recent call last)",
      "\u001b[1;32m<ipython-input-29-bdff593bd461>\u001b[0m in \u001b[0;36m<module>\u001b[1;34m\u001b[0m\n\u001b[0;32m      1\u001b[0m \u001b[1;32mimport\u001b[0m \u001b[0mmatplotlib\u001b[0m\u001b[1;33m.\u001b[0m\u001b[0mpyplot\u001b[0m \u001b[1;32mas\u001b[0m \u001b[0mplt\u001b[0m\u001b[1;33m\u001b[0m\u001b[1;33m\u001b[0m\u001b[0m\n\u001b[1;32m----> 2\u001b[1;33m \u001b[0mplt\u001b[0m\u001b[1;33m.\u001b[0m\u001b[0mplot\u001b[0m\u001b[1;33m(\u001b[0m\u001b[0mransom\u001b[0m\u001b[1;33m[\u001b[0m\u001b[1;34m'letter'\u001b[0m\u001b[1;33m]\u001b[0m\u001b[1;33m,\u001b[0m \u001b[0mransom\u001b[0m\u001b[1;33m[\u001b[0m\u001b[1;34m'frequency'\u001b[0m\u001b[1;33m]\u001b[0m\u001b[1;33m)\u001b[0m\u001b[1;33m\u001b[0m\u001b[1;33m\u001b[0m\u001b[0m\n\u001b[0m",
      "\u001b[1;31mNameError\u001b[0m: name 'ransom' is not defined"
     ]
    }
   ],
   "source": [
    "import matplotlib.pyplot as plt\n",
    "plt.plot(ransom['letter'], ransom['frequency'])"
   ]
  },
  {
   "cell_type": "markdown",
   "id": "c3e5cbc0",
   "metadata": {},
   "source": [
    "### Columns names are strings"
   ]
  },
  {
   "cell_type": "code",
   "execution_count": 10,
   "id": "25eb368f",
   "metadata": {},
   "outputs": [
    {
     "name": "stdout",
     "output_type": "stream",
     "text": [
      "            suspect         location       date         item  price\n",
      "0    Kirstine Smith   Groceries R Us   6-Jan-18     broccoli   1.25\n",
      "1      Gertrude Cox  Petroleum Plaza   6-Jan-18  fizzy drink   1.90\n",
      "2  Fred Frequentist   Groceries R Us   6-Jan-18     broccoli   1.25\n",
      "3      Gertrude Cox   Groceries R Us  12-Jan-18     broccoli   1.25\n",
      "4    Kirstine Smith    Clothing Club   9-Jan-18        shirt  14.25\n"
     ]
    }
   ],
   "source": [
    "print(credit_records.head())"
   ]
  },
  {
   "cell_type": "markdown",
   "id": "962aa466",
   "metadata": {},
   "source": [
    "### Selecting with brackets and string"
   ]
  },
  {
   "cell_type": "code",
   "execution_count": 11,
   "id": "78798848",
   "metadata": {},
   "outputs": [],
   "source": [
    "suspect = credit_records['suspect']"
   ]
  },
  {
   "cell_type": "code",
   "execution_count": 12,
   "id": "e2b15313",
   "metadata": {},
   "outputs": [
    {
     "data": {
      "text/plain": [
       "0            Kirstine Smith\n",
       "1              Gertrude Cox\n",
       "2          Fred Frequentist\n",
       "3              Gertrude Cox\n",
       "4            Kirstine Smith\n",
       "               ...         \n",
       "100            Gertrude Cox\n",
       "101        Fred Frequentist\n",
       "102            Gertrude Cox\n",
       "103          Kirstine Smith\n",
       "104    Ronald Aylmer Fisher\n",
       "Name: suspect, Length: 105, dtype: object"
      ]
     },
     "execution_count": 12,
     "metadata": {},
     "output_type": "execute_result"
    }
   ],
   "source": [
    "suspect"
   ]
  },
  {
   "cell_type": "code",
   "execution_count": 13,
   "id": "9857a192",
   "metadata": {},
   "outputs": [
    {
     "name": "stdout",
     "output_type": "stream",
     "text": [
      "0            Kirstine Smith\n",
      "1              Gertrude Cox\n",
      "2          Fred Frequentist\n",
      "3              Gertrude Cox\n",
      "4            Kirstine Smith\n",
      "               ...         \n",
      "100            Gertrude Cox\n",
      "101        Fred Frequentist\n",
      "102            Gertrude Cox\n",
      "103          Kirstine Smith\n",
      "104    Ronald Aylmer Fisher\n",
      "Name: suspect, Length: 105, dtype: object\n"
     ]
    }
   ],
   "source": [
    "print(suspect)"
   ]
  },
  {
   "cell_type": "markdown",
   "id": "9b0ce882",
   "metadata": {},
   "source": [
    "### Selecting with a dot"
   ]
  },
  {
   "cell_type": "code",
   "execution_count": 14,
   "id": "11111cdc",
   "metadata": {},
   "outputs": [],
   "source": [
    "price = credit_records.price"
   ]
  },
  {
   "cell_type": "code",
   "execution_count": 15,
   "id": "823be684",
   "metadata": {},
   "outputs": [
    {
     "name": "stdout",
     "output_type": "stream",
     "text": [
      "0       1.25\n",
      "1       1.90\n",
      "2       1.25\n",
      "3       1.25\n",
      "4      14.25\n",
      "       ...  \n",
      "100    14.25\n",
      "101    12.05\n",
      "102    20.15\n",
      "103     3.95\n",
      "104     2.05\n",
      "Name: price, Length: 105, dtype: float64\n"
     ]
    }
   ],
   "source": [
    "print(price)"
   ]
  },
  {
   "cell_type": "markdown",
   "id": "a0eae2b6",
   "metadata": {},
   "source": [
    "### Common mistakes in column selection\n",
    "\n",
    "- Use brackets and string for column names with spaces or special characters ( `-`, `?` , etc.)\n",
    "\n",
    "<img src = \"./media/select_col_mistakes1.png\" width= 500 height = 500>"
   ]
  },
  {
   "cell_type": "markdown",
   "id": "7f28a92e",
   "metadata": {},
   "source": [
    "- When using brackets and string, don't forget the quotes arounthe column name!\n",
    "\n",
    "<img src = \"./media/select_col_mistakes2.png\" width = 500 height = 500>"
   ]
  },
  {
   "cell_type": "markdown",
   "id": "cd8c77f5",
   "metadata": {},
   "source": [
    "- Brackets, not parentheses\n",
    "<img src = \"./media/select_col_mistakes3.png\" width = 500 height = 500>"
   ]
  },
  {
   "cell_type": "markdown",
   "id": "a28011e6",
   "metadata": {},
   "source": [
    "## Select rows with logic"
   ]
  },
  {
   "cell_type": "markdown",
   "id": "62ce5d36",
   "metadata": {},
   "source": [
    "### Continuing the investigation"
   ]
  },
  {
   "cell_type": "code",
   "execution_count": 26,
   "id": "187d39c0",
   "metadata": {},
   "outputs": [
    {
     "name": "stdout",
     "output_type": "stream",
     "text": [
      "            suspect         location       date         item  price\n",
      "0    Kirstine Smith   Groceries R Us   6-Jan-18     broccoli   1.25\n",
      "1      Gertrude Cox  Petroleum Plaza   6-Jan-18  fizzy drink   1.90\n",
      "2  Fred Frequentist   Groceries R Us   6-Jan-18     broccoli   1.25\n",
      "3      Gertrude Cox   Groceries R Us  12-Jan-18     broccoli   1.25\n",
      "4    Kirstine Smith    Clothing Club   9-Jan-18        shirt  14.25\n"
     ]
    }
   ],
   "source": [
    "print(credit_records.head())"
   ]
  },
  {
   "cell_type": "markdown",
   "id": "4cce4b8c",
   "metadata": {},
   "source": [
    "### Logical statements in Python"
   ]
  },
  {
   "cell_type": "code",
   "execution_count": 27,
   "id": "20110d4a",
   "metadata": {},
   "outputs": [],
   "source": [
    "question = 12 * 8\n",
    "solution = 96"
   ]
  },
  {
   "cell_type": "code",
   "execution_count": 28,
   "id": "e06aac38",
   "metadata": {},
   "outputs": [
    {
     "data": {
      "text/plain": [
       "True"
      ]
     },
     "execution_count": 28,
     "metadata": {},
     "output_type": "execute_result"
    }
   ],
   "source": [
    "question == solution"
   ]
  },
  {
   "cell_type": "markdown",
   "id": "6a47ce1d",
   "metadata": {},
   "source": [
    "Booleans: `True` and `False`\n"
   ]
  },
  {
   "cell_type": "markdown",
   "id": "8c95a5d9",
   "metadata": {},
   "source": [
    "#### Other types of logic\n",
    "\n",
    "`>, >=, <, <=`"
   ]
  },
  {
   "cell_type": "code",
   "execution_count": 29,
   "id": "fed121e7",
   "metadata": {},
   "outputs": [
    {
     "data": {
      "text/plain": [
       "False"
      ]
     },
     "execution_count": 29,
     "metadata": {},
     "output_type": "execute_result"
    }
   ],
   "source": [
    "price = 2.25\n",
    "price > 5.00"
   ]
  },
  {
   "cell_type": "markdown",
   "id": "12a8e12d",
   "metadata": {},
   "source": [
    "Not equal to `!=`"
   ]
  },
  {
   "cell_type": "code",
   "execution_count": 30,
   "id": "64028639",
   "metadata": {},
   "outputs": [
    {
     "data": {
      "text/plain": [
       "True"
      ]
     },
     "execution_count": 30,
     "metadata": {},
     "output_type": "execute_result"
    }
   ],
   "source": [
    "name = 'bayes'\n",
    "name != 'Bayes'"
   ]
  },
  {
   "cell_type": "markdown",
   "id": "e6685d3a",
   "metadata": {},
   "source": [
    "### Using logic with DataFrames"
   ]
  },
  {
   "cell_type": "code",
   "execution_count": 31,
   "id": "e0b8b53c",
   "metadata": {},
   "outputs": [
    {
     "data": {
      "text/plain": [
       "0      False\n",
       "1      False\n",
       "2      False\n",
       "3      False\n",
       "4      False\n",
       "       ...  \n",
       "100    False\n",
       "101    False\n",
       "102     True\n",
       "103    False\n",
       "104    False\n",
       "Name: price, Length: 105, dtype: bool"
      ]
     },
     "execution_count": 31,
     "metadata": {},
     "output_type": "execute_result"
    }
   ],
   "source": [
    "credit_records.price > 20.00"
   ]
  },
  {
   "cell_type": "markdown",
   "id": "b9c9ab26",
   "metadata": {},
   "source": [
    "### Using logic with DataFrames\n",
    "\n",
    "<img src = \"./media/logic_with_df.png\" width = 600 height = 600>"
   ]
  },
  {
   "cell_type": "code",
   "execution_count": 32,
   "id": "12d87279",
   "metadata": {},
   "outputs": [
    {
     "data": {
      "text/html": [
       "<div>\n",
       "<style scoped>\n",
       "    .dataframe tbody tr th:only-of-type {\n",
       "        vertical-align: middle;\n",
       "    }\n",
       "\n",
       "    .dataframe tbody tr th {\n",
       "        vertical-align: top;\n",
       "    }\n",
       "\n",
       "    .dataframe thead th {\n",
       "        text-align: right;\n",
       "    }\n",
       "</style>\n",
       "<table border=\"1\" class=\"dataframe\">\n",
       "  <thead>\n",
       "    <tr style=\"text-align: right;\">\n",
       "      <th></th>\n",
       "      <th>suspect</th>\n",
       "      <th>location</th>\n",
       "      <th>date</th>\n",
       "      <th>item</th>\n",
       "      <th>price</th>\n",
       "    </tr>\n",
       "  </thead>\n",
       "  <tbody>\n",
       "    <tr>\n",
       "      <th>28</th>\n",
       "      <td>Fred Frequentist</td>\n",
       "      <td>Clothing Club</td>\n",
       "      <td>3-Jan-18</td>\n",
       "      <td>dress</td>\n",
       "      <td>20.15</td>\n",
       "    </tr>\n",
       "    <tr>\n",
       "      <th>29</th>\n",
       "      <td>Kirstine Smith</td>\n",
       "      <td>Clothing Club</td>\n",
       "      <td>5-Jan-18</td>\n",
       "      <td>dress</td>\n",
       "      <td>20.15</td>\n",
       "    </tr>\n",
       "    <tr>\n",
       "      <th>33</th>\n",
       "      <td>Ronald Aylmer Fisher</td>\n",
       "      <td>Petroleum Plaza</td>\n",
       "      <td>7-Jan-18</td>\n",
       "      <td>gas</td>\n",
       "      <td>24.95</td>\n",
       "    </tr>\n",
       "    <tr>\n",
       "      <th>37</th>\n",
       "      <td>Fred Frequentist</td>\n",
       "      <td>Clothing Club</td>\n",
       "      <td>8-Jan-18</td>\n",
       "      <td>dress</td>\n",
       "      <td>20.15</td>\n",
       "    </tr>\n",
       "    <tr>\n",
       "      <th>40</th>\n",
       "      <td>Gertrude Cox</td>\n",
       "      <td>Clothing Club</td>\n",
       "      <td>1-Jan-18</td>\n",
       "      <td>dress</td>\n",
       "      <td>20.15</td>\n",
       "    </tr>\n",
       "    <tr>\n",
       "      <th>41</th>\n",
       "      <td>Kirstine Smith</td>\n",
       "      <td>Petroleum Plaza</td>\n",
       "      <td>5-Jan-18</td>\n",
       "      <td>gas</td>\n",
       "      <td>24.95</td>\n",
       "    </tr>\n",
       "    <tr>\n",
       "      <th>47</th>\n",
       "      <td>Ronald Aylmer Fisher</td>\n",
       "      <td>Petroleum Plaza</td>\n",
       "      <td>2-Jan-18</td>\n",
       "      <td>gas</td>\n",
       "      <td>24.95</td>\n",
       "    </tr>\n",
       "    <tr>\n",
       "      <th>48</th>\n",
       "      <td>Kirstine Smith</td>\n",
       "      <td>Clothing Club</td>\n",
       "      <td>8-Jan-18</td>\n",
       "      <td>dress</td>\n",
       "      <td>20.15</td>\n",
       "    </tr>\n",
       "    <tr>\n",
       "      <th>63</th>\n",
       "      <td>Gertrude Cox</td>\n",
       "      <td>Clothing Club</td>\n",
       "      <td>4-Jan-18</td>\n",
       "      <td>dress</td>\n",
       "      <td>20.15</td>\n",
       "    </tr>\n",
       "    <tr>\n",
       "      <th>69</th>\n",
       "      <td>Gertrude Cox</td>\n",
       "      <td>Clothing Club</td>\n",
       "      <td>6-Jan-18</td>\n",
       "      <td>dress</td>\n",
       "      <td>20.15</td>\n",
       "    </tr>\n",
       "    <tr>\n",
       "      <th>73</th>\n",
       "      <td>Ronald Aylmer Fisher</td>\n",
       "      <td>Petroleum Plaza</td>\n",
       "      <td>1-Jan-18</td>\n",
       "      <td>gas</td>\n",
       "      <td>24.95</td>\n",
       "    </tr>\n",
       "    <tr>\n",
       "      <th>77</th>\n",
       "      <td>Gertrude Cox</td>\n",
       "      <td>Clothing Club</td>\n",
       "      <td>10-Jan-18</td>\n",
       "      <td>dress</td>\n",
       "      <td>20.15</td>\n",
       "    </tr>\n",
       "    <tr>\n",
       "      <th>85</th>\n",
       "      <td>Gertrude Cox</td>\n",
       "      <td>Clothing Club</td>\n",
       "      <td>5-Jan-18</td>\n",
       "      <td>dress</td>\n",
       "      <td>20.15</td>\n",
       "    </tr>\n",
       "    <tr>\n",
       "      <th>88</th>\n",
       "      <td>Gertrude Cox</td>\n",
       "      <td>Petroleum Plaza</td>\n",
       "      <td>8-Jan-18</td>\n",
       "      <td>gas</td>\n",
       "      <td>24.95</td>\n",
       "    </tr>\n",
       "    <tr>\n",
       "      <th>90</th>\n",
       "      <td>Gertrude Cox</td>\n",
       "      <td>Petroleum Plaza</td>\n",
       "      <td>8-Jan-18</td>\n",
       "      <td>gas</td>\n",
       "      <td>24.95</td>\n",
       "    </tr>\n",
       "    <tr>\n",
       "      <th>102</th>\n",
       "      <td>Gertrude Cox</td>\n",
       "      <td>Clothing Club</td>\n",
       "      <td>9-Jan-18</td>\n",
       "      <td>dress</td>\n",
       "      <td>20.15</td>\n",
       "    </tr>\n",
       "  </tbody>\n",
       "</table>\n",
       "</div>"
      ],
      "text/plain": [
       "                  suspect         location       date   item  price\n",
       "28       Fred Frequentist    Clothing Club   3-Jan-18  dress  20.15\n",
       "29         Kirstine Smith    Clothing Club   5-Jan-18  dress  20.15\n",
       "33   Ronald Aylmer Fisher  Petroleum Plaza   7-Jan-18    gas  24.95\n",
       "37       Fred Frequentist    Clothing Club   8-Jan-18  dress  20.15\n",
       "40           Gertrude Cox    Clothing Club   1-Jan-18  dress  20.15\n",
       "41         Kirstine Smith  Petroleum Plaza   5-Jan-18    gas  24.95\n",
       "47   Ronald Aylmer Fisher  Petroleum Plaza   2-Jan-18    gas  24.95\n",
       "48         Kirstine Smith    Clothing Club   8-Jan-18  dress  20.15\n",
       "63           Gertrude Cox    Clothing Club   4-Jan-18  dress  20.15\n",
       "69           Gertrude Cox    Clothing Club   6-Jan-18  dress  20.15\n",
       "73   Ronald Aylmer Fisher  Petroleum Plaza   1-Jan-18    gas  24.95\n",
       "77           Gertrude Cox    Clothing Club  10-Jan-18  dress  20.15\n",
       "85           Gertrude Cox    Clothing Club   5-Jan-18  dress  20.15\n",
       "88           Gertrude Cox  Petroleum Plaza   8-Jan-18    gas  24.95\n",
       "90           Gertrude Cox  Petroleum Plaza   8-Jan-18    gas  24.95\n",
       "102          Gertrude Cox    Clothing Club   9-Jan-18  dress  20.15"
      ]
     },
     "execution_count": 32,
     "metadata": {},
     "output_type": "execute_result"
    }
   ],
   "source": [
    "credit_records[credit_records.price > 20.00]"
   ]
  },
  {
   "cell_type": "code",
   "execution_count": 33,
   "id": "6d334805",
   "metadata": {},
   "outputs": [
    {
     "data": {
      "text/html": [
       "<div>\n",
       "<style scoped>\n",
       "    .dataframe tbody tr th:only-of-type {\n",
       "        vertical-align: middle;\n",
       "    }\n",
       "\n",
       "    .dataframe tbody tr th {\n",
       "        vertical-align: top;\n",
       "    }\n",
       "\n",
       "    .dataframe thead th {\n",
       "        text-align: right;\n",
       "    }\n",
       "</style>\n",
       "<table border=\"1\" class=\"dataframe\">\n",
       "  <thead>\n",
       "    <tr style=\"text-align: right;\">\n",
       "      <th></th>\n",
       "      <th>suspect</th>\n",
       "      <th>location</th>\n",
       "      <th>date</th>\n",
       "      <th>item</th>\n",
       "      <th>price</th>\n",
       "    </tr>\n",
       "  </thead>\n",
       "  <tbody>\n",
       "    <tr>\n",
       "      <th>7</th>\n",
       "      <td>Ronald Aylmer Fisher</td>\n",
       "      <td>Clothing Club</td>\n",
       "      <td>8-Jan-18</td>\n",
       "      <td>pants</td>\n",
       "      <td>12.05</td>\n",
       "    </tr>\n",
       "    <tr>\n",
       "      <th>8</th>\n",
       "      <td>Ronald Aylmer Fisher</td>\n",
       "      <td>Clothing Club</td>\n",
       "      <td>13-Jan-18</td>\n",
       "      <td>shirt</td>\n",
       "      <td>14.25</td>\n",
       "    </tr>\n",
       "    <tr>\n",
       "      <th>12</th>\n",
       "      <td>Ronald Aylmer Fisher</td>\n",
       "      <td>Petroleum Plaza</td>\n",
       "      <td>10-Jan-18</td>\n",
       "      <td>carwash</td>\n",
       "      <td>13.25</td>\n",
       "    </tr>\n",
       "    <tr>\n",
       "      <th>22</th>\n",
       "      <td>Ronald Aylmer Fisher</td>\n",
       "      <td>Groceries R Us</td>\n",
       "      <td>13-Jan-18</td>\n",
       "      <td>eggs</td>\n",
       "      <td>6.50</td>\n",
       "    </tr>\n",
       "    <tr>\n",
       "      <th>26</th>\n",
       "      <td>Ronald Aylmer Fisher</td>\n",
       "      <td>Burger Mart</td>\n",
       "      <td>8-Jan-18</td>\n",
       "      <td>fries</td>\n",
       "      <td>1.95</td>\n",
       "    </tr>\n",
       "    <tr>\n",
       "      <th>33</th>\n",
       "      <td>Ronald Aylmer Fisher</td>\n",
       "      <td>Petroleum Plaza</td>\n",
       "      <td>7-Jan-18</td>\n",
       "      <td>gas</td>\n",
       "      <td>24.95</td>\n",
       "    </tr>\n",
       "    <tr>\n",
       "      <th>34</th>\n",
       "      <td>Ronald Aylmer Fisher</td>\n",
       "      <td>Groceries R Us</td>\n",
       "      <td>6-Jan-18</td>\n",
       "      <td>cucumbers</td>\n",
       "      <td>2.05</td>\n",
       "    </tr>\n",
       "    <tr>\n",
       "      <th>39</th>\n",
       "      <td>Ronald Aylmer Fisher</td>\n",
       "      <td>Groceries R Us</td>\n",
       "      <td>2-Jan-18</td>\n",
       "      <td>eggs</td>\n",
       "      <td>6.50</td>\n",
       "    </tr>\n",
       "    <tr>\n",
       "      <th>43</th>\n",
       "      <td>Ronald Aylmer Fisher</td>\n",
       "      <td>Petroleum Plaza</td>\n",
       "      <td>14-Jan-18</td>\n",
       "      <td>fizzy drink</td>\n",
       "      <td>1.90</td>\n",
       "    </tr>\n",
       "    <tr>\n",
       "      <th>44</th>\n",
       "      <td>Ronald Aylmer Fisher</td>\n",
       "      <td>Petroleum Plaza</td>\n",
       "      <td>5-Jan-18</td>\n",
       "      <td>fizzy drink</td>\n",
       "      <td>1.90</td>\n",
       "    </tr>\n",
       "    <tr>\n",
       "      <th>46</th>\n",
       "      <td>Ronald Aylmer Fisher</td>\n",
       "      <td>Groceries R Us</td>\n",
       "      <td>9-Jan-18</td>\n",
       "      <td>cucumbers</td>\n",
       "      <td>2.05</td>\n",
       "    </tr>\n",
       "    <tr>\n",
       "      <th>47</th>\n",
       "      <td>Ronald Aylmer Fisher</td>\n",
       "      <td>Petroleum Plaza</td>\n",
       "      <td>2-Jan-18</td>\n",
       "      <td>gas</td>\n",
       "      <td>24.95</td>\n",
       "    </tr>\n",
       "    <tr>\n",
       "      <th>62</th>\n",
       "      <td>Ronald Aylmer Fisher</td>\n",
       "      <td>Petroleum Plaza</td>\n",
       "      <td>6-Jan-18</td>\n",
       "      <td>fizzy drink</td>\n",
       "      <td>1.90</td>\n",
       "    </tr>\n",
       "    <tr>\n",
       "      <th>64</th>\n",
       "      <td>Ronald Aylmer Fisher</td>\n",
       "      <td>Groceries R Us</td>\n",
       "      <td>8-Jan-18</td>\n",
       "      <td>milk</td>\n",
       "      <td>4.25</td>\n",
       "    </tr>\n",
       "    <tr>\n",
       "      <th>65</th>\n",
       "      <td>Ronald Aylmer Fisher</td>\n",
       "      <td>Petroleum Plaza</td>\n",
       "      <td>13-Jan-18</td>\n",
       "      <td>fizzy drink</td>\n",
       "      <td>1.90</td>\n",
       "    </tr>\n",
       "    <tr>\n",
       "      <th>68</th>\n",
       "      <td>Ronald Aylmer Fisher</td>\n",
       "      <td>Burger Mart</td>\n",
       "      <td>14-Jan-18</td>\n",
       "      <td>fries</td>\n",
       "      <td>1.95</td>\n",
       "    </tr>\n",
       "    <tr>\n",
       "      <th>72</th>\n",
       "      <td>Ronald Aylmer Fisher</td>\n",
       "      <td>Groceries R Us</td>\n",
       "      <td>7-Jan-18</td>\n",
       "      <td>cucumbers</td>\n",
       "      <td>2.05</td>\n",
       "    </tr>\n",
       "    <tr>\n",
       "      <th>73</th>\n",
       "      <td>Ronald Aylmer Fisher</td>\n",
       "      <td>Petroleum Plaza</td>\n",
       "      <td>1-Jan-18</td>\n",
       "      <td>gas</td>\n",
       "      <td>24.95</td>\n",
       "    </tr>\n",
       "    <tr>\n",
       "      <th>81</th>\n",
       "      <td>Ronald Aylmer Fisher</td>\n",
       "      <td>Clothing Club</td>\n",
       "      <td>13-Jan-18</td>\n",
       "      <td>pants</td>\n",
       "      <td>12.05</td>\n",
       "    </tr>\n",
       "    <tr>\n",
       "      <th>83</th>\n",
       "      <td>Ronald Aylmer Fisher</td>\n",
       "      <td>Clothing Club</td>\n",
       "      <td>6-Jan-18</td>\n",
       "      <td>shirt</td>\n",
       "      <td>14.25</td>\n",
       "    </tr>\n",
       "    <tr>\n",
       "      <th>84</th>\n",
       "      <td>Ronald Aylmer Fisher</td>\n",
       "      <td>Burger Mart</td>\n",
       "      <td>2-Jan-18</td>\n",
       "      <td>fries</td>\n",
       "      <td>1.95</td>\n",
       "    </tr>\n",
       "    <tr>\n",
       "      <th>86</th>\n",
       "      <td>Ronald Aylmer Fisher</td>\n",
       "      <td>Clothing Club</td>\n",
       "      <td>3-Jan-18</td>\n",
       "      <td>pants</td>\n",
       "      <td>12.05</td>\n",
       "    </tr>\n",
       "    <tr>\n",
       "      <th>89</th>\n",
       "      <td>Ronald Aylmer Fisher</td>\n",
       "      <td>Burger Mart</td>\n",
       "      <td>8-Jan-18</td>\n",
       "      <td>fries</td>\n",
       "      <td>1.95</td>\n",
       "    </tr>\n",
       "    <tr>\n",
       "      <th>94</th>\n",
       "      <td>Ronald Aylmer Fisher</td>\n",
       "      <td>Groceries R Us</td>\n",
       "      <td>10-Jan-18</td>\n",
       "      <td>milk</td>\n",
       "      <td>4.25</td>\n",
       "    </tr>\n",
       "    <tr>\n",
       "      <th>95</th>\n",
       "      <td>Ronald Aylmer Fisher</td>\n",
       "      <td>Petroleum Plaza</td>\n",
       "      <td>9-Jan-18</td>\n",
       "      <td>fizzy drink</td>\n",
       "      <td>1.90</td>\n",
       "    </tr>\n",
       "    <tr>\n",
       "      <th>99</th>\n",
       "      <td>Ronald Aylmer Fisher</td>\n",
       "      <td>Clothing Club</td>\n",
       "      <td>12-Jan-18</td>\n",
       "      <td>pants</td>\n",
       "      <td>12.05</td>\n",
       "    </tr>\n",
       "    <tr>\n",
       "      <th>104</th>\n",
       "      <td>Ronald Aylmer Fisher</td>\n",
       "      <td>Groceries R Us</td>\n",
       "      <td>11-Jan-18</td>\n",
       "      <td>cucumbers</td>\n",
       "      <td>2.05</td>\n",
       "    </tr>\n",
       "  </tbody>\n",
       "</table>\n",
       "</div>"
      ],
      "text/plain": [
       "                  suspect         location       date         item  price\n",
       "7    Ronald Aylmer Fisher    Clothing Club   8-Jan-18        pants  12.05\n",
       "8    Ronald Aylmer Fisher    Clothing Club  13-Jan-18        shirt  14.25\n",
       "12   Ronald Aylmer Fisher  Petroleum Plaza  10-Jan-18      carwash  13.25\n",
       "22   Ronald Aylmer Fisher   Groceries R Us  13-Jan-18         eggs   6.50\n",
       "26   Ronald Aylmer Fisher      Burger Mart   8-Jan-18        fries   1.95\n",
       "33   Ronald Aylmer Fisher  Petroleum Plaza   7-Jan-18          gas  24.95\n",
       "34   Ronald Aylmer Fisher   Groceries R Us   6-Jan-18    cucumbers   2.05\n",
       "39   Ronald Aylmer Fisher   Groceries R Us   2-Jan-18         eggs   6.50\n",
       "43   Ronald Aylmer Fisher  Petroleum Plaza  14-Jan-18  fizzy drink   1.90\n",
       "44   Ronald Aylmer Fisher  Petroleum Plaza   5-Jan-18  fizzy drink   1.90\n",
       "46   Ronald Aylmer Fisher   Groceries R Us   9-Jan-18    cucumbers   2.05\n",
       "47   Ronald Aylmer Fisher  Petroleum Plaza   2-Jan-18          gas  24.95\n",
       "62   Ronald Aylmer Fisher  Petroleum Plaza   6-Jan-18  fizzy drink   1.90\n",
       "64   Ronald Aylmer Fisher   Groceries R Us   8-Jan-18         milk   4.25\n",
       "65   Ronald Aylmer Fisher  Petroleum Plaza  13-Jan-18  fizzy drink   1.90\n",
       "68   Ronald Aylmer Fisher      Burger Mart  14-Jan-18        fries   1.95\n",
       "72   Ronald Aylmer Fisher   Groceries R Us   7-Jan-18    cucumbers   2.05\n",
       "73   Ronald Aylmer Fisher  Petroleum Plaza   1-Jan-18          gas  24.95\n",
       "81   Ronald Aylmer Fisher    Clothing Club  13-Jan-18        pants  12.05\n",
       "83   Ronald Aylmer Fisher    Clothing Club   6-Jan-18        shirt  14.25\n",
       "84   Ronald Aylmer Fisher      Burger Mart   2-Jan-18        fries   1.95\n",
       "86   Ronald Aylmer Fisher    Clothing Club   3-Jan-18        pants  12.05\n",
       "89   Ronald Aylmer Fisher      Burger Mart   8-Jan-18        fries   1.95\n",
       "94   Ronald Aylmer Fisher   Groceries R Us  10-Jan-18         milk   4.25\n",
       "95   Ronald Aylmer Fisher  Petroleum Plaza   9-Jan-18  fizzy drink   1.90\n",
       "99   Ronald Aylmer Fisher    Clothing Club  12-Jan-18        pants  12.05\n",
       "104  Ronald Aylmer Fisher   Groceries R Us  11-Jan-18    cucumbers   2.05"
      ]
     },
     "execution_count": 33,
     "metadata": {},
     "output_type": "execute_result"
    }
   ],
   "source": [
    "credit_records[credit_records.suspect == 'Ronald Aylmer Fisher']"
   ]
  },
  {
   "cell_type": "markdown",
   "id": "23e64c65",
   "metadata": {},
   "source": [
    "# Part-3 Ploting Data With matplotlib"
   ]
  },
  {
   "cell_type": "markdown",
   "id": "f78c3d11",
   "metadata": {},
   "source": [
    "### Creating line plots"
   ]
  },
  {
   "cell_type": "markdown",
   "id": "8a960882",
   "metadata": {},
   "source": [
    "### The plot thickens\n",
    "<img src = \"./media/part3_1.png\" width = 600 height = 600>"
   ]
  },
  {
   "cell_type": "markdown",
   "id": "b6d35b3f",
   "metadata": {},
   "source": [
    "### From DataFrame to Visualization\n",
    "<img src = \"./media/df_2_vis.png\" width = 700 height = 700>"
   ]
  },
  {
   "cell_type": "markdown",
   "id": "6b4af5e8",
   "metadata": {},
   "source": [
    "### Introducing Matplotlib"
   ]
  },
  {
   "cell_type": "code",
   "execution_count": 21,
   "id": "534c9e2a",
   "metadata": {},
   "outputs": [
    {
     "data": {
      "image/png": "[encoded data removed]",
      "text/plain": [
       "<Figure size 432x288 with 1 Axes>"
      ]
     },
     "metadata": {
      "needs_background": "light"
     },
     "output_type": "display_data"
    }
   ],
   "source": [
    "# Matplotlib plots and displays\n",
    "plt.plot(df.day_of_week, df.hours_worked)\n",
    "plt.show()"
   ]
  },
  {
   "cell_type": "code",
   "execution_count": null,
   "id": "f53129f0",
   "metadata": {},
   "outputs": [],
   "source": []
  }
 ],
 "metadata": {
  "kernelspec": {
   "display_name": "Python 3",
   "language": "python",
   "name": "python3"
  },
  "language_info": {
   "codemirror_mode": {
    "name": "ipython",
    "version": 3
   },
   "file_extension": ".py",
   "mimetype": "text/x-python",
   "name": "python",
   "nbconvert_exporter": "python",
   "pygments_lexer": "ipython3",
   "version": "3.8.8"
  }
 },
 "nbformat": 4,
 "nbformat_minor": 5
}
