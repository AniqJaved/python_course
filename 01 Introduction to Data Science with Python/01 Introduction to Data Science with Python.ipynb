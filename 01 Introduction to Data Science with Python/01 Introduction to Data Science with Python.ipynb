{
 "cells": [
  {
   "cell_type": "markdown",
   "id": "301e45b1",
   "metadata": {},
   "source": [
    "## What you'll learn\n",
    "\n",
    "### Getting started with Python\n",
    "\n",
    "- How to write & Execute code on [Jupyter Notebook](https://jupyter.org/) a Distribution of [Anaconda](https://www.anaconda.com/)\n",
    "- How to load data from spreadsheet.\n",
    "- How to turn data into beautiful plots\n",
    "\n",
    "### Loading data in Pandas\n",
    "\n",
    "- What is pandas ?\n",
    "- Selecting Columns.\n",
    "- Selecting rows with logic.\n",
    "\n",
    "### Ploting Data With matplotlib\n",
    "\n",
    "- Creating line plot\n",
    "- Adding labels & legneds\n",
    "- Adding some style\n",
    "- \n",
    "\n",
    "### Different Types of Plots\n",
    "\n",
    "- jel\n"
   ]
  },
  {
   "cell_type": "markdown",
   "id": "328fc9ca",
   "metadata": {},
   "source": [
    "<img src= \"./media/ramson_notes.png\" width = 500 height = 300>"
   ]
  },
  {
   "cell_type": "markdown",
   "id": "8b1e554e",
   "metadata": {},
   "source": [
    "## Jupyter Notebook\n",
    "- [How to use Jupyter Notebook](https://www.codecademy.com/articles/how-to-use-jupyter-notebooks)"
   ]
  },
  {
   "cell_type": "markdown",
   "id": "d69c4b1a",
   "metadata": {},
   "source": [
    "## What is Module ?\n",
    "\n",
    "- Groups related tools together\n",
    "- Makes it easy to know where to look for a particular tool\n",
    "- Common examples:\n",
    "    - `matplotlib`\n",
    "    - `pandas`\n",
    "    - `scikit-learn`\n",
    "    - `scipy`\n",
    "    - `nltk`\n"
   ]
  },
  {
   "cell_type": "markdown",
   "id": "cc5c3f46",
   "metadata": {},
   "source": [
    "- `importing module`"
   ]
  },
  {
   "cell_type": "code",
   "execution_count": 5,
   "id": "bec27e15",
   "metadata": {},
   "outputs": [],
   "source": [
    "import pandas"
   ]
  },
  {
   "cell_type": "markdown",
   "id": "2c87e740",
   "metadata": {},
   "source": [
    "- `importing module as alias`"
   ]
  },
  {
   "cell_type": "code",
   "execution_count": 1,
   "id": "f40780d7",
   "metadata": {},
   "outputs": [],
   "source": [
    "import pandas as pd"
   ]
  },
  {
   "cell_type": "markdown",
   "id": "b1616746",
   "metadata": {},
   "source": [
    "- `importing submodule`"
   ]
  },
  {
   "cell_type": "code",
   "execution_count": 2,
   "id": "fd22cc7f",
   "metadata": {},
   "outputs": [],
   "source": [
    "from matplotlib import pyplot as plt"
   ]
  },
  {
   "cell_type": "markdown",
   "id": "00c3a4a5",
   "metadata": {},
   "source": [
    "### Importing pandas and matplotlib"
   ]
  },
  {
   "cell_type": "code",
   "execution_count": 12,
   "id": "1120ad68",
   "metadata": {},
   "outputs": [
    {
     "data": {
      "text/html": [
       "<div>\n",
       "<style scoped>\n",
       "    .dataframe tbody tr th:only-of-type {\n",
       "        vertical-align: middle;\n",
       "    }\n",
       "\n",
       "    .dataframe tbody tr th {\n",
       "        vertical-align: top;\n",
       "    }\n",
       "\n",
       "    .dataframe thead th {\n",
       "        text-align: right;\n",
       "    }\n",
       "</style>\n",
       "<table border=\"1\" class=\"dataframe\">\n",
       "  <thead>\n",
       "    <tr style=\"text-align: right;\">\n",
       "      <th></th>\n",
       "      <th>letter_index</th>\n",
       "      <th>letter</th>\n",
       "      <th>frequency</th>\n",
       "    </tr>\n",
       "  </thead>\n",
       "  <tbody>\n",
       "    <tr>\n",
       "      <th>0</th>\n",
       "      <td>1</td>\n",
       "      <td>A</td>\n",
       "      <td>7.38</td>\n",
       "    </tr>\n",
       "    <tr>\n",
       "      <th>1</th>\n",
       "      <td>2</td>\n",
       "      <td>B</td>\n",
       "      <td>1.09</td>\n",
       "    </tr>\n",
       "    <tr>\n",
       "      <th>2</th>\n",
       "      <td>3</td>\n",
       "      <td>C</td>\n",
       "      <td>2.46</td>\n",
       "    </tr>\n",
       "    <tr>\n",
       "      <th>3</th>\n",
       "      <td>4</td>\n",
       "      <td>D</td>\n",
       "      <td>4.10</td>\n",
       "    </tr>\n",
       "    <tr>\n",
       "      <th>4</th>\n",
       "      <td>5</td>\n",
       "      <td>E</td>\n",
       "      <td>12.84</td>\n",
       "    </tr>\n",
       "  </tbody>\n",
       "</table>\n",
       "</div>"
      ],
      "text/plain": [
       "   letter_index letter  frequency\n",
       "0             1      A       7.38\n",
       "1             2      B       1.09\n",
       "2             3      C       2.46\n",
       "3             4      D       4.10\n",
       "4             5      E      12.84"
      ]
     },
     "execution_count": 12,
     "metadata": {},
     "output_type": "execute_result"
    }
   ],
   "source": [
    "# Pandas loads our data\n",
    "ransom = pd.read_excel('./dataset/ramson.xlsx')\n",
    "ransom.head()"
   ]
  },
  {
   "cell_type": "code",
   "execution_count": 13,
   "id": "0a3a5ee7",
   "metadata": {},
   "outputs": [
    {
     "data": {
      "image/png": "[encoded data removed]",
      "text/plain": [
       "<Figure size 432x288 with 1 Axes>"
      ]
     },
     "metadata": {
      "needs_background": "light"
     },
     "output_type": "display_data"
    }
   ],
   "source": [
    "# Matplotlib plots and displays\n",
    "plt.plot(ransom.letter, ransom.frequency)\n",
    "plt.show()"
   ]
  },
  {
   "cell_type": "markdown",
   "id": "76bfe5c7",
   "metadata": {},
   "source": [
    "### Creating variables\n",
    "\n",
    "####  Filing a missing puppy report\n",
    "\n",
    "<img src = \"./media/report filling.png\" width = 200 height = 200>"
   ]
  },
  {
   "cell_type": "code",
   "execution_count": 28,
   "id": "84be8804",
   "metadata": {},
   "outputs": [],
   "source": [
    "name = \"Bayes\"\n",
    "height = 24\n",
    "weight = 75.5"
   ]
  },
  {
   "cell_type": "markdown",
   "id": "eaf08d41",
   "metadata": {},
   "source": [
    "### Rules for variable names\n",
    "\n",
    "- Must start with a letter (usually lowercase).\n",
    "- No space or special character.\n",
    "- After First letter you can use letter/number/underscore.\n",
    "- Case sensitive `my_var` is different then `My_Var`"
   ]
  },
  {
   "cell_type": "markdown",
   "id": "3dc7b7d2",
   "metadata": {},
   "source": [
    "#### Valid Variables"
   ]
  },
  {
   "cell_type": "code",
   "execution_count": 29,
   "id": "f67f6270",
   "metadata": {},
   "outputs": [],
   "source": [
    "bayes_weight = 23\n",
    "b = 2\n",
    "bayes42 = 43"
   ]
  },
  {
   "cell_type": "markdown",
   "id": "d9872c1d",
   "metadata": {},
   "source": [
    "#### Invalid valiables "
   ]
  },
  {
   "cell_type": "code",
   "execution_count": 30,
   "id": "5ba14275",
   "metadata": {},
   "outputs": [
    {
     "ename": "SyntaxError",
     "evalue": "cannot assign to operator (<ipython-input-30-04b4c9cfade7>, line 1)",
     "output_type": "error",
     "traceback": [
      "\u001b[1;36m  File \u001b[1;32m\"<ipython-input-30-04b4c9cfade7>\"\u001b[1;36m, line \u001b[1;32m1\u001b[0m\n\u001b[1;33m    bay-weight = 24\u001b[0m\n\u001b[1;37m    ^\u001b[0m\n\u001b[1;31mSyntaxError\u001b[0m\u001b[1;31m:\u001b[0m cannot assign to operator\n"
     ]
    }
   ],
   "source": [
    "bay-weight = 24"
   ]
  },
  {
   "cell_type": "code",
   "execution_count": 31,
   "id": "3b4596c3",
   "metadata": {},
   "outputs": [
    {
     "ename": "SyntaxError",
     "evalue": "invalid syntax (<ipython-input-31-5c1ae0ebb7ff>, line 1)",
     "output_type": "error",
     "traceback": [
      "\u001b[1;36m  File \u001b[1;32m\"<ipython-input-31-5c1ae0ebb7ff>\"\u001b[1;36m, line \u001b[1;32m1\u001b[0m\n\u001b[1;33m    bayes!\u001b[0m\n\u001b[1;37m         ^\u001b[0m\n\u001b[1;31mSyntaxError\u001b[0m\u001b[1;31m:\u001b[0m invalid syntax\n"
     ]
    }
   ],
   "source": [
    "bayes!"
   ]
  },
  {
   "cell_type": "code",
   "execution_count": 32,
   "id": "0f5ded9f",
   "metadata": {},
   "outputs": [
    {
     "ename": "SyntaxError",
     "evalue": "invalid syntax (<ipython-input-32-952b0912fb03>, line 1)",
     "output_type": "error",
     "traceback": [
      "\u001b[1;36m  File \u001b[1;32m\"<ipython-input-32-952b0912fb03>\"\u001b[1;36m, line \u001b[1;32m1\u001b[0m\n\u001b[1;33m    42bayes\u001b[0m\n\u001b[1;37m      ^\u001b[0m\n\u001b[1;31mSyntaxError\u001b[0m\u001b[1;31m:\u001b[0m invalid syntax\n"
     ]
    }
   ],
   "source": [
    "42bayes"
   ]
  },
  {
   "cell_type": "markdown",
   "id": "15c39ec6",
   "metadata": {},
   "source": [
    "### Floats and strings\n",
    "\n",
    "- ***floats:*** represents an integer or decimal number"
   ]
  },
  {
   "cell_type": "code",
   "execution_count": 33,
   "id": "90a8c7b0",
   "metadata": {},
   "outputs": [],
   "source": [
    "height = 24\n",
    "weight = 75.5"
   ]
  },
  {
   "cell_type": "markdown",
   "id": "1f9370cc",
   "metadata": {},
   "source": [
    "- ***string:*** reperesent text: can contain letters, number , space & special characters "
   ]
  },
  {
   "cell_type": "code",
   "execution_count": 34,
   "id": "69229faa",
   "metadata": {},
   "outputs": [],
   "source": [
    "name = 'Bayes'\n",
    "breed = \"Golden Retiever\""
   ]
  },
  {
   "cell_type": "markdown",
   "id": "4a26da36",
   "metadata": {},
   "source": [
    "#### Common string mistakes\n",
    "\n",
    "- Without quotes, you'll get a name error."
   ]
  },
  {
   "cell_type": "code",
   "execution_count": 35,
   "id": "9a66361a",
   "metadata": {},
   "outputs": [
    {
     "ename": "NameError",
     "evalue": "name 'Qasim_Hassan' is not defined",
     "output_type": "error",
     "traceback": [
      "\u001b[1;31m---------------------------------------------------------------------------\u001b[0m",
      "\u001b[1;31mNameError\u001b[0m                                 Traceback (most recent call last)",
      "\u001b[1;32m<ipython-input-35-56280dbccc88>\u001b[0m in \u001b[0;36m<module>\u001b[1;34m\u001b[0m\n\u001b[1;32m----> 1\u001b[1;33m \u001b[0mowner\u001b[0m \u001b[1;33m=\u001b[0m \u001b[0mQasim_Hassan\u001b[0m\u001b[1;33m\u001b[0m\u001b[1;33m\u001b[0m\u001b[0m\n\u001b[0m",
      "\u001b[1;31mNameError\u001b[0m: name 'Qasim_Hassan' is not defined"
     ]
    }
   ],
   "source": [
    "owner = Qasim_Hassan"
   ]
  },
  {
   "cell_type": "markdown",
   "id": "283a0aa4",
   "metadata": {},
   "source": [
    "- If you use different quotation marks,  you'll get a syntax error"
   ]
  },
  {
   "cell_type": "code",
   "execution_count": 36,
   "id": "9d3b5dc2",
   "metadata": {},
   "outputs": [
    {
     "ename": "SyntaxError",
     "evalue": "EOL while scanning string literal (<ipython-input-36-1195f9f3e594>, line 1)",
     "output_type": "error",
     "traceback": [
      "\u001b[1;36m  File \u001b[1;32m\"<ipython-input-36-1195f9f3e594>\"\u001b[1;36m, line \u001b[1;32m1\u001b[0m\n\u001b[1;33m    fur_color = \"blonde'\u001b[0m\n\u001b[1;37m                        ^\u001b[0m\n\u001b[1;31mSyntaxError\u001b[0m\u001b[1;31m:\u001b[0m EOL while scanning string literal\n"
     ]
    }
   ],
   "source": [
    "fur_color = \"blonde'"
   ]
  },
  {
   "cell_type": "markdown",
   "id": "aa79bc61",
   "metadata": {},
   "source": [
    "### Displaying variables"
   ]
  },
  {
   "cell_type": "code",
   "execution_count": 37,
   "id": "bddf0b17",
   "metadata": {},
   "outputs": [
    {
     "name": "stdout",
     "output_type": "stream",
     "text": [
      "24\n"
     ]
    },
    {
     "data": {
      "text/plain": [
       "75"
      ]
     },
     "execution_count": 37,
     "metadata": {},
     "output_type": "execute_result"
    }
   ],
   "source": [
    "name = \"Bayes\"\n",
    "height = 24\n",
    "weight = 75\n",
    "\n",
    "print(height)\n",
    "weight"
   ]
  },
  {
   "cell_type": "code",
   "execution_count": 38,
   "id": "1b81211e",
   "metadata": {},
   "outputs": [
    {
     "name": "stdout",
     "output_type": "stream",
     "text": [
      "Bayes 24 75\n"
     ]
    }
   ],
   "source": [
    "print(name, height, weight)"
   ]
  },
  {
   "cell_type": "code",
   "execution_count": 39,
   "id": "7d4b2dea",
   "metadata": {},
   "outputs": [
    {
     "name": "stdout",
     "output_type": "stream",
     "text": [
      "Bayes + 24 + 75\n"
     ]
    }
   ],
   "source": [
    "print(name, height, weight, sep=' + ')"
   ]
  },
  {
   "cell_type": "code",
   "execution_count": 40,
   "id": "b30bd768",
   "metadata": {},
   "outputs": [
    {
     "name": "stdout",
     "output_type": "stream",
     "text": [
      "Bayes 24 75 <= line Ends Here =>"
     ]
    }
   ],
   "source": [
    "print(name, height, weight, end=' <= line Ends Here =>')"
   ]
  },
  {
   "cell_type": "markdown",
   "id": "25f654ae",
   "metadata": {},
   "source": [
    "## What is Function ?\n",
    "\n",
    "- A function is an action"
   ]
  },
  {
   "cell_type": "markdown",
   "id": "ac9a62be",
   "metadata": {},
   "source": [
    "<img src = \"./media/function.png\" width = 400 height = 400>"
   ]
  },
  {
   "cell_type": "markdown",
   "id": "1cdd2eaa",
   "metadata": {},
   "source": [
    "#### Functions in code"
   ]
  },
  {
   "cell_type": "code",
   "execution_count": 20,
   "id": "9b6e3fc9",
   "metadata": {},
   "outputs": [
    {
     "data": {
      "image/png": "[encoded data removed]",
      "text/plain": [
       "<Figure size 432x288 with 1 Axes>"
      ]
     },
     "metadata": {
      "needs_background": "light"
     },
     "output_type": "display_data"
    }
   ],
   "source": [
    "import pandas as pd\n",
    "from matplotlib import pyplot as plt\n",
    "\n",
    "df = pd.read_csv('./dataset/deshaun.csv')\n",
    "plt.plot(df.day_of_week, df.hours_worked, label = 'Officer Deshuan', marker = \"s\", color= 'y')\n",
    "plt.legend()\n",
    "plt.show()"
   ]
  },
  {
   "cell_type": "markdown",
   "id": "736b12df",
   "metadata": {},
   "source": [
    "#### Functions perform actions:\n",
    "\n",
    "- `pd.read_csv()` turns a csv file into a table in python.\n",
    "- `plt.plot()` turn data into line plot.\n",
    "- `plt.show()` display plots into new window.\n",
    "- `plt.legned()` tells us the data representation."
   ]
  },
  {
   "cell_type": "markdown",
   "id": "68a33af1",
   "metadata": {},
   "source": [
    "<img src = \"./media/function arguments.png\">"
   ]
  },
  {
   "cell_type": "markdown",
   "id": "769832e9",
   "metadata": {},
   "source": [
    "- Lets consider this is below given is the data"
   ]
  },
  {
   "cell_type": "markdown",
   "id": "86042679",
   "metadata": {},
   "source": [
    "<img src = \"./media/table_1.png\" width = 300 height = 300>"
   ]
  },
  {
   "cell_type": "markdown",
   "id": "660849f2",
   "metadata": {},
   "source": [
    "- below given is the result of the above data"
   ]
  },
  {
   "cell_type": "markdown",
   "id": "7491c2fa",
   "metadata": {},
   "source": [
    "<img src = \"./media/result.png\">"
   ]
  },
  {
   "cell_type": "markdown",
   "id": "cbaccfe2",
   "metadata": {},
   "source": [
    "## Anatomy of a function: function name"
   ]
  },
  {
   "cell_type": "markdown",
   "id": "16a4aec9",
   "metadata": {},
   "source": [
    "<img src = \"./media/function_name.png\">"
   ]
  },
  {
   "cell_type": "markdown",
   "id": "ee40f50a",
   "metadata": {},
   "source": [
    "### Function Name:\n",
    "- Starts with the module that the function \"lives\" in ( `plt` )\n",
    "- Followed by the name of the function ( `plot` )\n",
    "- Function name is always followed by parentheses `()`"
   ]
  },
  {
   "cell_type": "markdown",
   "id": "ba96ae26",
   "metadata": {},
   "source": [
    "## Anatomy of a function: positional arguments"
   ]
  },
  {
   "cell_type": "markdown",
   "id": "71b458a5",
   "metadata": {},
   "source": [
    "<img src = \"./media/positonal_arguments.png\">"
   ]
  },
  {
   "cell_type": "markdown",
   "id": "e2e6969a",
   "metadata": {},
   "source": [
    "### Positional Arguments:\n",
    "- These are ***inputs*** to a function; they tell the function how to do its job\n",
    "- Order matters!"
   ]
  },
  {
   "cell_type": "markdown",
   "id": "cfa3739f",
   "metadata": {},
   "source": [
    "## Anatomy of a function: keyword arguments"
   ]
  },
  {
   "cell_type": "markdown",
   "id": "03456093",
   "metadata": {},
   "source": [
    "<img src = \"./media/keyword_argument.png\">"
   ]
  },
  {
   "cell_type": "markdown",
   "id": "5869e36f",
   "metadata": {},
   "source": [
    "Keyword Arguments:\n",
    "- Must come ***after*** positional arguments\n",
    "= Start with the name of the argument ( `label` ), then an equals\n",
    "sign ( `=` )\n",
    "- Followed by the argument ( `Ransom` )"
   ]
  },
  {
   "cell_type": "markdown",
   "id": "1ad18043",
   "metadata": {},
   "source": [
    "## Common function errors\n",
    "\n",
    "- Missing commas between arguments"
   ]
  },
  {
   "cell_type": "markdown",
   "id": "ad393a17",
   "metadata": {},
   "source": [
    "<img src = \"./media/missing_commas.png\">"
   ]
  },
  {
   "cell_type": "markdown",
   "id": "12bca4da",
   "metadata": {},
   "source": [
    "- Missing closed parenthesis"
   ]
  },
  {
   "cell_type": "markdown",
   "id": "8956df27",
   "metadata": {},
   "source": [
    "<img src = \"./media/closed_paranthesis.png\">"
   ]
  },
  {
   "cell_type": "markdown",
   "id": "fd420d1c",
   "metadata": {},
   "source": [
    "# Part-2 Loading data from pandas"
   ]
  },
  {
   "cell_type": "markdown",
   "id": "55b5fcd9",
   "metadata": {},
   "source": [
    "## What can pandas do for you?\n",
    "- Loading tabular data from differenct resources.\n",
    "- Search for particular rows or columns\n",
    "- Calculate aggregate statistics\n",
    "- Combining data from multiple sources"
   ]
  },
  {
   "cell_type": "markdown",
   "id": "80c26bfc",
   "metadata": {},
   "source": [
    "### Tabular data with pandas\n",
    "\n",
    "- Tabular data\n",
    "\n",
    "<img src = \"./media/tabular_data.png\">\n",
    "\n",
    "- Dataframe\n",
    "\n",
    "<img src = \"./media/dataframe.png\">"
   ]
  },
  {
   "cell_type": "markdown",
   "id": "c701ffdf",
   "metadata": {},
   "source": [
    "### CSV files\n",
    "\n",
    "<img src = \"./media/csv_files.png\" width = 600 height = 600>"
   ]
  },
  {
   "cell_type": "markdown",
   "id": "11bcda8c",
   "metadata": {},
   "source": [
    "### Loading a csv"
   ]
  },
  {
   "cell_type": "code",
   "execution_count": 1,
   "id": "4892ce7b",
   "metadata": {},
   "outputs": [],
   "source": [
    "import pandas as pd\n",
    "credit_records = pd.read_csv('./data/credit_records.csv')"
   ]
  },
  {
   "cell_type": "markdown",
   "id": "78178a39",
   "metadata": {},
   "source": [
    "### Displaying a DataFrame"
   ]
  },
  {
   "cell_type": "code",
   "execution_count": 2,
   "id": "9d7f957c",
   "metadata": {},
   "outputs": [
    {
     "data": {
      "text/html": [
       "<div>\n",
       "<style scoped>\n",
       "    .dataframe tbody tr th:only-of-type {\n",
       "        vertical-align: middle;\n",
       "    }\n",
       "\n",
       "    .dataframe tbody tr th {\n",
       "        vertical-align: top;\n",
       "    }\n",
       "\n",
       "    .dataframe thead th {\n",
       "        text-align: right;\n",
       "    }\n",
       "</style>\n",
       "<table border=\"1\" class=\"dataframe\">\n",
       "  <thead>\n",
       "    <tr style=\"text-align: right;\">\n",
       "      <th></th>\n",
       "      <th>suspect</th>\n",
       "      <th>location</th>\n",
       "      <th>date</th>\n",
       "      <th>item</th>\n",
       "      <th>price</th>\n",
       "    </tr>\n",
       "  </thead>\n",
       "  <tbody>\n",
       "    <tr>\n",
       "      <th>0</th>\n",
       "      <td>Kirstine Smith</td>\n",
       "      <td>Groceries R Us</td>\n",
       "      <td>6-Jan-18</td>\n",
       "      <td>broccoli</td>\n",
       "      <td>1.25</td>\n",
       "    </tr>\n",
       "    <tr>\n",
       "      <th>1</th>\n",
       "      <td>Gertrude Cox</td>\n",
       "      <td>Petroleum Plaza</td>\n",
       "      <td>6-Jan-18</td>\n",
       "      <td>fizzy drink</td>\n",
       "      <td>1.90</td>\n",
       "    </tr>\n",
       "    <tr>\n",
       "      <th>2</th>\n",
       "      <td>Fred Frequentist</td>\n",
       "      <td>Groceries R Us</td>\n",
       "      <td>6-Jan-18</td>\n",
       "      <td>broccoli</td>\n",
       "      <td>1.25</td>\n",
       "    </tr>\n",
       "    <tr>\n",
       "      <th>3</th>\n",
       "      <td>Gertrude Cox</td>\n",
       "      <td>Groceries R Us</td>\n",
       "      <td>12-Jan-18</td>\n",
       "      <td>broccoli</td>\n",
       "      <td>1.25</td>\n",
       "    </tr>\n",
       "    <tr>\n",
       "      <th>4</th>\n",
       "      <td>Kirstine Smith</td>\n",
       "      <td>Clothing Club</td>\n",
       "      <td>9-Jan-18</td>\n",
       "      <td>shirt</td>\n",
       "      <td>14.25</td>\n",
       "    </tr>\n",
       "    <tr>\n",
       "      <th>...</th>\n",
       "      <td>...</td>\n",
       "      <td>...</td>\n",
       "      <td>...</td>\n",
       "      <td>...</td>\n",
       "      <td>...</td>\n",
       "    </tr>\n",
       "    <tr>\n",
       "      <th>100</th>\n",
       "      <td>Gertrude Cox</td>\n",
       "      <td>Clothing Club</td>\n",
       "      <td>7-Jan-18</td>\n",
       "      <td>shirt</td>\n",
       "      <td>14.25</td>\n",
       "    </tr>\n",
       "    <tr>\n",
       "      <th>101</th>\n",
       "      <td>Fred Frequentist</td>\n",
       "      <td>Clothing Club</td>\n",
       "      <td>4-Jan-18</td>\n",
       "      <td>pants</td>\n",
       "      <td>12.05</td>\n",
       "    </tr>\n",
       "    <tr>\n",
       "      <th>102</th>\n",
       "      <td>Gertrude Cox</td>\n",
       "      <td>Clothing Club</td>\n",
       "      <td>9-Jan-18</td>\n",
       "      <td>dress</td>\n",
       "      <td>20.15</td>\n",
       "    </tr>\n",
       "    <tr>\n",
       "      <th>103</th>\n",
       "      <td>Kirstine Smith</td>\n",
       "      <td>Burger Mart</td>\n",
       "      <td>14-Jan-18</td>\n",
       "      <td>burger</td>\n",
       "      <td>3.95</td>\n",
       "    </tr>\n",
       "    <tr>\n",
       "      <th>104</th>\n",
       "      <td>Ronald Aylmer Fisher</td>\n",
       "      <td>Groceries R Us</td>\n",
       "      <td>11-Jan-18</td>\n",
       "      <td>cucumbers</td>\n",
       "      <td>2.05</td>\n",
       "    </tr>\n",
       "  </tbody>\n",
       "</table>\n",
       "<p>105 rows × 5 columns</p>\n",
       "</div>"
      ],
      "text/plain": [
       "                  suspect         location       date         item  price\n",
       "0          Kirstine Smith   Groceries R Us   6-Jan-18     broccoli   1.25\n",
       "1            Gertrude Cox  Petroleum Plaza   6-Jan-18  fizzy drink   1.90\n",
       "2        Fred Frequentist   Groceries R Us   6-Jan-18     broccoli   1.25\n",
       "3            Gertrude Cox   Groceries R Us  12-Jan-18     broccoli   1.25\n",
       "4          Kirstine Smith    Clothing Club   9-Jan-18        shirt  14.25\n",
       "..                    ...              ...        ...          ...    ...\n",
       "100          Gertrude Cox    Clothing Club   7-Jan-18        shirt  14.25\n",
       "101      Fred Frequentist    Clothing Club   4-Jan-18        pants  12.05\n",
       "102          Gertrude Cox    Clothing Club   9-Jan-18        dress  20.15\n",
       "103        Kirstine Smith      Burger Mart  14-Jan-18       burger   3.95\n",
       "104  Ronald Aylmer Fisher   Groceries R Us  11-Jan-18    cucumbers   2.05\n",
       "\n",
       "[105 rows x 5 columns]"
      ]
     },
     "execution_count": 2,
     "metadata": {},
     "output_type": "execute_result"
    }
   ],
   "source": [
    "credit_records"
   ]
  },
  {
   "cell_type": "code",
   "execution_count": 3,
   "id": "d956dba2",
   "metadata": {},
   "outputs": [
    {
     "name": "stdout",
     "output_type": "stream",
     "text": [
      "                  suspect         location       date         item  price\n",
      "0          Kirstine Smith   Groceries R Us   6-Jan-18     broccoli   1.25\n",
      "1            Gertrude Cox  Petroleum Plaza   6-Jan-18  fizzy drink   1.90\n",
      "2        Fred Frequentist   Groceries R Us   6-Jan-18     broccoli   1.25\n",
      "3            Gertrude Cox   Groceries R Us  12-Jan-18     broccoli   1.25\n",
      "4          Kirstine Smith    Clothing Club   9-Jan-18        shirt  14.25\n",
      "..                    ...              ...        ...          ...    ...\n",
      "100          Gertrude Cox    Clothing Club   7-Jan-18        shirt  14.25\n",
      "101      Fred Frequentist    Clothing Club   4-Jan-18        pants  12.05\n",
      "102          Gertrude Cox    Clothing Club   9-Jan-18        dress  20.15\n",
      "103        Kirstine Smith      Burger Mart  14-Jan-18       burger   3.95\n",
      "104  Ronald Aylmer Fisher   Groceries R Us  11-Jan-18    cucumbers   2.05\n",
      "\n",
      "[105 rows x 5 columns]\n"
     ]
    }
   ],
   "source": [
    "print(credit_records)"
   ]
  },
  {
   "cell_type": "markdown",
   "id": "bfba7035",
   "metadata": {},
   "source": [
    "### Inspecting a DataFrame"
   ]
  },
  {
   "cell_type": "code",
   "execution_count": 4,
   "id": "4c90f0ea",
   "metadata": {},
   "outputs": [
    {
     "data": {
      "text/html": [
       "<div>\n",
       "<style scoped>\n",
       "    .dataframe tbody tr th:only-of-type {\n",
       "        vertical-align: middle;\n",
       "    }\n",
       "\n",
       "    .dataframe tbody tr th {\n",
       "        vertical-align: top;\n",
       "    }\n",
       "\n",
       "    .dataframe thead th {\n",
       "        text-align: right;\n",
       "    }\n",
       "</style>\n",
       "<table border=\"1\" class=\"dataframe\">\n",
       "  <thead>\n",
       "    <tr style=\"text-align: right;\">\n",
       "      <th></th>\n",
       "      <th>suspect</th>\n",
       "      <th>location</th>\n",
       "      <th>date</th>\n",
       "      <th>item</th>\n",
       "      <th>price</th>\n",
       "    </tr>\n",
       "  </thead>\n",
       "  <tbody>\n",
       "    <tr>\n",
       "      <th>0</th>\n",
       "      <td>Kirstine Smith</td>\n",
       "      <td>Groceries R Us</td>\n",
       "      <td>6-Jan-18</td>\n",
       "      <td>broccoli</td>\n",
       "      <td>1.25</td>\n",
       "    </tr>\n",
       "    <tr>\n",
       "      <th>1</th>\n",
       "      <td>Gertrude Cox</td>\n",
       "      <td>Petroleum Plaza</td>\n",
       "      <td>6-Jan-18</td>\n",
       "      <td>fizzy drink</td>\n",
       "      <td>1.90</td>\n",
       "    </tr>\n",
       "    <tr>\n",
       "      <th>2</th>\n",
       "      <td>Fred Frequentist</td>\n",
       "      <td>Groceries R Us</td>\n",
       "      <td>6-Jan-18</td>\n",
       "      <td>broccoli</td>\n",
       "      <td>1.25</td>\n",
       "    </tr>\n",
       "    <tr>\n",
       "      <th>3</th>\n",
       "      <td>Gertrude Cox</td>\n",
       "      <td>Groceries R Us</td>\n",
       "      <td>12-Jan-18</td>\n",
       "      <td>broccoli</td>\n",
       "      <td>1.25</td>\n",
       "    </tr>\n",
       "    <tr>\n",
       "      <th>4</th>\n",
       "      <td>Kirstine Smith</td>\n",
       "      <td>Clothing Club</td>\n",
       "      <td>9-Jan-18</td>\n",
       "      <td>shirt</td>\n",
       "      <td>14.25</td>\n",
       "    </tr>\n",
       "  </tbody>\n",
       "</table>\n",
       "</div>"
      ],
      "text/plain": [
       "            suspect         location       date         item  price\n",
       "0    Kirstine Smith   Groceries R Us   6-Jan-18     broccoli   1.25\n",
       "1      Gertrude Cox  Petroleum Plaza   6-Jan-18  fizzy drink   1.90\n",
       "2  Fred Frequentist   Groceries R Us   6-Jan-18     broccoli   1.25\n",
       "3      Gertrude Cox   Groceries R Us  12-Jan-18     broccoli   1.25\n",
       "4    Kirstine Smith    Clothing Club   9-Jan-18        shirt  14.25"
      ]
     },
     "execution_count": 4,
     "metadata": {},
     "output_type": "execute_result"
    }
   ],
   "source": [
    "credit_records.head()"
   ]
  },
  {
   "cell_type": "code",
   "execution_count": 5,
   "id": "23e74e4d",
   "metadata": {},
   "outputs": [
    {
     "name": "stdout",
     "output_type": "stream",
     "text": [
      "            suspect         location       date         item  price\n",
      "0    Kirstine Smith   Groceries R Us   6-Jan-18     broccoli   1.25\n",
      "1      Gertrude Cox  Petroleum Plaza   6-Jan-18  fizzy drink   1.90\n",
      "2  Fred Frequentist   Groceries R Us   6-Jan-18     broccoli   1.25\n",
      "3      Gertrude Cox   Groceries R Us  12-Jan-18     broccoli   1.25\n",
      "4    Kirstine Smith    Clothing Club   9-Jan-18        shirt  14.25\n"
     ]
    }
   ],
   "source": [
    "print(credit_records.head())"
   ]
  },
  {
   "cell_type": "code",
   "execution_count": 6,
   "id": "c5c856f6",
   "metadata": {},
   "outputs": [
    {
     "name": "stdout",
     "output_type": "stream",
     "text": [
      "<class 'pandas.core.frame.DataFrame'>\n",
      "RangeIndex: 105 entries, 0 to 104\n",
      "Data columns (total 5 columns):\n",
      " #   Column    Non-Null Count  Dtype  \n",
      "---  ------    --------------  -----  \n",
      " 0   suspect   105 non-null    object \n",
      " 1   location  105 non-null    object \n",
      " 2   date      105 non-null    object \n",
      " 3   item      105 non-null    object \n",
      " 4   price     105 non-null    float64\n",
      "dtypes: float64(1), object(4)\n",
      "memory usage: 4.2+ KB\n"
     ]
    }
   ],
   "source": [
    "credit_records.info()"
   ]
  },
  {
   "cell_type": "code",
   "execution_count": 7,
   "id": "6c08001b",
   "metadata": {},
   "outputs": [
    {
     "name": "stdout",
     "output_type": "stream",
     "text": [
      "<class 'pandas.core.frame.DataFrame'>\n",
      "RangeIndex: 105 entries, 0 to 104\n",
      "Data columns (total 5 columns):\n",
      " #   Column    Non-Null Count  Dtype  \n",
      "---  ------    --------------  -----  \n",
      " 0   suspect   105 non-null    object \n",
      " 1   location  105 non-null    object \n",
      " 2   date      105 non-null    object \n",
      " 3   item      105 non-null    object \n",
      " 4   price     105 non-null    float64\n",
      "dtypes: float64(1), object(4)\n",
      "memory usage: 4.2+ KB\n",
      "None\n"
     ]
    }
   ],
   "source": [
    "print(credit_records.info())"
   ]
  },
  {
   "cell_type": "markdown",
   "id": "b3fb020d",
   "metadata": {},
   "source": [
    "<img src= \"./media/inspecting.png\" width = 600 height = 600>"
   ]
  },
  {
   "cell_type": "markdown",
   "id": "05952abd",
   "metadata": {},
   "source": [
    "## Selecting columns"
   ]
  },
  {
   "cell_type": "markdown",
   "id": "d9729ac4",
   "metadata": {},
   "source": [
    "### Why select columns?\n",
    "\n",
    "- Use in a calculation"
   ]
  },
  {
   "cell_type": "code",
   "execution_count": 8,
   "id": "ae3e800e",
   "metadata": {},
   "outputs": [
    {
     "data": {
      "text/plain": [
       "913.9000000000001"
      ]
     },
     "execution_count": 8,
     "metadata": {},
     "output_type": "execute_result"
    }
   ],
   "source": [
    "credit_records.price.sum()"
   ]
  },
  {
   "cell_type": "markdown",
   "id": "825e06da",
   "metadata": {},
   "source": [
    "- Plot data"
   ]
  },
  {
   "cell_type": "code",
   "execution_count": 29,
   "id": "5f2318f6",
   "metadata": {},
   "outputs": [
    {
     "ename": "NameError",
     "evalue": "name 'ransom' is not defined",
     "output_type": "error",
     "traceback": [
      "\u001b[1;31m---------------------------------------------------------------------------\u001b[0m",
      "\u001b[1;31mNameError\u001b[0m                                 Traceback (most recent call last)",
      "\u001b[1;32m<ipython-input-29-bdff593bd461>\u001b[0m in \u001b[0;36m<module>\u001b[1;34m\u001b[0m\n\u001b[0;32m      1\u001b[0m \u001b[1;32mimport\u001b[0m \u001b[0mmatplotlib\u001b[0m\u001b[1;33m.\u001b[0m\u001b[0mpyplot\u001b[0m \u001b[1;32mas\u001b[0m \u001b[0mplt\u001b[0m\u001b[1;33m\u001b[0m\u001b[1;33m\u001b[0m\u001b[0m\n\u001b[1;32m----> 2\u001b[1;33m \u001b[0mplt\u001b[0m\u001b[1;33m.\u001b[0m\u001b[0mplot\u001b[0m\u001b[1;33m(\u001b[0m\u001b[0mransom\u001b[0m\u001b[1;33m[\u001b[0m\u001b[1;34m'letter'\u001b[0m\u001b[1;33m]\u001b[0m\u001b[1;33m,\u001b[0m \u001b[0mransom\u001b[0m\u001b[1;33m[\u001b[0m\u001b[1;34m'frequency'\u001b[0m\u001b[1;33m]\u001b[0m\u001b[1;33m)\u001b[0m\u001b[1;33m\u001b[0m\u001b[1;33m\u001b[0m\u001b[0m\n\u001b[0m",
      "\u001b[1;31mNameError\u001b[0m: name 'ransom' is not defined"
     ]
    }
   ],
   "source": [
    "import matplotlib.pyplot as plt\n",
    "plt.plot(ransom['letter'], ransom['frequency'])"
   ]
  },
  {
   "cell_type": "markdown",
   "id": "c3e5cbc0",
   "metadata": {},
   "source": [
    "### Columns names are strings"
   ]
  },
  {
   "cell_type": "code",
   "execution_count": 10,
   "id": "25eb368f",
   "metadata": {},
   "outputs": [
    {
     "name": "stdout",
     "output_type": "stream",
     "text": [
      "            suspect         location       date         item  price\n",
      "0    Kirstine Smith   Groceries R Us   6-Jan-18     broccoli   1.25\n",
      "1      Gertrude Cox  Petroleum Plaza   6-Jan-18  fizzy drink   1.90\n",
      "2  Fred Frequentist   Groceries R Us   6-Jan-18     broccoli   1.25\n",
      "3      Gertrude Cox   Groceries R Us  12-Jan-18     broccoli   1.25\n",
      "4    Kirstine Smith    Clothing Club   9-Jan-18        shirt  14.25\n"
     ]
    }
   ],
   "source": [
    "print(credit_records.head())"
   ]
  },
  {
   "cell_type": "markdown",
   "id": "962aa466",
   "metadata": {},
   "source": [
    "### Selecting with brackets and string"
   ]
  },
  {
   "cell_type": "code",
   "execution_count": 11,
   "id": "78798848",
   "metadata": {},
   "outputs": [],
   "source": [
    "suspect = credit_records['suspect']"
   ]
  },
  {
   "cell_type": "code",
   "execution_count": 12,
   "id": "e2b15313",
   "metadata": {},
   "outputs": [
    {
     "data": {
      "text/plain": [
       "0            Kirstine Smith\n",
       "1              Gertrude Cox\n",
       "2          Fred Frequentist\n",
       "3              Gertrude Cox\n",
       "4            Kirstine Smith\n",
       "               ...         \n",
       "100            Gertrude Cox\n",
       "101        Fred Frequentist\n",
       "102            Gertrude Cox\n",
       "103          Kirstine Smith\n",
       "104    Ronald Aylmer Fisher\n",
       "Name: suspect, Length: 105, dtype: object"
      ]
     },
     "execution_count": 12,
     "metadata": {},
     "output_type": "execute_result"
    }
   ],
   "source": [
    "suspect"
   ]
  },
  {
   "cell_type": "code",
   "execution_count": 13,
   "id": "9857a192",
   "metadata": {},
   "outputs": [
    {
     "name": "stdout",
     "output_type": "stream",
     "text": [
      "0            Kirstine Smith\n",
      "1              Gertrude Cox\n",
      "2          Fred Frequentist\n",
      "3              Gertrude Cox\n",
      "4            Kirstine Smith\n",
      "               ...         \n",
      "100            Gertrude Cox\n",
      "101        Fred Frequentist\n",
      "102            Gertrude Cox\n",
      "103          Kirstine Smith\n",
      "104    Ronald Aylmer Fisher\n",
      "Name: suspect, Length: 105, dtype: object\n"
     ]
    }
   ],
   "source": [
    "print(suspect)"
   ]
  },
  {
   "cell_type": "markdown",
   "id": "9b0ce882",
   "metadata": {},
   "source": [
    "### Selecting with a dot"
   ]
  },
  {
   "cell_type": "code",
   "execution_count": 14,
   "id": "11111cdc",
   "metadata": {},
   "outputs": [],
   "source": [
    "price = credit_records.price"
   ]
  },
  {
   "cell_type": "code",
   "execution_count": 15,
   "id": "823be684",
   "metadata": {},
   "outputs": [
    {
     "name": "stdout",
     "output_type": "stream",
     "text": [
      "0       1.25\n",
      "1       1.90\n",
      "2       1.25\n",
      "3       1.25\n",
      "4      14.25\n",
      "       ...  \n",
      "100    14.25\n",
      "101    12.05\n",
      "102    20.15\n",
      "103     3.95\n",
      "104     2.05\n",
      "Name: price, Length: 105, dtype: float64\n"
     ]
    }
   ],
   "source": [
    "print(price)"
   ]
  },
  {
   "cell_type": "markdown",
   "id": "a0eae2b6",
   "metadata": {},
   "source": [
    "### Common mistakes in column selection\n",
    "\n",
    "- Use brackets and string for column names with spaces or special characters ( `-`, `?` , etc.)\n",
    "\n",
    "<img src = \"./media/select_col_mistakes1.png\" width= 500 height = 500>"
   ]
  },
  {
   "cell_type": "markdown",
   "id": "7f28a92e",
   "metadata": {},
   "source": [
    "- When using brackets and string, don't forget the quotes arounthe column name!\n",
    "\n",
    "<img src = \"./media/select_col_mistakes2.png\" width = 500 height = 500>"
   ]
  },
  {
   "cell_type": "markdown",
   "id": "cd8c77f5",
   "metadata": {},
   "source": [
    "- Brackets, not parentheses\n",
    "<img src = \"./media/select_col_mistakes3.png\" width = 500 height = 500>"
   ]
  },
  {
   "cell_type": "markdown",
   "id": "a28011e6",
   "metadata": {},
   "source": [
    "## Select rows with logic"
   ]
  },
  {
   "cell_type": "markdown",
   "id": "62ce5d36",
   "metadata": {},
   "source": [
    "### Continuing the investigation"
   ]
  },
  {
   "cell_type": "code",
   "execution_count": 26,
   "id": "187d39c0",
   "metadata": {},
   "outputs": [
    {
     "name": "stdout",
     "output_type": "stream",
     "text": [
      "            suspect         location       date         item  price\n",
      "0    Kirstine Smith   Groceries R Us   6-Jan-18     broccoli   1.25\n",
      "1      Gertrude Cox  Petroleum Plaza   6-Jan-18  fizzy drink   1.90\n",
      "2  Fred Frequentist   Groceries R Us   6-Jan-18     broccoli   1.25\n",
      "3      Gertrude Cox   Groceries R Us  12-Jan-18     broccoli   1.25\n",
      "4    Kirstine Smith    Clothing Club   9-Jan-18        shirt  14.25\n"
     ]
    }
   ],
   "source": [
    "print(credit_records.head())"
   ]
  },
  {
   "cell_type": "markdown",
   "id": "4cce4b8c",
   "metadata": {},
   "source": [
    "### Logical statements in Python"
   ]
  },
  {
   "cell_type": "code",
   "execution_count": 27,
   "id": "20110d4a",
   "metadata": {},
   "outputs": [],
   "source": [
    "question = 12 * 8\n",
    "solution = 96"
   ]
  },
  {
   "cell_type": "code",
   "execution_count": 28,
   "id": "e06aac38",
   "metadata": {},
   "outputs": [
    {
     "data": {
      "text/plain": [
       "True"
      ]
     },
     "execution_count": 28,
     "metadata": {},
     "output_type": "execute_result"
    }
   ],
   "source": [
    "question == solution"
   ]
  },
  {
   "cell_type": "markdown",
   "id": "6a47ce1d",
   "metadata": {},
   "source": [
    "Booleans: `True` and `False`\n"
   ]
  },
  {
   "cell_type": "markdown",
   "id": "8c95a5d9",
   "metadata": {},
   "source": [
    "#### Other types of logic\n",
    "\n",
    "`>, >=, <, <=`"
   ]
  },
  {
   "cell_type": "code",
   "execution_count": 29,
   "id": "fed121e7",
   "metadata": {},
   "outputs": [
    {
     "data": {
      "text/plain": [
       "False"
      ]
     },
     "execution_count": 29,
     "metadata": {},
     "output_type": "execute_result"
    }
   ],
   "source": [
    "price = 2.25\n",
    "price > 5.00"
   ]
  },
  {
   "cell_type": "markdown",
   "id": "12a8e12d",
   "metadata": {},
   "source": [
    "Not equal to `!=`"
   ]
  },
  {
   "cell_type": "code",
   "execution_count": 30,
   "id": "64028639",
   "metadata": {},
   "outputs": [
    {
     "data": {
      "text/plain": [
       "True"
      ]
     },
     "execution_count": 30,
     "metadata": {},
     "output_type": "execute_result"
    }
   ],
   "source": [
    "name = 'bayes'\n",
    "name != 'Bayes'"
   ]
  },
  {
   "cell_type": "markdown",
   "id": "e6685d3a",
   "metadata": {},
   "source": [
    "### Using logic with DataFrames"
   ]
  },
  {
   "cell_type": "code",
   "execution_count": 31,
   "id": "e0b8b53c",
   "metadata": {},
   "outputs": [
    {
     "data": {
      "text/plain": [
       "0      False\n",
       "1      False\n",
       "2      False\n",
       "3      False\n",
       "4      False\n",
       "       ...  \n",
       "100    False\n",
       "101    False\n",
       "102     True\n",
       "103    False\n",
       "104    False\n",
       "Name: price, Length: 105, dtype: bool"
      ]
     },
     "execution_count": 31,
     "metadata": {},
     "output_type": "execute_result"
    }
   ],
   "source": [
    "credit_records.price > 20.00"
   ]
  },
  {
   "cell_type": "markdown",
   "id": "b9c9ab26",
   "metadata": {},
   "source": [
    "### Using logic with DataFrames\n",
    "\n",
    "<img src = \"./media/logic_with_df.png\" width = 600 height = 600>"
   ]
  },
  {
   "cell_type": "code",
   "execution_count": 32,
   "id": "12d87279",
   "metadata": {},
   "outputs": [
    {
     "data": {
      "text/html": [
       "<div>\n",
       "<style scoped>\n",
       "    .dataframe tbody tr th:only-of-type {\n",
       "        vertical-align: middle;\n",
       "    }\n",
       "\n",
       "    .dataframe tbody tr th {\n",
       "        vertical-align: top;\n",
       "    }\n",
       "\n",
       "    .dataframe thead th {\n",
       "        text-align: right;\n",
       "    }\n",
       "</style>\n",
       "<table border=\"1\" class=\"dataframe\">\n",
       "  <thead>\n",
       "    <tr style=\"text-align: right;\">\n",
       "      <th></th>\n",
       "      <th>suspect</th>\n",
       "      <th>location</th>\n",
       "      <th>date</th>\n",
       "      <th>item</th>\n",
       "      <th>price</th>\n",
       "    </tr>\n",
       "  </thead>\n",
       "  <tbody>\n",
       "    <tr>\n",
       "      <th>28</th>\n",
       "      <td>Fred Frequentist</td>\n",
       "      <td>Clothing Club</td>\n",
       "      <td>3-Jan-18</td>\n",
       "      <td>dress</td>\n",
       "      <td>20.15</td>\n",
       "    </tr>\n",
       "    <tr>\n",
       "      <th>29</th>\n",
       "      <td>Kirstine Smith</td>\n",
       "      <td>Clothing Club</td>\n",
       "      <td>5-Jan-18</td>\n",
       "      <td>dress</td>\n",
       "      <td>20.15</td>\n",
       "    </tr>\n",
       "    <tr>\n",
       "      <th>33</th>\n",
       "      <td>Ronald Aylmer Fisher</td>\n",
       "      <td>Petroleum Plaza</td>\n",
       "      <td>7-Jan-18</td>\n",
       "      <td>gas</td>\n",
       "      <td>24.95</td>\n",
       "    </tr>\n",
       "    <tr>\n",
       "      <th>37</th>\n",
       "      <td>Fred Frequentist</td>\n",
       "      <td>Clothing Club</td>\n",
       "      <td>8-Jan-18</td>\n",
       "      <td>dress</td>\n",
       "      <td>20.15</td>\n",
       "    </tr>\n",
       "    <tr>\n",
       "      <th>40</th>\n",
       "      <td>Gertrude Cox</td>\n",
       "      <td>Clothing Club</td>\n",
       "      <td>1-Jan-18</td>\n",
       "      <td>dress</td>\n",
       "      <td>20.15</td>\n",
       "    </tr>\n",
       "    <tr>\n",
       "      <th>41</th>\n",
       "      <td>Kirstine Smith</td>\n",
       "      <td>Petroleum Plaza</td>\n",
       "      <td>5-Jan-18</td>\n",
       "      <td>gas</td>\n",
       "      <td>24.95</td>\n",
       "    </tr>\n",
       "    <tr>\n",
       "      <th>47</th>\n",
       "      <td>Ronald Aylmer Fisher</td>\n",
       "      <td>Petroleum Plaza</td>\n",
       "      <td>2-Jan-18</td>\n",
       "      <td>gas</td>\n",
       "      <td>24.95</td>\n",
       "    </tr>\n",
       "    <tr>\n",
       "      <th>48</th>\n",
       "      <td>Kirstine Smith</td>\n",
       "      <td>Clothing Club</td>\n",
       "      <td>8-Jan-18</td>\n",
       "      <td>dress</td>\n",
       "      <td>20.15</td>\n",
       "    </tr>\n",
       "    <tr>\n",
       "      <th>63</th>\n",
       "      <td>Gertrude Cox</td>\n",
       "      <td>Clothing Club</td>\n",
       "      <td>4-Jan-18</td>\n",
       "      <td>dress</td>\n",
       "      <td>20.15</td>\n",
       "    </tr>\n",
       "    <tr>\n",
       "      <th>69</th>\n",
       "      <td>Gertrude Cox</td>\n",
       "      <td>Clothing Club</td>\n",
       "      <td>6-Jan-18</td>\n",
       "      <td>dress</td>\n",
       "      <td>20.15</td>\n",
       "    </tr>\n",
       "    <tr>\n",
       "      <th>73</th>\n",
       "      <td>Ronald Aylmer Fisher</td>\n",
       "      <td>Petroleum Plaza</td>\n",
       "      <td>1-Jan-18</td>\n",
       "      <td>gas</td>\n",
       "      <td>24.95</td>\n",
       "    </tr>\n",
       "    <tr>\n",
       "      <th>77</th>\n",
       "      <td>Gertrude Cox</td>\n",
       "      <td>Clothing Club</td>\n",
       "      <td>10-Jan-18</td>\n",
       "      <td>dress</td>\n",
       "      <td>20.15</td>\n",
       "    </tr>\n",
       "    <tr>\n",
       "      <th>85</th>\n",
       "      <td>Gertrude Cox</td>\n",
       "      <td>Clothing Club</td>\n",
       "      <td>5-Jan-18</td>\n",
       "      <td>dress</td>\n",
       "      <td>20.15</td>\n",
       "    </tr>\n",
       "    <tr>\n",
       "      <th>88</th>\n",
       "      <td>Gertrude Cox</td>\n",
       "      <td>Petroleum Plaza</td>\n",
       "      <td>8-Jan-18</td>\n",
       "      <td>gas</td>\n",
       "      <td>24.95</td>\n",
       "    </tr>\n",
       "    <tr>\n",
       "      <th>90</th>\n",
       "      <td>Gertrude Cox</td>\n",
       "      <td>Petroleum Plaza</td>\n",
       "      <td>8-Jan-18</td>\n",
       "      <td>gas</td>\n",
       "      <td>24.95</td>\n",
       "    </tr>\n",
       "    <tr>\n",
       "      <th>102</th>\n",
       "      <td>Gertrude Cox</td>\n",
       "      <td>Clothing Club</td>\n",
       "      <td>9-Jan-18</td>\n",
       "      <td>dress</td>\n",
       "      <td>20.15</td>\n",
       "    </tr>\n",
       "  </tbody>\n",
       "</table>\n",
       "</div>"
      ],
      "text/plain": [
       "                  suspect         location       date   item  price\n",
       "28       Fred Frequentist    Clothing Club   3-Jan-18  dress  20.15\n",
       "29         Kirstine Smith    Clothing Club   5-Jan-18  dress  20.15\n",
       "33   Ronald Aylmer Fisher  Petroleum Plaza   7-Jan-18    gas  24.95\n",
       "37       Fred Frequentist    Clothing Club   8-Jan-18  dress  20.15\n",
       "40           Gertrude Cox    Clothing Club   1-Jan-18  dress  20.15\n",
       "41         Kirstine Smith  Petroleum Plaza   5-Jan-18    gas  24.95\n",
       "47   Ronald Aylmer Fisher  Petroleum Plaza   2-Jan-18    gas  24.95\n",
       "48         Kirstine Smith    Clothing Club   8-Jan-18  dress  20.15\n",
       "63           Gertrude Cox    Clothing Club   4-Jan-18  dress  20.15\n",
       "69           Gertrude Cox    Clothing Club   6-Jan-18  dress  20.15\n",
       "73   Ronald Aylmer Fisher  Petroleum Plaza   1-Jan-18    gas  24.95\n",
       "77           Gertrude Cox    Clothing Club  10-Jan-18  dress  20.15\n",
       "85           Gertrude Cox    Clothing Club   5-Jan-18  dress  20.15\n",
       "88           Gertrude Cox  Petroleum Plaza   8-Jan-18    gas  24.95\n",
       "90           Gertrude Cox  Petroleum Plaza   8-Jan-18    gas  24.95\n",
       "102          Gertrude Cox    Clothing Club   9-Jan-18  dress  20.15"
      ]
     },
     "execution_count": 32,
     "metadata": {},
     "output_type": "execute_result"
    }
   ],
   "source": [
    "credit_records[credit_records.price > 20.00]"
   ]
  },
  {
   "cell_type": "code",
   "execution_count": 33,
   "id": "6d334805",
   "metadata": {},
   "outputs": [
    {
     "data": {
      "text/html": [
       "<div>\n",
       "<style scoped>\n",
       "    .dataframe tbody tr th:only-of-type {\n",
       "        vertical-align: middle;\n",
       "    }\n",
       "\n",
       "    .dataframe tbody tr th {\n",
       "        vertical-align: top;\n",
       "    }\n",
       "\n",
       "    .dataframe thead th {\n",
       "        text-align: right;\n",
       "    }\n",
       "</style>\n",
       "<table border=\"1\" class=\"dataframe\">\n",
       "  <thead>\n",
       "    <tr style=\"text-align: right;\">\n",
       "      <th></th>\n",
       "      <th>suspect</th>\n",
       "      <th>location</th>\n",
       "      <th>date</th>\n",
       "      <th>item</th>\n",
       "      <th>price</th>\n",
       "    </tr>\n",
       "  </thead>\n",
       "  <tbody>\n",
       "    <tr>\n",
       "      <th>7</th>\n",
       "      <td>Ronald Aylmer Fisher</td>\n",
       "      <td>Clothing Club</td>\n",
       "      <td>8-Jan-18</td>\n",
       "      <td>pants</td>\n",
       "      <td>12.05</td>\n",
       "    </tr>\n",
       "    <tr>\n",
       "      <th>8</th>\n",
       "      <td>Ronald Aylmer Fisher</td>\n",
       "      <td>Clothing Club</td>\n",
       "      <td>13-Jan-18</td>\n",
       "      <td>shirt</td>\n",
       "      <td>14.25</td>\n",
       "    </tr>\n",
       "    <tr>\n",
       "      <th>12</th>\n",
       "      <td>Ronald Aylmer Fisher</td>\n",
       "      <td>Petroleum Plaza</td>\n",
       "      <td>10-Jan-18</td>\n",
       "      <td>carwash</td>\n",
       "      <td>13.25</td>\n",
       "    </tr>\n",
       "    <tr>\n",
       "      <th>22</th>\n",
       "      <td>Ronald Aylmer Fisher</td>\n",
       "      <td>Groceries R Us</td>\n",
       "      <td>13-Jan-18</td>\n",
       "      <td>eggs</td>\n",
       "      <td>6.50</td>\n",
       "    </tr>\n",
       "    <tr>\n",
       "      <th>26</th>\n",
       "      <td>Ronald Aylmer Fisher</td>\n",
       "      <td>Burger Mart</td>\n",
       "      <td>8-Jan-18</td>\n",
       "      <td>fries</td>\n",
       "      <td>1.95</td>\n",
       "    </tr>\n",
       "    <tr>\n",
       "      <th>33</th>\n",
       "      <td>Ronald Aylmer Fisher</td>\n",
       "      <td>Petroleum Plaza</td>\n",
       "      <td>7-Jan-18</td>\n",
       "      <td>gas</td>\n",
       "      <td>24.95</td>\n",
       "    </tr>\n",
       "    <tr>\n",
       "      <th>34</th>\n",
       "      <td>Ronald Aylmer Fisher</td>\n",
       "      <td>Groceries R Us</td>\n",
       "      <td>6-Jan-18</td>\n",
       "      <td>cucumbers</td>\n",
       "      <td>2.05</td>\n",
       "    </tr>\n",
       "    <tr>\n",
       "      <th>39</th>\n",
       "      <td>Ronald Aylmer Fisher</td>\n",
       "      <td>Groceries R Us</td>\n",
       "      <td>2-Jan-18</td>\n",
       "      <td>eggs</td>\n",
       "      <td>6.50</td>\n",
       "    </tr>\n",
       "    <tr>\n",
       "      <th>43</th>\n",
       "      <td>Ronald Aylmer Fisher</td>\n",
       "      <td>Petroleum Plaza</td>\n",
       "      <td>14-Jan-18</td>\n",
       "      <td>fizzy drink</td>\n",
       "      <td>1.90</td>\n",
       "    </tr>\n",
       "    <tr>\n",
       "      <th>44</th>\n",
       "      <td>Ronald Aylmer Fisher</td>\n",
       "      <td>Petroleum Plaza</td>\n",
       "      <td>5-Jan-18</td>\n",
       "      <td>fizzy drink</td>\n",
       "      <td>1.90</td>\n",
       "    </tr>\n",
       "    <tr>\n",
       "      <th>46</th>\n",
       "      <td>Ronald Aylmer Fisher</td>\n",
       "      <td>Groceries R Us</td>\n",
       "      <td>9-Jan-18</td>\n",
       "      <td>cucumbers</td>\n",
       "      <td>2.05</td>\n",
       "    </tr>\n",
       "    <tr>\n",
       "      <th>47</th>\n",
       "      <td>Ronald Aylmer Fisher</td>\n",
       "      <td>Petroleum Plaza</td>\n",
       "      <td>2-Jan-18</td>\n",
       "      <td>gas</td>\n",
       "      <td>24.95</td>\n",
       "    </tr>\n",
       "    <tr>\n",
       "      <th>62</th>\n",
       "      <td>Ronald Aylmer Fisher</td>\n",
       "      <td>Petroleum Plaza</td>\n",
       "      <td>6-Jan-18</td>\n",
       "      <td>fizzy drink</td>\n",
       "      <td>1.90</td>\n",
       "    </tr>\n",
       "    <tr>\n",
       "      <th>64</th>\n",
       "      <td>Ronald Aylmer Fisher</td>\n",
       "      <td>Groceries R Us</td>\n",
       "      <td>8-Jan-18</td>\n",
       "      <td>milk</td>\n",
       "      <td>4.25</td>\n",
       "    </tr>\n",
       "    <tr>\n",
       "      <th>65</th>\n",
       "      <td>Ronald Aylmer Fisher</td>\n",
       "      <td>Petroleum Plaza</td>\n",
       "      <td>13-Jan-18</td>\n",
       "      <td>fizzy drink</td>\n",
       "      <td>1.90</td>\n",
       "    </tr>\n",
       "    <tr>\n",
       "      <th>68</th>\n",
       "      <td>Ronald Aylmer Fisher</td>\n",
       "      <td>Burger Mart</td>\n",
       "      <td>14-Jan-18</td>\n",
       "      <td>fries</td>\n",
       "      <td>1.95</td>\n",
       "    </tr>\n",
       "    <tr>\n",
       "      <th>72</th>\n",
       "      <td>Ronald Aylmer Fisher</td>\n",
       "      <td>Groceries R Us</td>\n",
       "      <td>7-Jan-18</td>\n",
       "      <td>cucumbers</td>\n",
       "      <td>2.05</td>\n",
       "    </tr>\n",
       "    <tr>\n",
       "      <th>73</th>\n",
       "      <td>Ronald Aylmer Fisher</td>\n",
       "      <td>Petroleum Plaza</td>\n",
       "      <td>1-Jan-18</td>\n",
       "      <td>gas</td>\n",
       "      <td>24.95</td>\n",
       "    </tr>\n",
       "    <tr>\n",
       "      <th>81</th>\n",
       "      <td>Ronald Aylmer Fisher</td>\n",
       "      <td>Clothing Club</td>\n",
       "      <td>13-Jan-18</td>\n",
       "      <td>pants</td>\n",
       "      <td>12.05</td>\n",
       "    </tr>\n",
       "    <tr>\n",
       "      <th>83</th>\n",
       "      <td>Ronald Aylmer Fisher</td>\n",
       "      <td>Clothing Club</td>\n",
       "      <td>6-Jan-18</td>\n",
       "      <td>shirt</td>\n",
       "      <td>14.25</td>\n",
       "    </tr>\n",
       "    <tr>\n",
       "      <th>84</th>\n",
       "      <td>Ronald Aylmer Fisher</td>\n",
       "      <td>Burger Mart</td>\n",
       "      <td>2-Jan-18</td>\n",
       "      <td>fries</td>\n",
       "      <td>1.95</td>\n",
       "    </tr>\n",
       "    <tr>\n",
       "      <th>86</th>\n",
       "      <td>Ronald Aylmer Fisher</td>\n",
       "      <td>Clothing Club</td>\n",
       "      <td>3-Jan-18</td>\n",
       "      <td>pants</td>\n",
       "      <td>12.05</td>\n",
       "    </tr>\n",
       "    <tr>\n",
       "      <th>89</th>\n",
       "      <td>Ronald Aylmer Fisher</td>\n",
       "      <td>Burger Mart</td>\n",
       "      <td>8-Jan-18</td>\n",
       "      <td>fries</td>\n",
       "      <td>1.95</td>\n",
       "    </tr>\n",
       "    <tr>\n",
       "      <th>94</th>\n",
       "      <td>Ronald Aylmer Fisher</td>\n",
       "      <td>Groceries R Us</td>\n",
       "      <td>10-Jan-18</td>\n",
       "      <td>milk</td>\n",
       "      <td>4.25</td>\n",
       "    </tr>\n",
       "    <tr>\n",
       "      <th>95</th>\n",
       "      <td>Ronald Aylmer Fisher</td>\n",
       "      <td>Petroleum Plaza</td>\n",
       "      <td>9-Jan-18</td>\n",
       "      <td>fizzy drink</td>\n",
       "      <td>1.90</td>\n",
       "    </tr>\n",
       "    <tr>\n",
       "      <th>99</th>\n",
       "      <td>Ronald Aylmer Fisher</td>\n",
       "      <td>Clothing Club</td>\n",
       "      <td>12-Jan-18</td>\n",
       "      <td>pants</td>\n",
       "      <td>12.05</td>\n",
       "    </tr>\n",
       "    <tr>\n",
       "      <th>104</th>\n",
       "      <td>Ronald Aylmer Fisher</td>\n",
       "      <td>Groceries R Us</td>\n",
       "      <td>11-Jan-18</td>\n",
       "      <td>cucumbers</td>\n",
       "      <td>2.05</td>\n",
       "    </tr>\n",
       "  </tbody>\n",
       "</table>\n",
       "</div>"
      ],
      "text/plain": [
       "                  suspect         location       date         item  price\n",
       "7    Ronald Aylmer Fisher    Clothing Club   8-Jan-18        pants  12.05\n",
       "8    Ronald Aylmer Fisher    Clothing Club  13-Jan-18        shirt  14.25\n",
       "12   Ronald Aylmer Fisher  Petroleum Plaza  10-Jan-18      carwash  13.25\n",
       "22   Ronald Aylmer Fisher   Groceries R Us  13-Jan-18         eggs   6.50\n",
       "26   Ronald Aylmer Fisher      Burger Mart   8-Jan-18        fries   1.95\n",
       "33   Ronald Aylmer Fisher  Petroleum Plaza   7-Jan-18          gas  24.95\n",
       "34   Ronald Aylmer Fisher   Groceries R Us   6-Jan-18    cucumbers   2.05\n",
       "39   Ronald Aylmer Fisher   Groceries R Us   2-Jan-18         eggs   6.50\n",
       "43   Ronald Aylmer Fisher  Petroleum Plaza  14-Jan-18  fizzy drink   1.90\n",
       "44   Ronald Aylmer Fisher  Petroleum Plaza   5-Jan-18  fizzy drink   1.90\n",
       "46   Ronald Aylmer Fisher   Groceries R Us   9-Jan-18    cucumbers   2.05\n",
       "47   Ronald Aylmer Fisher  Petroleum Plaza   2-Jan-18          gas  24.95\n",
       "62   Ronald Aylmer Fisher  Petroleum Plaza   6-Jan-18  fizzy drink   1.90\n",
       "64   Ronald Aylmer Fisher   Groceries R Us   8-Jan-18         milk   4.25\n",
       "65   Ronald Aylmer Fisher  Petroleum Plaza  13-Jan-18  fizzy drink   1.90\n",
       "68   Ronald Aylmer Fisher      Burger Mart  14-Jan-18        fries   1.95\n",
       "72   Ronald Aylmer Fisher   Groceries R Us   7-Jan-18    cucumbers   2.05\n",
       "73   Ronald Aylmer Fisher  Petroleum Plaza   1-Jan-18          gas  24.95\n",
       "81   Ronald Aylmer Fisher    Clothing Club  13-Jan-18        pants  12.05\n",
       "83   Ronald Aylmer Fisher    Clothing Club   6-Jan-18        shirt  14.25\n",
       "84   Ronald Aylmer Fisher      Burger Mart   2-Jan-18        fries   1.95\n",
       "86   Ronald Aylmer Fisher    Clothing Club   3-Jan-18        pants  12.05\n",
       "89   Ronald Aylmer Fisher      Burger Mart   8-Jan-18        fries   1.95\n",
       "94   Ronald Aylmer Fisher   Groceries R Us  10-Jan-18         milk   4.25\n",
       "95   Ronald Aylmer Fisher  Petroleum Plaza   9-Jan-18  fizzy drink   1.90\n",
       "99   Ronald Aylmer Fisher    Clothing Club  12-Jan-18        pants  12.05\n",
       "104  Ronald Aylmer Fisher   Groceries R Us  11-Jan-18    cucumbers   2.05"
      ]
     },
     "execution_count": 33,
     "metadata": {},
     "output_type": "execute_result"
    }
   ],
   "source": [
    "credit_records[credit_records.suspect == 'Ronald Aylmer Fisher']"
   ]
  },
  {
   "cell_type": "markdown",
   "id": "23e64c65",
   "metadata": {},
   "source": [
    "# Part-3 Ploting Data With matplotlib"
   ]
  },
  {
   "cell_type": "markdown",
   "id": "f78c3d11",
   "metadata": {},
   "source": [
    "### Creating line plots"
   ]
  },
  {
   "cell_type": "markdown",
   "id": "8a960882",
   "metadata": {},
   "source": [
    "### The plot thickens\n",
    "<img src = \"./media/part3_1.png\" width = 600 height = 600>"
   ]
  },
  {
   "cell_type": "markdown",
   "id": "b6d35b3f",
   "metadata": {},
   "source": [
    "### From DataFrame to Visualization\n",
    "<img src = \"./media/df_2_vis.png\" width = 700 height = 700>"
   ]
  },
  {
   "cell_type": "markdown",
   "id": "6b4af5e8",
   "metadata": {},
   "source": [
    "### Introducing Matplotlib"
   ]
  },
  {
   "cell_type": "code",
   "execution_count": 17,
   "id": "534c9e2a",
   "metadata": {},
   "outputs": [
    {
     "data": {
      "text/plain": [
       "[<matplotlib.lines.Line2D at 0x11b9ae4b640>]"
      ]
     },
     "execution_count": 17,
     "metadata": {},
     "output_type": "execute_result"
    },
    {
     "data": {
      "image/png": "[encoded data removed]",
      "text/plain": [
       "<Figure size 432x288 with 1 Axes>"
      ]
     },
     "metadata": {
      "needs_background": "light"
     },
     "output_type": "display_data"
    }
   ],
   "source": [
    "# Matplotlib plots and displays\n",
    "plt.plot(ransom.letter, ransom.frequency)"
   ]
  },
  {
   "cell_type": "markdown",
   "id": "a2f61ef1-ec3b-4114-be0d-aadc95f131e7",
   "metadata": {},
   "source": [
    "## Line Plot\n",
    "<img src=\"./media/lineplot.png\">"
   ]
  },
  {
   "cell_type": "markdown",
   "id": "7eca6ca8-0ec1-45dc-b6ba-c6410d6cc0e6",
   "metadata": {},
   "source": [
    "### Displaying the Results\n",
    "\n",
    "- `plt.show()`"
   ]
  },
  {
   "cell_type": "code",
   "execution_count": 18,
   "id": "ba70647b-04d8-4fc9-aa77-3e668e08fd31",
   "metadata": {},
   "outputs": [
    {
     "data": {
      "image/png": "[encoded data removed]",
      "text/plain": [
       "<Figure size 432x288 with 1 Axes>"
      ]
     },
     "metadata": {
      "needs_background": "light"
     },
     "output_type": "display_data"
    }
   ],
   "source": [
    "# Matplotlib plots and displays\n",
    "plt.plot(ransom.letter, ransom.frequency)\n",
    "plt.show()"
   ]
  },
  {
   "cell_type": "markdown",
   "id": "01f6522b-13e4-4510-a4f5-f8a99b7a7cea",
   "metadata": {},
   "source": [
    "### Multiple Lines\n",
    "\n",
    "`plt.plot(data1.x_values,data1.y_values)`<br>\n",
    "`plt.plot(data2.x_values,data2.y_values)`<br>\n",
    "`plt.show()`\n"
   ]
  },
  {
   "cell_type": "code",
   "execution_count": 3,
   "id": "ee4460e0-79df-4729-acbb-3aec4023ee9c",
   "metadata": {},
   "outputs": [],
   "source": [
    "deshaun = pd.read_csv(\"./dataset/deshaun.csv\")\n",
    "aditya = pd.read_csv(\"./dataset/aditya.csv\")\n",
    "mengfei = pd.read_csv(\"./dataset/mengfei.csv\")"
   ]
  },
  {
   "cell_type": "code",
   "execution_count": 7,
   "id": "72979721-2b9e-4797-9dd8-25a7839a7d1f",
   "metadata": {},
   "outputs": [
    {
     "data": {
      "image/png": "[encoded data removed]",
      "text/plain": [
       "<Figure size 432x288 with 1 Axes>"
      ]
     },
     "metadata": {
      "needs_background": "light"
     },
     "output_type": "display_data"
    }
   ],
   "source": [
    "# Add a label to Deshaun's plot\n",
    "plt.plot(deshaun.day_of_week, deshaun.hours_worked)\n",
    "\n",
    "# Officer Aditya\n",
    "plt.plot(aditya.day_of_week, aditya.hours_worked)\n",
    "\n",
    "# Officer Mengfei\n",
    "plt.plot(mengfei.day_of_week, mengfei.hours_worked)\n",
    "\n",
    "# Display plot\n",
    "plt.show()"
   ]
  },
  {
   "cell_type": "code",
   "execution_count": 5,
   "id": "275135f7-581b-4921-b5bb-2a57fc57f382",
   "metadata": {},
   "outputs": [
    {
     "data": {
      "image/png": "[encoded data removed]",
      "text/plain": [
       "<Figure size 432x288 with 1 Axes>"
      ]
     },
     "metadata": {
      "needs_background": "light"
     },
     "output_type": "display_data"
    }
   ],
   "source": [
    "# Officer Deshaun\n",
    "plt.plot(deshaun.day_of_week, deshaun.hours_worked, label='Deshaun')\n",
    "\n",
    "# Add a label to Aditya's plot\n",
    "plt.plot(aditya.day_of_week, aditya.hours_worked, label='Aditya')\n",
    "\n",
    "# Add a label to Mengfei's plot\n",
    "plt.plot(mengfei.day_of_week, mengfei.hours_worked, label='Mengfei')\n",
    "\n",
    "# Display plot\n",
    "plt.show()"
   ]
  },
  {
   "cell_type": "markdown",
   "id": "d7139bc2-f8d7-4917-ad3e-da3a585f9621",
   "metadata": {},
   "source": [
    "- Nothing is displaying yet! Add a `command to make the legend` display."
   ]
  },
  {
   "cell_type": "code",
   "execution_count": 6,
   "id": "429d0205-d2da-43bd-b99a-068e76823627",
   "metadata": {},
   "outputs": [
    {
     "data": {
      "image/png": "[encoded data removed]",
      "text/plain": [
       "<Figure size 432x288 with 1 Axes>"
      ]
     },
     "metadata": {
      "needs_background": "light"
     },
     "output_type": "display_data"
    }
   ],
   "source": [
    "# Officer Deshaun\n",
    "plt.plot(deshaun.day_of_week, deshaun.hours_worked, label='Deshaun')\n",
    "\n",
    "# Add a label to Aditya's plot\n",
    "plt.plot(aditya.day_of_week, aditya.hours_worked, label='Aditya')\n",
    "\n",
    "# Add a label to Mengfei's plot\n",
    "plt.plot(mengfei.day_of_week, mengfei.hours_worked, label='Mengfei')\n",
    "\n",
    "# Add a command to make the legend display\n",
    "plt.legend()\n",
    "\n",
    "# Display plot\n",
    "plt.show()"
   ]
  },
  {
   "cell_type": "markdown",
   "id": "bf8b9d37-d888-4a33-921e-716eb7729c86",
   "metadata": {},
   "source": [
    "## Adding labels and legends"
   ]
  },
  {
   "cell_type": "markdown",
   "id": "25e817af-9f27-4aca-b502-025836afeeea",
   "metadata": {},
   "source": [
    "### What did we just plot?"
   ]
  },
  {
   "cell_type": "code",
   "execution_count": 19,
   "id": "94f0eb15-0cb1-46de-8d3b-73378b1bb695",
   "metadata": {},
   "outputs": [
    {
     "data": {
      "image/png": "[encoded data removed]",
      "text/plain": [
       "<Figure size 432x288 with 1 Axes>"
      ]
     },
     "metadata": {
      "needs_background": "light"
     },
     "output_type": "display_data"
    }
   ],
   "source": [
    "from matplotlib import pyplot as plt\n",
    "plt.plot(ransom.letter,ransom.frequency)\n",
    "plt.show()"
   ]
  },
  {
   "cell_type": "markdown",
   "id": "176bda00-718f-49eb-9875-da17fb4489a5",
   "metadata": {},
   "source": [
    "### Axes and title labels"
   ]
  },
  {
   "cell_type": "code",
   "execution_count": 24,
   "id": "e0fabfc7-7177-40b8-a77b-59fde600327f",
   "metadata": {},
   "outputs": [
    {
     "data": {
      "image/png": "[encoded data removed]",
      "text/plain": [
       "<Figure size 432x288 with 1 Axes>"
      ]
     },
     "metadata": {
      "needs_background": "light"
     },
     "output_type": "display_data"
    }
   ],
   "source": [
    "plt.plot(ransom.letter,ransom.frequency)\n",
    "plt.xlabel(\"Letter\")\n",
    "plt.ylabel(\"Frequency\")\n",
    "plt.title(\"Ransom Note Letters\")\n",
    "plt.show()"
   ]
  },
  {
   "cell_type": "markdown",
   "id": "931e4c81-7de5-4f63-9a4a-6c35937b1d5d",
   "metadata": {},
   "source": [
    "### Legends"
   ]
  },
  {
   "cell_type": "code",
   "execution_count": 10,
   "id": "1a144c33-a602-4c04-abf7-7462f7b420cc",
   "metadata": {},
   "outputs": [
    {
     "data": {
      "image/png": "[encoded data removed]",
      "text/plain": [
       "<Figure size 432x288 with 1 Axes>"
      ]
     },
     "metadata": {
      "needs_background": "light"
     },
     "output_type": "display_data"
    }
   ],
   "source": [
    "# Lines\n",
    "plt.plot(deshaun.day_of_week, deshaun.hours_worked, label='Deshaun')\n",
    "plt.plot(aditya.day_of_week, aditya.hours_worked, label='Aditya')\n",
    "plt.plot(mengfei.day_of_week, mengfei.hours_worked, label='Mengfei')\n",
    "\n",
    "# Add a title\n",
    "plt.title(\"Officer Deshaun's plot of hours worked\")\n",
    "\n",
    "# Add y-axis label\n",
    "plt.ylabel('No: of hours worked')\n",
    "\n",
    "# Legend\n",
    "plt.legend()\n",
    "\n",
    "# Display plot\n",
    "plt.show()"
   ]
  },
  {
   "cell_type": "markdown",
   "id": "7667f9bb-4208-470f-bef2-68fc8ed6d7fe",
   "metadata": {},
   "source": [
    "### Arbitrary text"
   ]
  },
  {
   "cell_type": "code",
   "execution_count": 14,
   "id": "e0d213dd-efc3-4f29-b47f-1e9351fad262",
   "metadata": {},
   "outputs": [
    {
     "data": {
      "image/png": "[encoded data removed]",
      "text/plain": [
       "<Figure size 432x288 with 1 Axes>"
      ]
     },
     "metadata": {
      "needs_background": "light"
     },
     "output_type": "display_data"
    }
   ],
   "source": [
    "plt.plot(ransom.letter,ransom.frequency)\n",
    "# plt.xlabel(\"Letter\")\n",
    "# plt.ylabel(\"Frequency\")\n",
    "# plt.title(\"Ransom Note Letters\")\n",
    "plt.text(5,9,\"Unusually low H frequency!\")\n",
    "plt.show()"
   ]
  },
  {
   "cell_type": "markdown",
   "id": "5ffbe900-50d0-4884-92d4-199d9aba4514",
   "metadata": {},
   "source": [
    "### Modifying text"
   ]
  },
  {
   "cell_type": "markdown",
   "id": "fb1f771a-73be-42d8-9d56-948a286ccdd8",
   "metadata": {},
   "source": [
    "- Change font size"
   ]
  },
  {
   "cell_type": "code",
   "execution_count": 27,
   "id": "6ad5c572-ca87-4f20-b8f0-85f2df708496",
   "metadata": {},
   "outputs": [
    {
     "data": {
      "image/png": "[encoded data removed]",
      "text/plain": [
       "<Figure size 432x288 with 1 Axes>"
      ]
     },
     "metadata": {
      "needs_background": "light"
     },
     "output_type": "display_data"
    }
   ],
   "source": [
    "plt.plot(ransom.letter,ransom.frequency)\n",
    "# plt.xlabel(\"Letter\")\n",
    "# plt.ylabel(\"Frequency\")\n",
    "plt.title(\"Ransom Note Letters\", fontsize=20)\n",
    "plt.text(5,9,\"Unusually low H frequency!\")\n",
    "plt.show()"
   ]
  },
  {
   "cell_type": "markdown",
   "id": "2e9cc717-98af-4ec2-9687-d2a37790916d",
   "metadata": {},
   "source": [
    "- Change font color\n",
    "- https://en.wikipedia.org/wiki/Web_colors"
   ]
  },
  {
   "cell_type": "code",
   "execution_count": null,
   "id": "f4ff073a-3309-4fe1-81cf-45a47ce664e7",
   "metadata": {},
   "outputs": [],
   "source": [
    "plt.legend(color=\"green\")"
   ]
  },
  {
   "cell_type": "markdown",
   "id": "3f4e76c2-e6cf-49a7-ae4b-98778f76be9b",
   "metadata": {},
   "source": [
    "## Adding some style\n",
    "### And miles to go\n",
    "<img src = \"./media/miles.png\">"
   ]
  },
  {
   "cell_type": "markdown",
   "id": "ab0fc273-a3e2-44a1-af26-0d341c33a8c6",
   "metadata": {},
   "source": [
    "### Changing line color"
   ]
  },
  {
   "cell_type": "markdown",
   "id": "a6bf0951-b94f-427f-bdf9-36b7eac6f1d0",
   "metadata": {},
   "source": [
    "`plt.plot(x, y1, color=\"tomato\")` <br>\n",
    "`plt.plot(x, y2, color=\"orange\")` <br>\n",
    "`plt.plot(x, y3, color=\"goldenrod\")` <br>\n",
    "`plt.plot(x, y4, color=\"seagreen\")` <br>\n",
    "`plt.plot(x, y5, color=\"dodgerblue\")` <br>\n",
    "`plt.plot(x, y6, color=\"violet\")`<br>\n",
    "\n",
    "<img src = \"./media/sixcolors.png\">"
   ]
  },
  {
   "cell_type": "markdown",
   "id": "ed00ceaa-aff9-41b0-8cf2-88c802d6ca78",
   "metadata": {},
   "source": [
    "### Changing line width"
   ]
  },
  {
   "cell_type": "markdown",
   "id": "5439f4cc-0d40-4a53-b858-c60b2e79ce76",
   "metadata": {},
   "source": [
    "`plt.plot(x, y1, linewidth=1)`<br>\n",
    "`plt.plot(x, y2, linewidth=2)`<br>\n",
    "`plt.plot(x, y3, linewidth=3)`<br>\n",
    "`plt.plot(x, y4, linewidth=4)`<br>\n",
    "`plt.plot(x, y5, linewidth=5)`<br>\n",
    "`plt.plot(x, y6, linewidth=6)`<br>\n",
    "`plt.plot(x, y7, linewidth=7)`<br>\n",
    "\n",
    "<img src = \"./media/sixlinewidth.png\">"
   ]
  },
  {
   "cell_type": "markdown",
   "id": "00bb750c-7016-4b54-81e6-4809ba5561dc",
   "metadata": {},
   "source": [
    "### Changing line style"
   ]
  },
  {
   "cell_type": "markdown",
   "id": "709d4fff-8b49-4cb8-a8ef-a64ec9513989",
   "metadata": {},
   "source": [
    "`plt.plot(x, y1, linestyle='-')`<br>\n",
    "`plt.plot(x, y2, linestyle='--')`<br>\n",
    "`plt.plot(x, y3, linestyle='-.')`<br>\n",
    "`plt.plot(x, y4, linestyle=':')`<br>\n",
    "\n",
    "<img src = \"./media/sixmarkers.png\">"
   ]
  },
  {
   "cell_type": "markdown",
   "id": "6dcb06a2-852d-46b9-9698-e8c99c8d6a5a",
   "metadata": {},
   "source": [
    "### Adding markers"
   ]
  },
  {
   "cell_type": "markdown",
   "id": "63f60756-cdf0-41f7-8691-56e35cf6bd56",
   "metadata": {},
   "source": [
    "`plt.plot(x, y1, marker='x')`<br>\n",
    "`plt.plot(x, y2, marker='s')`<br>\n",
    "`plt.plot(x, y3, marker='o')`<br>\n",
    "`plt.plot(x, y4, marker='d')`<br>\n",
    "`plt.plot(x, y5, marker='*')`<br>\n",
    "`plt.plot(x, y6, marker='h')`<br>\n",
    "\n",
    "<img src = \"./media/sixmarkers1.png\">"
   ]
  },
  {
   "cell_type": "code",
   "execution_count": 28,
   "id": "bf01607b-9fd7-4ac2-a03c-bed3b3874116",
   "metadata": {},
   "outputs": [
    {
     "data": {
      "text/plain": [
       "Index(['Year', 'Phoenix Police Dept', ' Los Angeles Police Dept ',\n",
       "       ' New York City Police Dept', 'Philadelphia Police Dept'],\n",
       "      dtype='object')"
      ]
     },
     "execution_count": 28,
     "metadata": {},
     "output_type": "execute_result"
    }
   ],
   "source": [
    "data = pd.read_csv(\"./dataset/data.csv\")\n",
    "data.columns"
   ]
  },
  {
   "cell_type": "code",
   "execution_count": 27,
   "id": "9e472366-60fd-4a40-aa08-9ea0beb22fce",
   "metadata": {},
   "outputs": [
    {
     "data": {
      "image/png": "[encoded data removed]",
      "text/plain": [
       "<Figure size 432x288 with 1 Axes>"
      ]
     },
     "metadata": {
      "needs_background": "light"
     },
     "output_type": "display_data"
    }
   ],
   "source": [
    "# Change the color of Phoenix to `\"DarkCyan\"`\n",
    "plt.plot(data[\"Year\"], data[\"Phoenix Police Dept\"], label=\"Phoenix\", color='DarkCyan')\n",
    "\n",
    "# Make the Los Angeles line dotted\n",
    "plt.plot(data[\"Year\"], data[\" Los Angeles Police Dept \"], label=\"Los Angeles\", linestyle=':')\n",
    "\n",
    "# Add square markers to Philedelphia\n",
    "plt.plot(data[\"Year\"], data[\"Philadelphia Police Dept\"], label=\"Philadelphia\", marker = 's')\n",
    "\n",
    "# Add a legend\n",
    "plt.legend()\n",
    "\n",
    "# Display the plot\n",
    "plt.show()"
   ]
  },
  {
   "cell_type": "markdown",
   "id": "a019fe34-0ec3-4805-a1c0-99338d76afad",
   "metadata": {},
   "source": [
    "## Setting a style\n",
    "- Before any other plotting code:"
   ]
  },
  {
   "cell_type": "code",
   "execution_count": 30,
   "id": "684a2b29-c1c3-4f32-bc6e-7ea398467327",
   "metadata": {},
   "outputs": [
    {
     "data": {
      "image/png": "[encoded data removed]",
      "text/plain": [
       "<Figure size 432x288 with 1 Axes>"
      ]
     },
     "metadata": {},
     "output_type": "display_data"
    }
   ],
   "source": [
    "# Change the style to fivethirtyeight\n",
    "plt.style.use('fivethirtyeight')\n",
    "\n",
    "# Plot lines\n",
    "plt.plot(data[\"Year\"], data[\"Phoenix Police Dept\"], label=\"Phoenix\")\n",
    "plt.plot(data[\"Year\"], data[\" Los Angeles Police Dept \"], label=\"Los Angeles\")\n",
    "plt.plot(data[\"Year\"], data[\"Philadelphia Police Dept\"], label=\"Philadelphia\")\n",
    "\n",
    "# Add a legend\n",
    "plt.legend()\n",
    "\n",
    "# Display the plot\n",
    "plt.show()"
   ]
  },
  {
   "cell_type": "code",
   "execution_count": 31,
   "id": "fa7b093d-e4b9-4d58-a910-47c791303493",
   "metadata": {},
   "outputs": [
    {
     "data": {
      "image/png": "[encoded data removed]",
      "text/plain": [
       "<Figure size 432x288 with 1 Axes>"
      ]
     },
     "metadata": {},
     "output_type": "display_data"
    }
   ],
   "source": [
    "plt.style.use('ggplot')\n",
    "\n",
    "# Plot lines\n",
    "plt.plot(data[\"Year\"], data[\"Phoenix Police Dept\"], label=\"Phoenix\")\n",
    "plt.plot(data[\"Year\"], data[\" Los Angeles Police Dept \"], label=\"Los Angeles\")\n",
    "plt.plot(data[\"Year\"], data[\"Philadelphia Police Dept\"], label=\"Philadelphia\")\n",
    "\n",
    "# Add a legend\n",
    "plt.legend()\n",
    "\n",
    "# Display the plot\n",
    "plt.show()"
   ]
  },
  {
   "cell_type": "code",
   "execution_count": 32,
   "id": "cb824b01-3e60-4304-abb8-997f3b768a64",
   "metadata": {},
   "outputs": [
    {
     "data": {
      "image/png": "[encoded data removed]",
      "text/plain": [
       "<Figure size 576x396 with 1 Axes>"
      ]
     },
     "metadata": {},
     "output_type": "display_data"
    }
   ],
   "source": [
    "plt.style.use('seaborn')\n",
    "\n",
    "# Plot lines\n",
    "plt.plot(data[\"Year\"], data[\"Phoenix Police Dept\"], label=\"Phoenix\")\n",
    "plt.plot(data[\"Year\"], data[\" Los Angeles Police Dept \"], label=\"Los Angeles\")\n",
    "plt.plot(data[\"Year\"], data[\"Philadelphia Police Dept\"], label=\"Philadelphia\")\n",
    "\n",
    "# Add a legend\n",
    "plt.legend()\n",
    "\n",
    "# Display the plot\n",
    "plt.show()"
   ]
  },
  {
   "cell_type": "code",
   "execution_count": 33,
   "id": "c051dc5e-6b0d-4b12-8f31-6cb702e58569",
   "metadata": {},
   "outputs": [
    {
     "data": {
      "image/png": "[encoded data removed]",
      "text/plain": [
       "<Figure size 640x480 with 1 Axes>"
      ]
     },
     "metadata": {},
     "output_type": "display_data"
    }
   ],
   "source": [
    "plt.style.use('default')\n",
    "\n",
    "# Plot lines\n",
    "plt.plot(data[\"Year\"], data[\"Phoenix Police Dept\"], label=\"Phoenix\")\n",
    "plt.plot(data[\"Year\"], data[\" Los Angeles Police Dept \"], label=\"Los Angeles\")\n",
    "plt.plot(data[\"Year\"], data[\"Philadelphia Police Dept\"], label=\"Philadelphia\")\n",
    "\n",
    "# Add a legend\n",
    "plt.legend()\n",
    "\n",
    "# Display the plot\n",
    "plt.show()"
   ]
  },
  {
   "cell_type": "code",
   "execution_count": 37,
   "id": "f53129f0",
   "metadata": {},
   "outputs": [
    {
     "name": "stdout",
     "output_type": "stream",
     "text": [
      "['Solarize_Light2', '_classic_test_patch', 'bmh', 'classic', 'dark_background', 'fast', 'fivethirtyeight', 'ggplot', 'grayscale', 'seaborn', 'seaborn-bright', 'seaborn-colorblind', 'seaborn-dark', 'seaborn-dark-palette', 'seaborn-darkgrid', 'seaborn-deep', 'seaborn-muted', 'seaborn-notebook', 'seaborn-paper', 'seaborn-pastel', 'seaborn-poster', 'seaborn-talk', 'seaborn-ticks', 'seaborn-white', 'seaborn-whitegrid', 'tableau-colorblind10']\n"
     ]
    }
   ],
   "source": [
    "print(plt.style.available)"
   ]
  },
  {
   "cell_type": "markdown",
   "id": "eb7c3381-a11e-4b0b-8932-adbe75a2f293",
   "metadata": {},
   "source": [
    "### Identifying Bayes' kidnapper\n",
    "We've narrowed the possible kidnappers down to two suspects:\n",
    "- Fred Frequentist (`suspect1`)\n",
    "- Gertrude Cox (`suspect2`)"
   ]
  },
  {
   "cell_type": "code",
   "execution_count": 38,
   "id": "b11ca585-6c05-4600-b0da-9b032687e9c5",
   "metadata": {},
   "outputs": [],
   "source": [
    "suspect1 = pd.read_csv(\"./dataset/suspect1.csv\")\n",
    "suspect2 = pd.read_csv(\"./dataset/suspect2.csv\")"
   ]
  },
  {
   "cell_type": "code",
   "execution_count": 39,
   "id": "1ce1a7ba-399a-43d8-9756-48800153a7ba",
   "metadata": {},
   "outputs": [
    {
     "data": {
      "image/png": "[encoded data removed]",
      "text/plain": [
       "<Figure size 640x480 with 1 Axes>"
      ]
     },
     "metadata": {},
     "output_type": "display_data"
    }
   ],
   "source": [
    "# Plot each line\n",
    "plt.plot(ransom.letter, ransom.frequency, label='Ransom', linestyle=':', color='gray')\n",
    "plt.plot(suspect1.letter, suspect1.frequency, label='Fred Frequentist')\n",
    "plt.plot(suspect2.letter, suspect2.frequency, label='Gertrude Cox')\n",
    "\n",
    "# Add x- and y-labels\n",
    "plt.xlabel(\"Letter\")\n",
    "plt.ylabel(\"Frequency\")\n",
    "\n",
    "# Add a legend\n",
    "plt.legend()\n",
    "\n",
    "# Display plot\n",
    "plt.show()"
   ]
  },
  {
   "cell_type": "markdown",
   "id": "9e86cc7b-2c77-480f-8f52-4d480519e9d3",
   "metadata": {},
   "source": [
    "*It looks like Fred Frequentist is the kidnapper. Both the ransom and Fred have low frequencies of H and high frequency of P.*"
   ]
  },
  {
   "cell_type": "markdown",
   "id": "5529f3f3-541c-4122-aa37-00912b35ff0c",
   "metadata": {},
   "source": [
    "# Part-4 Different Types of Plots"
   ]
  },
  {
   "cell_type": "markdown",
   "id": "a8bd6e28-4426-416f-8e23-0da419b8e77f",
   "metadata": {},
   "source": [
    "## Making a scatter plot\n",
    "#### Mapping Cell Phone Signals\n",
    "\n",
    "<img src = \"./media/signals.png\">"
   ]
  },
  {
   "cell_type": "markdown",
   "id": "c4ea98f5-6497-4140-9d3a-a56c5027ce96",
   "metadata": {},
   "source": [
    "### What is a scatter plot?\n",
    "<img src = \"./media/scatterplot.png\">"
   ]
  },
  {
   "cell_type": "markdown",
   "id": "6c3f4fb0-d8a0-4db6-93fc-3f2c05537b88",
   "metadata": {},
   "source": [
    "### Creating a scatter plot"
   ]
  },
  {
   "cell_type": "code",
   "execution_count": null,
   "id": "a9b2cff6-7ae2-4233-8bd6-46b5299bd5e5",
   "metadata": {},
   "outputs": [],
   "source": [
    "plt.scatter(df.age, df.height)\n",
    "plt.xlabel('Age (in months)')\n",
    "plt.ylabel('Height (in inches)')\n",
    "plt.show()"
   ]
  },
  {
   "cell_type": "markdown",
   "id": "c89ffc2a-83ec-4d65-a04b-e6124d1846d5",
   "metadata": {},
   "source": [
    "### Keyword arguments"
   ]
  },
  {
   "cell_type": "code",
   "execution_count": null,
   "id": "43679702-55bd-4b5e-9ee1-fbac34c513db",
   "metadata": {},
   "outputs": [],
   "source": [
    "plt.scatter(df.age, df.height,\n",
    "            color='green',\n",
    "            marker='s')"
   ]
  },
  {
   "cell_type": "markdown",
   "id": "d45acab7-776c-4280-870c-f5ff9d9d4ad1",
   "metadata": {},
   "source": [
    "### Changing marker transparency"
   ]
  },
  {
   "cell_type": "code",
   "execution_count": null,
   "id": "8ddbe00e-f995-4e73-a6fd-bad8e951dd11",
   "metadata": {},
   "outputs": [],
   "source": [
    "plt.scatter(df.x_data,df.y_data,alpha=0.1)"
   ]
  },
  {
   "cell_type": "markdown",
   "id": "c9fc8d0b-6664-428f-9bea-153dc3ce6102",
   "metadata": {},
   "source": [
    "## Making a bar chart"
   ]
  },
  {
   "cell_type": "code",
   "execution_count": 10,
   "id": "f9f8a33f-8808-4648-ab55-2b9c60eb7c7b",
   "metadata": {},
   "outputs": [
    {
     "data": {
      "text/html": [
       "<div>\n",
       "<style scoped>\n",
       "    .dataframe tbody tr th:only-of-type {\n",
       "        vertical-align: middle;\n",
       "    }\n",
       "\n",
       "    .dataframe tbody tr th {\n",
       "        vertical-align: top;\n",
       "    }\n",
       "\n",
       "    .dataframe thead th {\n",
       "        text-align: right;\n",
       "    }\n",
       "</style>\n",
       "<table border=\"1\" class=\"dataframe\">\n",
       "  <thead>\n",
       "    <tr style=\"text-align: right;\">\n",
       "      <th></th>\n",
       "      <th>officer</th>\n",
       "      <th>avg_hours_worked</th>\n",
       "      <th>std_hours_worked</th>\n",
       "      <th>desk_work</th>\n",
       "      <th>field_work</th>\n",
       "    </tr>\n",
       "  </thead>\n",
       "  <tbody>\n",
       "    <tr>\n",
       "      <th>0</th>\n",
       "      <td>Deshaun</td>\n",
       "      <td>45</td>\n",
       "      <td>3</td>\n",
       "      <td>25</td>\n",
       "      <td>20</td>\n",
       "    </tr>\n",
       "    <tr>\n",
       "      <th>1</th>\n",
       "      <td>Mengfei</td>\n",
       "      <td>33</td>\n",
       "      <td>9</td>\n",
       "      <td>20</td>\n",
       "      <td>13</td>\n",
       "    </tr>\n",
       "    <tr>\n",
       "      <th>2</th>\n",
       "      <td>Aditya</td>\n",
       "      <td>42</td>\n",
       "      <td>5</td>\n",
       "      <td>12</td>\n",
       "      <td>30</td>\n",
       "    </tr>\n",
       "  </tbody>\n",
       "</table>\n",
       "</div>"
      ],
      "text/plain": [
       "   officer  avg_hours_worked  std_hours_worked  desk_work  field_work\n",
       "0  Deshaun                45                 3         25          20\n",
       "1  Mengfei                33                 9         20          13\n",
       "2   Aditya                42                 5         12          30"
      ]
     },
     "execution_count": 10,
     "metadata": {},
     "output_type": "execute_result"
    }
   ],
   "source": [
    "hours = pd.read_csv(\"./dataset/hours.csv\")\n",
    "\n",
    "# Display the DataFrame hours using print\n",
    "hours"
   ]
  },
  {
   "cell_type": "code",
   "execution_count": 7,
   "id": "9d846559-6b90-4370-8265-c2dd87e28ea0",
   "metadata": {},
   "outputs": [
    {
     "data": {
      "image/png": "[encoded data removed]",
      "text/plain": [
       "<Figure size 432x288 with 1 Axes>"
      ]
     },
     "metadata": {
      "needs_background": "light"
     },
     "output_type": "display_data"
    }
   ],
   "source": [
    "# Create a bar plot from the DataFrame hours\n",
    "plt.bar(hours.officer, hours.avg_hours_worked)\n",
    "\n",
    "# Display the plot\n",
    "plt.show()"
   ]
  },
  {
   "cell_type": "markdown",
   "id": "8f35145a-6a20-4761-8ebe-56e31161ba48",
   "metadata": {},
   "source": [
    "### Horizontal bar charts"
   ]
  },
  {
   "cell_type": "code",
   "execution_count": 8,
   "id": "c9a4aec8-4f4e-44d9-a541-ee4023ea5266",
   "metadata": {},
   "outputs": [
    {
     "data": {
      "image/png": "[encoded data removed]",
      "text/plain": [
       "<Figure size 432x288 with 1 Axes>"
      ]
     },
     "metadata": {
      "needs_background": "light"
     },
     "output_type": "display_data"
    }
   ],
   "source": [
    "# Create a bar plot from the DataFrame hours\n",
    "plt.barh(hours.officer, hours.avg_hours_worked)\n",
    "\n",
    "# Display the plot\n",
    "plt.show()"
   ]
  },
  {
   "cell_type": "markdown",
   "id": "7bcd086e-e7aa-448c-aa7c-d3ccd12644bc",
   "metadata": {},
   "source": [
    "### Adding error bars"
   ]
  },
  {
   "cell_type": "code",
   "execution_count": 9,
   "id": "98acd1ea-b365-465c-a089-5620f073fd70",
   "metadata": {},
   "outputs": [
    {
     "data": {
      "image/png": "[encoded data removed]",
      "text/plain": [
       "<Figure size 432x288 with 1 Axes>"
      ]
     },
     "metadata": {
      "needs_background": "light"
     },
     "output_type": "display_data"
    }
   ],
   "source": [
    "# Create a bar plot from the DataFrame hours\n",
    "plt.bar(hours.officer, hours.avg_hours_worked,\n",
    "        # Add error bars\n",
    "        yerr = hours.std_hours_worked)\n",
    "\n",
    "# Display the plot\n",
    "plt.show()"
   ]
  },
  {
   "cell_type": "markdown",
   "id": "3dcaa0c1-ced3-4ca7-adba-56c66f3babe2",
   "metadata": {},
   "source": [
    "### Stacked bar charts\n",
    "<img src = \"./media/stackedbarchart.png\">"
   ]
  },
  {
   "cell_type": "markdown",
   "id": "1305acf4-f8f5-4a58-9e9f-ff736dbd264e",
   "metadata": {},
   "source": [
    "### Stacked bar charts"
   ]
  },
  {
   "cell_type": "code",
   "execution_count": 12,
   "id": "044dabcc-526a-4e50-8d24-b4ff5097aa1d",
   "metadata": {},
   "outputs": [
    {
     "data": {
      "image/png": "[encoded data removed]",
      "text/plain": [
       "<Figure size 432x288 with 1 Axes>"
      ]
     },
     "metadata": {
      "needs_background": "light"
     },
     "output_type": "display_data"
    }
   ],
   "source": [
    "# Plot the number of hours spent on desk work\n",
    "plt.bar(hours.officer, hours.desk_work, label='Desk Work')\n",
    "\n",
    "# Plot the hours spent on field work on top of desk work\n",
    "plt.bar(hours.officer, hours.field_work, bottom=hours.desk_work, label='Field Work')\n",
    "\n",
    "# Add a legend\n",
    "plt.legend()\n",
    "\n",
    "# Display the plot\n",
    "plt.show()"
   ]
  },
  {
   "cell_type": "markdown",
   "id": "834c863e-8dbb-4813-bfb0-aa6fd5eddecc",
   "metadata": {},
   "source": [
    "## Making a histogram"
   ]
  },
  {
   "cell_type": "code",
   "execution_count": 13,
   "id": "5e904142",
   "metadata": {},
   "outputs": [],
   "source": [
    "puppies = pd.read_csv(\"./dataset/puppies.csv\")"
   ]
  },
  {
   "cell_type": "code",
   "execution_count": 14,
   "id": "e329eab4",
   "metadata": {},
   "outputs": [
    {
     "data": {
      "image/png": "[encoded data removed]",
      "text/plain": [
       "<Figure size 432x288 with 1 Axes>"
      ]
     },
     "metadata": {
      "needs_background": "light"
     },
     "output_type": "display_data"
    }
   ],
   "source": [
    "# Change the number of bins to 50\n",
    "plt.hist(puppies.weight,\n",
    "        bins=50)\n",
    "\n",
    "# Add labels\n",
    "plt.xlabel('Puppy Weight (lbs)')\n",
    "plt.ylabel('Number of Puppies')\n",
    "\n",
    "# Display\n",
    "plt.show()"
   ]
  },
  {
   "cell_type": "code",
   "execution_count": 15,
   "id": "c4e55639",
   "metadata": {},
   "outputs": [
    {
     "data": {
      "image/png": "[encoded data removed]",
      "text/plain": [
       "<Figure size 432x288 with 1 Axes>"
      ]
     },
     "metadata": {
      "needs_background": "light"
     },
     "output_type": "display_data"
    }
   ],
   "source": [
    "# Change the range to start at 5 and end at 35\n",
    "plt.hist(puppies.weight,\n",
    "        range=(5, 35))\n",
    "\n",
    "# Add labels\n",
    "plt.xlabel('Puppy Weight (lbs)')\n",
    "plt.ylabel('Number of Puppies')\n",
    "\n",
    "# Display\n",
    "plt.show()"
   ]
  },
  {
   "cell_type": "markdown",
   "id": "d26a3489-f8f2-4e54-9bc2-baebab7709d7",
   "metadata": {},
   "source": [
    "### Tracking down the kidnapper\n",
    "\n",
    "<img src = \"./media/gravel.png\">"
   ]
  },
  {
   "cell_type": "markdown",
   "id": "41ed0b06-6a92-4ba9-8ffd-7f785176c64b",
   "metadata": {},
   "source": [
    "### What is a histogram?\n",
    "\n",
    "<img src = \"./media/histogram.png\">"
   ]
  },
  {
   "cell_type": "markdown",
   "id": "5bf7b0c5-699a-43ee-bea8-052e5ded865f",
   "metadata": {},
   "source": [
    "### Histograms with matplotlib"
   ]
  },
  {
   "cell_type": "code",
   "execution_count": 16,
   "id": "4f5681ac",
   "metadata": {},
   "outputs": [],
   "source": [
    "gravel = pd.read_csv(\"./dataset/gravel.csv\")"
   ]
  },
  {
   "cell_type": "code",
   "execution_count": 18,
   "id": "589a5d2d-5d82-4335-90d5-3bf18c209f8c",
   "metadata": {},
   "outputs": [
    {
     "data": {
      "image/png": "[encoded data removed]",
      "text/plain": [
       "<Figure size 432x288 with 1 Axes>"
      ]
     },
     "metadata": {
      "needs_background": "light"
     },
     "output_type": "display_data"
    }
   ],
   "source": [
    "# Create a histogram of gravel.radius\n",
    "plt.hist(gravel.radius)\n",
    "\n",
    "# Display histogram\n",
    "plt.show()"
   ]
  },
  {
   "cell_type": "markdown",
   "id": "62a4145a-9108-43cd-9784-a870a1ec89b7",
   "metadata": {},
   "source": [
    "### Changing bins\n"
   ]
  },
  {
   "cell_type": "code",
   "execution_count": 19,
   "id": "59e020af-d324-446e-a15d-b35b5d24ee46",
   "metadata": {},
   "outputs": [
    {
     "data": {
      "image/png": "[encoded data removed]",
      "text/plain": [
       "<Figure size 432x288 with 1 Axes>"
      ]
     },
     "metadata": {
      "needs_background": "light"
     },
     "output_type": "display_data"
    }
   ],
   "source": [
    "# Create a histogram with 40 bins\n",
    "plt.hist(gravel.radius, bins=40)\n",
    "\n",
    "# Display histogram\n",
    "plt.show()"
   ]
  },
  {
   "cell_type": "markdown",
   "id": "f712bd5b-e790-4e32-b21d-88b419c41457",
   "metadata": {},
   "source": [
    "### Changing range\n",
    "\n",
    "`plt.hist(data,range=(xmin, xmax))`"
   ]
  },
  {
   "cell_type": "code",
   "execution_count": 20,
   "id": "4c81cc79-8846-41a8-8bd1-f952e082f64d",
   "metadata": {},
   "outputs": [
    {
     "data": {
      "image/png": "[encoded data removed]",
      "text/plain": [
       "<Figure size 432x288 with 1 Axes>"
      ]
     },
     "metadata": {
      "needs_background": "light"
     },
     "output_type": "display_data"
    }
   ],
   "source": [
    "# Create a histogram\n",
    "# Range is 2 to 8, with 40 bins\n",
    "plt.hist(gravel.radius, bins=40, range=(2,8))\n",
    "\n",
    "# Display histogram\n",
    "plt.show()"
   ]
  },
  {
   "cell_type": "markdown",
   "id": "88096e68-fe4e-4925-90e3-149075de1742",
   "metadata": {},
   "source": [
    "### Normalizing"
   ]
  },
  {
   "cell_type": "code",
   "execution_count": 21,
   "id": "ba201c03-6bcb-46d8-9392-fde3613dab19",
   "metadata": {},
   "outputs": [
    {
     "data": {
      "image/png": "[encoded data removed]",
      "text/plain": [
       "<Figure size 432x288 with 1 Axes>"
      ]
     },
     "metadata": {
      "needs_background": "light"
     },
     "output_type": "display_data"
    }
   ],
   "source": [
    "# Create a histogram\n",
    "# Normalize to 1\n",
    "plt.hist(gravel.radius,\n",
    "         bins=40,\n",
    "         range=(2, 8),\n",
    "         density=1)\n",
    "\n",
    "# Display histogram\n",
    "plt.show()"
   ]
  },
  {
   "cell_type": "code",
   "execution_count": 22,
   "id": "fa21bd03",
   "metadata": {},
   "outputs": [
    {
     "data": {
      "image/png": "[encoded data removed]",
      "text/plain": [
       "<Figure size 432x288 with 1 Axes>"
      ]
     },
     "metadata": {
      "needs_background": "light"
     },
     "output_type": "display_data"
    }
   ],
   "source": [
    "# Create a histogram\n",
    "plt.hist(gravel.radius,\n",
    "         bins=40,\n",
    "         range=(2, 8),\n",
    "         density=True)\n",
    "\n",
    "# Label plot\n",
    "plt.xlabel('Gravel Radius (mm)')\n",
    "plt.ylabel('Frequency')\n",
    "plt.title('Sample from Shoeprint')\n",
    "\n",
    "# Display histogram\n",
    "plt.show()"
   ]
  },
  {
   "cell_type": "markdown",
   "id": "3b6e89ef-8aa1-4f1f-a33d-67ff40b7722b",
   "metadata": {},
   "source": [
    "# **Recap**"
   ]
  },
  {
   "cell_type": "markdown",
   "id": "e4674886-4f94-448c-aa7c-219b61ee7fb4",
   "metadata": {},
   "source": [
    "<img src= \"./media/recape.png\">"
   ]
  },
  {
   "cell_type": "code",
   "execution_count": null,
   "id": "f1966a14-d17c-481a-ac2f-b2e16ce5b0d3",
   "metadata": {},
   "outputs": [],
   "source": []
  }
 ],
 "metadata": {
  "kernelspec": {
   "display_name": "Python 3 (ipykernel)",
   "language": "python",
   "name": "python3"
  },
  "language_info": {
   "codemirror_mode": {
    "name": "ipython",
    "version": 3
   },
   "file_extension": ".py",
   "mimetype": "text/x-python",
   "name": "python",
   "nbconvert_exporter": "python",
   "pygments_lexer": "ipython3",
   "version": "3.9.7"
  }
 },
 "nbformat": 4,
 "nbformat_minor": 5
}
