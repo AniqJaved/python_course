{
 "cells": [
  {
   "cell_type": "markdown",
   "id": "16a43c8b",
   "metadata": {},
   "source": [
    "# Data Types for Data Science in Python"
   ]
  },
  {
   "cell_type": "markdown",
   "id": "ebee5ae0",
   "metadata": {},
   "source": [
    "## Introduction and lists\n",
    "### Data types\n",
    "- Data type system sets the stage for the capabilities of the language.\n",
    "- Understanding data types empowers you as a data scientist.\n",
    "\n",
    "### Container sequence\n",
    "- Hold other types of data\n",
    "- Used for aggregation, sorting, and more\n",
    "- Can be mutable (list, set) or immutable (tuple)\n",
    "- Iterable"
   ]
  },
  {
   "cell_type": "markdown",
   "id": "e0b3411a",
   "metadata": {},
   "source": [
    "## >> Lists\n",
    "- Hold data in order it was added\n",
    "- Mutable\n",
    "- Index"
   ]
  },
  {
   "cell_type": "markdown",
   "id": "862acce9",
   "metadata": {},
   "source": [
    "### Accessing single items in list"
   ]
  },
  {
   "cell_type": "code",
   "execution_count": 1,
   "id": "5af5feb8",
   "metadata": {},
   "outputs": [],
   "source": [
    "cookies = ['chocolate chip','peanut butter','sugar']"
   ]
  },
  {
   "cell_type": "code",
   "execution_count": 2,
   "id": "e17d4b5b",
   "metadata": {},
   "outputs": [],
   "source": [
    "cookies.append('Tirggel')"
   ]
  },
  {
   "cell_type": "code",
   "execution_count": 3,
   "id": "ddc84cb5",
   "metadata": {},
   "outputs": [
    {
     "name": "stdout",
     "output_type": "stream",
     "text": [
      "['chocolate chip', 'peanut butter', 'sugar', 'Tirggel']\n"
     ]
    }
   ],
   "source": [
    "print(cookies)"
   ]
  },
  {
   "cell_type": "code",
   "execution_count": 4,
   "id": "7caaf462",
   "metadata": {},
   "outputs": [
    {
     "name": "stdout",
     "output_type": "stream",
     "text": [
      "sugar\n"
     ]
    }
   ],
   "source": [
    "print(cookies[2])"
   ]
  },
  {
   "cell_type": "markdown",
   "id": "32efea7b",
   "metadata": {},
   "source": [
    "### Combining Lists\n",
    "- Using operators, you can combine two lists into a new one"
   ]
  },
  {
   "cell_type": "code",
   "execution_count": 5,
   "id": "7b815f65",
   "metadata": {},
   "outputs": [],
   "source": [
    "cakes = ['strawberry','vanilla']"
   ]
  },
  {
   "cell_type": "code",
   "execution_count": 6,
   "id": "51298f49",
   "metadata": {},
   "outputs": [
    {
     "name": "stdout",
     "output_type": "stream",
     "text": [
      "['chocolate chip', 'peanut butter', 'sugar', 'Tirggel', 'strawberry', 'vanilla']\n"
     ]
    }
   ],
   "source": [
    "desserts = cookies + cakes\n",
    "print(desserts)"
   ]
  },
  {
   "cell_type": "markdown",
   "id": "7d2df886",
   "metadata": {},
   "source": [
    "- `.extend()` method merges a list into another list at the end"
   ]
  },
  {
   "cell_type": "markdown",
   "id": "3c82bf4a",
   "metadata": {},
   "source": [
    "### Finding Elements in a List\n",
    "- `.index()` method locates the position of a data element in a list"
   ]
  },
  {
   "cell_type": "code",
   "execution_count": 7,
   "id": "381a6acb",
   "metadata": {},
   "outputs": [
    {
     "name": "stdout",
     "output_type": "stream",
     "text": [
      "2\n"
     ]
    }
   ],
   "source": [
    "position = cookies.index('sugar')\n",
    "print(position)"
   ]
  },
  {
   "cell_type": "code",
   "execution_count": 8,
   "id": "61a570a2",
   "metadata": {},
   "outputs": [
    {
     "data": {
      "text/plain": [
       "'Tirggel'"
      ]
     },
     "execution_count": 8,
     "metadata": {},
     "output_type": "execute_result"
    }
   ],
   "source": [
    "cookies[3]"
   ]
  },
  {
   "cell_type": "markdown",
   "id": "7073851f",
   "metadata": {},
   "source": [
    "### Removing Elements in a List\n",
    "- Removing Elements in a List `.pop()` method removes an item from a list and allows you to save it"
   ]
  },
  {
   "cell_type": "code",
   "execution_count": 9,
   "id": "d18a497f",
   "metadata": {},
   "outputs": [
    {
     "name": "stdout",
     "output_type": "stream",
     "text": [
      "sugar\n"
     ]
    }
   ],
   "source": [
    "name = cookies.pop(position)\n",
    "print(name)"
   ]
  },
  {
   "cell_type": "code",
   "execution_count": 10,
   "id": "c3da94c3",
   "metadata": {},
   "outputs": [
    {
     "name": "stdout",
     "output_type": "stream",
     "text": [
      "['chocolate chip', 'peanut butter', 'Tirggel']\n"
     ]
    }
   ],
   "source": [
    "print(cookies)"
   ]
  },
  {
   "cell_type": "markdown",
   "id": "915083b9",
   "metadata": {},
   "source": [
    "### Iterating over lists\n",
    "- `for` loops are the most common way of iterating over a list"
   ]
  },
  {
   "cell_type": "code",
   "execution_count": 11,
   "id": "4aa09dab",
   "metadata": {},
   "outputs": [
    {
     "name": "stdout",
     "output_type": "stream",
     "text": [
      "chocolate chip\n",
      "peanut butter\n",
      "Tirggel\n"
     ]
    }
   ],
   "source": [
    "for cookie in cookies:\n",
    "    print(cookie)"
   ]
  },
  {
   "cell_type": "markdown",
   "id": "1de6a6a9",
   "metadata": {},
   "source": [
    "### Sorting lists\n",
    "- `sorted()` function sorts data in numerical or alphabeticalorder and returns a new list"
   ]
  },
  {
   "cell_type": "code",
   "execution_count": 12,
   "id": "21ee97df",
   "metadata": {},
   "outputs": [
    {
     "name": "stdout",
     "output_type": "stream",
     "text": [
      "['chocolate chip', 'peanut butter', 'Tirggel']\n"
     ]
    }
   ],
   "source": [
    "print(cookies)"
   ]
  },
  {
   "cell_type": "code",
   "execution_count": 13,
   "id": "daed3f73",
   "metadata": {},
   "outputs": [
    {
     "name": "stdout",
     "output_type": "stream",
     "text": [
      "['Tirggel', 'chocolate chip', 'peanut butter']\n"
     ]
    }
   ],
   "source": [
    "sorted_cookies = sorted(cookies)\n",
    "print(sorted_cookies)"
   ]
  },
  {
   "cell_type": "markdown",
   "id": "597c3160",
   "metadata": {},
   "source": [
    "## >> Tuples\n",
    "- Hold data in order\n",
    "- Index\n",
    "- Immutable\n",
    "- Pairing\n",
    "- Unpackable"
   ]
  },
  {
   "cell_type": "markdown",
   "id": "b6651c8a",
   "metadata": {},
   "source": [
    "### Zipping tuples\n",
    "- Tuples are commonly created by zipping lists together with `zip()`\n",
    "Two lists: `us_cookies` , `in_cookies`"
   ]
  },
  {
   "cell_type": "code",
   "execution_count": 15,
   "id": "6ed9873d",
   "metadata": {},
   "outputs": [],
   "source": [
    "us_cookies = ['Chocolate Chip', 'Brownies', 'Peanut Butter', 'Oreos', 'Oatmeal Raisin']\n",
    "in_cookies = ['Punjabi', 'Fruit Cake Rusk', 'Marble Cookies', 'Kaju Pista Cookies', 'Almond Cookies']"
   ]
  },
  {
   "cell_type": "code",
   "execution_count": 16,
   "id": "9da8edce",
   "metadata": {},
   "outputs": [
    {
     "name": "stdout",
     "output_type": "stream",
     "text": [
      "[('Chocolate Chip', 'Punjabi'), ('Brownies', 'Fruit Cake Rusk'), ('Peanut Butter', 'Marble Cookies'), ('Oreos', 'Kaju Pista Cookies'), ('Oatmeal Raisin', 'Almond Cookies')]\n"
     ]
    }
   ],
   "source": [
    "top_pairs = list(zip(us_cookies, in_cookies))\n",
    "print(top_pairs)"
   ]
  },
  {
   "cell_type": "markdown",
   "id": "953e9987",
   "metadata": {},
   "source": [
    "### Unpacking tuples\n",
    "- Unpacking tuples is a very expressive way for working with data"
   ]
  },
  {
   "cell_type": "code",
   "execution_count": 20,
   "id": "7c6a3076",
   "metadata": {},
   "outputs": [
    {
     "name": "stdout",
     "output_type": "stream",
     "text": [
      "Chocolate Chip >>> Punjabi\n"
     ]
    }
   ],
   "source": [
    "us_num_1, in_num_1 = top_pairs[0]\n",
    "print(us_num_1, in_num_1, sep= \" >>> \")"
   ]
  },
  {
   "cell_type": "markdown",
   "id": "f6462b64",
   "metadata": {},
   "source": [
    "### More unpacking in Loops\n",
    "- Unpacking is especially powerful in loops"
   ]
  },
  {
   "cell_type": "code",
   "execution_count": 21,
   "id": "434e6f14",
   "metadata": {},
   "outputs": [
    {
     "name": "stdout",
     "output_type": "stream",
     "text": [
      "Punjabi\n",
      "Chocolate Chip\n",
      "Fruit Cake Rusk\n",
      "Brownies\n",
      "Marble Cookies\n",
      "Peanut Butter\n",
      "Kaju Pista Cookies\n",
      "Oreos\n",
      "Almond Cookies\n",
      "Oatmeal Raisin\n"
     ]
    }
   ],
   "source": [
    "for us_cookie, in_cookie in top_pairs:\n",
    "    print(in_cookie)\n",
    "    print(us_cookie)"
   ]
  },
  {
   "cell_type": "markdown",
   "id": "4190c331",
   "metadata": {},
   "source": [
    "### Enumerating positions\n",
    "- Another useful tuple creation method is the `enumerate()` function\n",
    "- Enumeration is used in loops to return the position and the data in that position while looping"
   ]
  },
  {
   "cell_type": "code",
   "execution_count": 23,
   "id": "f7e3591a",
   "metadata": {},
   "outputs": [
    {
     "name": "stdout",
     "output_type": "stream",
     "text": [
      "0 Chocolate Chip Punjabi\n",
      "1 Brownies Fruit Cake Rusk\n",
      "2 Peanut Butter Marble Cookies\n",
      "3 Oreos Kaju Pista Cookies\n",
      "4 Oatmeal Raisin Almond Cookies\n"
     ]
    }
   ],
   "source": [
    "for idx, item in enumerate(top_pairs):\n",
    "    us_cookie, in_cookie = item\n",
    "    print(idx, us_cookie, in_cookie)"
   ]
  },
  {
   "cell_type": "markdown",
   "id": "6e7e0a95",
   "metadata": {},
   "source": [
    "### Be careful when making tuples\n",
    "- Use `zip()` , `enumerate()` , or `()` to make tuples"
   ]
  },
  {
   "cell_type": "code",
   "execution_count": 24,
   "id": "e6fe6314",
   "metadata": {},
   "outputs": [
    {
     "name": "stdout",
     "output_type": "stream",
     "text": [
      "('vanilla', 'chocolate')\n"
     ]
    }
   ],
   "source": [
    "item = ('vanilla','chocolate')\n",
    "print(item)"
   ]
  },
  {
   "cell_type": "markdown",
   "id": "1e29d8f0",
   "metadata": {},
   "source": [
    "Beware of tailing commas!"
   ]
  },
  {
   "cell_type": "code",
   "execution_count": 25,
   "id": "2f1956ef",
   "metadata": {},
   "outputs": [
    {
     "name": "stdout",
     "output_type": "stream",
     "text": [
      "('butter',)\n"
     ]
    }
   ],
   "source": [
    "item2 = 'butter',\n",
    "print(item2)"
   ]
  },
  {
   "cell_type": "markdown",
   "id": "3798db65",
   "metadata": {},
   "source": [
    "# >> Sets for unordered and unique data"
   ]
  },
  {
   "cell_type": "markdown",
   "id": "af55166d",
   "metadata": {},
   "source": [
    "#### Set\n",
    "- Unique\n",
    "- Unordered\n",
    "- Mutable\n",
    "- Python's implementation of Set Theory from Mathematics"
   ]
  },
  {
   "cell_type": "markdown",
   "id": "8ba6b494",
   "metadata": {},
   "source": [
    "### Creating Sets\n",
    "- Sets are created from a list"
   ]
  },
  {
   "cell_type": "code",
   "execution_count": 26,
   "id": "a1deeee4",
   "metadata": {},
   "outputs": [
    {
     "name": "stdout",
     "output_type": "stream",
     "text": [
      "{'peanut butter', 'chocolate chip', 'oatmeal cream'}\n"
     ]
    }
   ],
   "source": [
    "cookies_eaten_today = ['chocolate chip','peanut butter','chocolate chip','oatmeal cream','chocolate chip']\n",
    "types_of_cookies_eaten = set(cookies_eaten_today)\n",
    "print(types_of_cookies_eaten)"
   ]
  },
  {
   "cell_type": "markdown",
   "id": "70ac75eb",
   "metadata": {},
   "source": [
    "### Modifying Sets\n",
    "- `.add()` adds single elements\n",
    "- `.update()` merges in another set or list"
   ]
  },
  {
   "cell_type": "code",
   "execution_count": 28,
   "id": "2d9e8e8a",
   "metadata": {},
   "outputs": [
    {
     "name": "stdout",
     "output_type": "stream",
     "text": [
      "{'peanut butter', 'chocolate chip', 'biscotti', 'oatmeal cream'}\n"
     ]
    }
   ],
   "source": [
    "types_of_cookies_eaten.add('biscotti')\n",
    "types_of_cookies_eaten.add('chocolate chip')\n",
    "print(types_of_cookies_eaten)"
   ]
  },
  {
   "cell_type": "markdown",
   "id": "9b45e2c9",
   "metadata": {},
   "source": [
    "### Updating Sets"
   ]
  },
  {
   "cell_type": "code",
   "execution_count": 29,
   "id": "808de2dd",
   "metadata": {},
   "outputs": [
    {
     "name": "stdout",
     "output_type": "stream",
     "text": [
      "{'oatmeal cream', 'peanut butter', 'chocolate chip', 'anzac', 'biscotti'}\n"
     ]
    }
   ],
   "source": [
    "cookies_hugo_ate = ['chocolate chip','anzac']\n",
    "types_of_cookies_eaten.update(cookies_hugo_ate)\n",
    "print(types_of_cookies_eaten)"
   ]
  },
  {
   "cell_type": "markdown",
   "id": "d519121d",
   "metadata": {},
   "source": [
    "### Removing data from sets\n",
    "- `.discard()` safely removes an element from the set by value\n",
    "- `.pop()` removes and returns an arbitrary element from the set (KeyError when empty)\n"
   ]
  },
  {
   "cell_type": "code",
   "execution_count": 30,
   "id": "f5113d8a",
   "metadata": {},
   "outputs": [
    {
     "name": "stdout",
     "output_type": "stream",
     "text": [
      "{'oatmeal cream', 'peanut butter', 'chocolate chip', 'anzac'}\n"
     ]
    }
   ],
   "source": [
    "types_of_cookies_eaten.discard('biscotti')\n",
    "print(types_of_cookies_eaten)"
   ]
  },
  {
   "cell_type": "code",
   "execution_count": 31,
   "id": "684e5790",
   "metadata": {},
   "outputs": [
    {
     "data": {
      "text/plain": [
       "'peanut butter'"
      ]
     },
     "execution_count": 31,
     "metadata": {},
     "output_type": "execute_result"
    }
   ],
   "source": [
    "types_of_cookies_eaten.pop()\n",
    "types_of_cookies_eaten.pop()"
   ]
  },
  {
   "cell_type": "markdown",
   "id": "f71b1f03",
   "metadata": {},
   "source": [
    "### Set Operations - Similarities\n",
    "- `.union()` set method returns a set of all the names ( `or` )\n",
    "- `.intersection()` method identifies overlapping data ( `and` )"
   ]
  },
  {
   "cell_type": "code",
   "execution_count": 32,
   "id": "52c032f8",
   "metadata": {},
   "outputs": [
    {
     "data": {
      "text/plain": [
       "{'anzac', 'chocolate chip', 'oatmeal cream', 'peanut butter'}"
      ]
     },
     "execution_count": 32,
     "metadata": {},
     "output_type": "execute_result"
    }
   ],
   "source": [
    "cookies_jason_ate = set(['chocolate chip','oatmeal cream','peanut butter'])\n",
    "cookies_hugo_ate = set(['chocolate chip','anzac'])\n",
    "cookies_jason_ate.union(cookies_hugo_ate)"
   ]
  },
  {
   "cell_type": "code",
   "execution_count": 33,
   "id": "0b8696fb",
   "metadata": {},
   "outputs": [
    {
     "data": {
      "text/plain": [
       "{'chocolate chip'}"
      ]
     },
     "execution_count": 33,
     "metadata": {},
     "output_type": "execute_result"
    }
   ],
   "source": [
    "cookies_jason_ate.intersection(cookies_hugo_ate)"
   ]
  },
  {
   "cell_type": "markdown",
   "id": "7d4b8821",
   "metadata": {},
   "source": [
    "### Set Operations - Differences\n",
    "- `.difference()` method identifies data present  in the set on which the method was used that is not in the arguments ( `-` )\n",
    "- Target is important!"
   ]
  },
  {
   "cell_type": "code",
   "execution_count": 34,
   "id": "26d6e9fa",
   "metadata": {},
   "outputs": [
    {
     "data": {
      "text/plain": [
       "{'oatmeal cream', 'peanut butter'}"
      ]
     },
     "execution_count": 34,
     "metadata": {},
     "output_type": "execute_result"
    }
   ],
   "source": [
    "cookies_jason_ate.difference(cookies_hugo_ate)"
   ]
  },
  {
   "cell_type": "code",
   "execution_count": 35,
   "id": "0da59f3f",
   "metadata": {},
   "outputs": [
    {
     "data": {
      "text/plain": [
       "{'anzac'}"
      ]
     },
     "execution_count": 35,
     "metadata": {},
     "output_type": "execute_result"
    }
   ],
   "source": [
    "cookies_hugo_ate.difference(cookies_jason_ate)"
   ]
  },
  {
   "cell_type": "markdown",
   "id": "8e37454a",
   "metadata": {},
   "source": [
    "# >> Using dictionaries"
   ]
  },
  {
   "cell_type": "markdown",
   "id": "734bca96",
   "metadata": {},
   "source": [
    "### Creating and looping through dictionaries\n",
    "- Hold data in key/value pairs\n",
    "- Nestable (use a dictionary as the value of a key within adictionary)\n",
    "- Iterable\n",
    "- Created by dict() or {}"
   ]
  },
  {
   "cell_type": "code",
   "execution_count": 36,
   "id": "710eedf1",
   "metadata": {},
   "outputs": [
    {
     "ename": "NameError",
     "evalue": "name 'galleries' is not defined",
     "output_type": "error",
     "traceback": [
      "\u001b[1;31m---------------------------------------------------------------------------\u001b[0m",
      "\u001b[1;31mNameError\u001b[0m                                 Traceback (most recent call last)",
      "\u001b[1;32m<ipython-input-36-92ce10b4e3e3>\u001b[0m in \u001b[0;36m<module>\u001b[1;34m\u001b[0m\n\u001b[0;32m      1\u001b[0m \u001b[0mart_galleries\u001b[0m \u001b[1;33m=\u001b[0m \u001b[1;33m{\u001b[0m\u001b[1;33m}\u001b[0m\u001b[1;33m\u001b[0m\u001b[1;33m\u001b[0m\u001b[0m\n\u001b[1;32m----> 2\u001b[1;33m \u001b[1;32mfor\u001b[0m \u001b[0mname\u001b[0m\u001b[1;33m,\u001b[0m \u001b[0mzip_code\u001b[0m \u001b[1;32min\u001b[0m \u001b[0mgalleries\u001b[0m\u001b[1;33m:\u001b[0m\u001b[1;33m\u001b[0m\u001b[1;33m\u001b[0m\u001b[0m\n\u001b[0m\u001b[0;32m      3\u001b[0m     \u001b[0mart_galleries\u001b[0m\u001b[1;33m[\u001b[0m\u001b[0mname\u001b[0m\u001b[1;33m]\u001b[0m \u001b[1;33m=\u001b[0m \u001b[0mzip_code\u001b[0m\u001b[1;33m\u001b[0m\u001b[1;33m\u001b[0m\u001b[0m\n",
      "\u001b[1;31mNameError\u001b[0m: name 'galleries' is not defined"
     ]
    }
   ],
   "source": [
    "art_galleries = {}\n",
    "for name, zip_code in galleries:\n",
    "    art_galleries[name] = zip_code"
   ]
  },
  {
   "cell_type": "code",
   "execution_count": null,
   "id": "8fb5a516",
   "metadata": {},
   "outputs": [],
   "source": []
  }
 ],
 "metadata": {
  "kernelspec": {
   "display_name": "Python 3",
   "language": "python",
   "name": "python3"
  },
  "language_info": {
   "codemirror_mode": {
    "name": "ipython",
    "version": 3
   },
   "file_extension": ".py",
   "mimetype": "text/x-python",
   "name": "python",
   "nbconvert_exporter": "python",
   "pygments_lexer": "ipython3",
   "version": "3.8.8"
  }
 },
 "nbformat": 4,
 "nbformat_minor": 5
}
