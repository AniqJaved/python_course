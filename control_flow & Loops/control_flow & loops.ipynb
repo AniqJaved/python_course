{
 "cells": [
  {
   "cell_type": "markdown",
   "metadata": {},
   "source": [
    "## Control Flow"
   ]
  },
  {
   "cell_type": "raw",
   "metadata": {},
   "source": [
    "if logic:\n",
    "    body\n",
    "elif logic:\n",
    "    body\n",
    "else:\n",
    "    body"
   ]
  },
  {
   "cell_type": "markdown",
   "metadata": {},
   "source": [
    "### !Coding 🤖"
   ]
  },
  {
   "cell_type": "markdown",
   "metadata": {},
   "source": [
    "#### Boolean"
   ]
  },
  {
   "cell_type": "code",
   "execution_count": 5,
   "metadata": {},
   "outputs": [
    {
     "name": "stdout",
     "output_type": "stream",
     "text": [
      "Currently working 👨‍💻\n"
     ]
    }
   ],
   "source": [
    "programmer = input('Are you from CS or SE fields? Answer \"Yes or No\"')\n",
    "\n",
    "if programmer == \"Yes\" or programmer == \"yes\":\n",
    "    programmer = True\n",
    "else:\n",
    "    programmer = False\n",
    "\n",
    "if programmer:\n",
    "    print('Currently working 👨‍💻')\n",
    "else:\n",
    "    print('🤷')\n",
    "    \n"
   ]
  },
  {
   "cell_type": "markdown",
   "metadata": {},
   "source": [
    "#### Integer"
   ]
  },
  {
   "cell_type": "code",
   "execution_count": 15,
   "metadata": {},
   "outputs": [
    {
     "name": "stdout",
     "output_type": "stream",
     "text": [
      "This code is executeable!!!\n",
      "Remaining program continue here...\n"
     ]
    }
   ],
   "source": [
    "# if  statemnet\n",
    "\n",
    "test_Value = 100\n",
    "\n",
    "if test_Value > 1:\n",
    "    print('This code is executeable!!!')\n",
    "\n",
    "if test_Value > 100:\n",
    "    print('This code is not executeable!!!')\n",
    "\n",
    "print('Remaining program continue here...')"
   ]
  },
  {
   "cell_type": "markdown",
   "metadata": {},
   "source": [
    "#### String\n"
   ]
  },
  {
   "cell_type": "code",
   "execution_count": 13,
   "metadata": {},
   "outputs": [
    {
     "name": "stdout",
     "output_type": "stream",
     "text": [
      "⬛⬛⬛⬛⬛⬛⬛⬛⬛⬛⬛⬛⬛⬛⬛⬛⬛⬛⬛⬛⬛⬛⬛⬛⬛⬛⬛⬛⬛⬛⬛⬛⬛⬛⬛⬛⬛⬛⬛⬛\n",
      "⬛⬜⬜⬜⬜⬜⬜⬜⬜⬜⬜⬜⬜⬜⬜⬜⬜⬜⬜⬜⬜⬜⬜⬜⬜⬜⬜⬜⬜⬜⬜⬜⬜⬜⬜⬜⬜⬜⬜⬛\n",
      "⬛⬜⬛⬛⬛⬛⬛⬜⬛⬛⬜⬜⬜⬛⬛⬜⬛⬜⬛⬛⬜⬜⬛⬛⬜⬛⬛⬛⬛⬛⬜⬛⬛⬜⬜⬜⬛⬛⬜⬛\n",
      "⬛⬜⬛⬛⬛⬛⬛⬜⬛⬛⬛⬜⬛⬛⬛⬜⬛⬜⬛⬛⬛⬜⬛⬛⬜⬛⬛⬛⬛⬛⬜⬛⬛⬛⬜⬛⬛⬛⬜⬛\n",
      "⬛⬜⬛⬛⬜⬜⬜⬜⬛⬛⬛⬛⬛⬛⬛⬜⬜⬜⬛⬛⬛⬜⬛⬛⬜⬜⬜⬜⬛⬛⬜⬛⬛⬛⬛⬛⬛⬛⬜⬛\n",
      "⬛⬜⬛⬛⬛⬛⬛⬜⬛⬛⬜⬛⬜⬛⬛⬜⬛⬜⬛⬛⬛⬛⬛⬛⬜⬛⬛⬛⬛⬛⬜⬛⬛⬜⬛⬜⬛⬛⬜⬛\n",
      "⬛⬜⬛⬛⬛⬛⬛⬜⬛⬛⬜⬜⬜⬛⬛⬜⬛⬜⬛⬛⬜⬛⬛⬛⬜⬛⬛⬛⬛⬛⬜⬛⬛⬜⬜⬜⬛⬛⬜⬛\n",
      "⬛⬜⬛⬛⬜⬜⬜⬜⬛⬛⬜⬜⬜⬛⬛⬜⬛⬜⬛⬛⬜⬛⬛⬛⬜⬜⬜⬜⬛⬛⬜⬛⬛⬜⬜⬜⬛⬛⬜⬛\n",
      "⬛⬜⬛⬛⬛⬛⬛⬜⬛⬛⬜⬜⬜⬛⬛⬜⬛⬜⬛⬛⬜⬜⬛⬛⬜⬛⬛⬛⬛⬛⬜⬛⬛⬜⬜⬜⬛⬛⬜⬛\n",
      "⬛⬜⬛⬛⬛⬛⬛⬜⬛⬛⬜⬜⬜⬛⬛⬜⬛⬜⬛⬛⬜⬜⬛⬛⬜⬛⬛⬛⬛⬛⬜⬛⬛⬜⬜⬜⬛⬛⬜⬛\n",
      "⬛⬜⬜⬜⬜⬜⬜⬜⬜⬜⬜⬜⬜⬜⬜⬜⬜⬜⬜⬜⬜⬜⬜⬜⬜⬜⬜⬜⬜⬜⬜⬜⬜⬜⬜⬜⬜⬜⬜⬛\n",
      "⬛⬛⬛⬛⬛⬛⬛⬛⬛⬛⬛⬛⬛⬛⬛⬛⬛⬛⬛⬛⬛⬛⬛⬛⬛⬛⬛⬛⬛⬛⬛⬛⬛⬛⬛⬛⬛⬛⬛⬛\n"
     ]
    }
   ],
   "source": [
    "# elif Statments\n",
    "\n",
    "music_genre = 'rap'\n",
    "\n",
    "if music_genre == 'pop':\n",
    "    print('🎸')\n",
    "elif music_genre == 'rock':\n",
    "    print('🤘🎶')\n",
    "elif music_genre == 'rap':\n",
    "    print('⬛⬛⬛⬛⬛⬛⬛⬛⬛⬛⬛⬛⬛⬛⬛⬛⬛⬛⬛⬛⬛⬛⬛⬛⬛⬛⬛⬛⬛⬛⬛⬛⬛⬛⬛⬛⬛⬛⬛⬛\\n⬛⬜⬜⬜⬜⬜⬜⬜⬜⬜⬜⬜⬜⬜⬜⬜⬜⬜⬜⬜⬜⬜⬜⬜⬜⬜⬜⬜⬜⬜⬜⬜⬜⬜⬜⬜⬜⬜⬜⬛\\n⬛⬜⬛⬛⬛⬛⬛⬜⬛⬛⬜⬜⬜⬛⬛⬜⬛⬜⬛⬛⬜⬜⬛⬛⬜⬛⬛⬛⬛⬛⬜⬛⬛⬜⬜⬜⬛⬛⬜⬛\\n⬛⬜⬛⬛⬛⬛⬛⬜⬛⬛⬛⬜⬛⬛⬛⬜⬛⬜⬛⬛⬛⬜⬛⬛⬜⬛⬛⬛⬛⬛⬜⬛⬛⬛⬜⬛⬛⬛⬜⬛\\n⬛⬜⬛⬛⬜⬜⬜⬜⬛⬛⬛⬛⬛⬛⬛⬜⬜⬜⬛⬛⬛⬜⬛⬛⬜⬜⬜⬜⬛⬛⬜⬛⬛⬛⬛⬛⬛⬛⬜⬛\\n⬛⬜⬛⬛⬛⬛⬛⬜⬛⬛⬜⬛⬜⬛⬛⬜⬛⬜⬛⬛⬛⬛⬛⬛⬜⬛⬛⬛⬛⬛⬜⬛⬛⬜⬛⬜⬛⬛⬜⬛\\n⬛⬜⬛⬛⬛⬛⬛⬜⬛⬛⬜⬜⬜⬛⬛⬜⬛⬜⬛⬛⬜⬛⬛⬛⬜⬛⬛⬛⬛⬛⬜⬛⬛⬜⬜⬜⬛⬛⬜⬛\\n⬛⬜⬛⬛⬜⬜⬜⬜⬛⬛⬜⬜⬜⬛⬛⬜⬛⬜⬛⬛⬜⬛⬛⬛⬜⬜⬜⬜⬛⬛⬜⬛⬛⬜⬜⬜⬛⬛⬜⬛\\n⬛⬜⬛⬛⬛⬛⬛⬜⬛⬛⬜⬜⬜⬛⬛⬜⬛⬜⬛⬛⬜⬜⬛⬛⬜⬛⬛⬛⬛⬛⬜⬛⬛⬜⬜⬜⬛⬛⬜⬛\\n⬛⬜⬛⬛⬛⬛⬛⬜⬛⬛⬜⬜⬜⬛⬛⬜⬛⬜⬛⬛⬜⬜⬛⬛⬜⬛⬛⬛⬛⬛⬜⬛⬛⬜⬜⬜⬛⬛⬜⬛\\n⬛⬜⬜⬜⬜⬜⬜⬜⬜⬜⬜⬜⬜⬜⬜⬜⬜⬜⬜⬜⬜⬜⬜⬜⬜⬜⬜⬜⬜⬜⬜⬜⬜⬜⬜⬜⬜⬜⬜⬛\\n⬛⬛⬛⬛⬛⬛⬛⬛⬛⬛⬛⬛⬛⬛⬛⬛⬛⬛⬛⬛⬛⬛⬛⬛⬛⬛⬛⬛⬛⬛⬛⬛⬛⬛⬛⬛⬛⬛⬛⬛')\n",
    "else:\n",
    "    print('Start Listening 🎧')\n",
    "    "
   ]
  },
  {
   "cell_type": "markdown",
   "metadata": {},
   "source": [
    "#### User Validation ✅"
   ]
  },
  {
   "cell_type": "code",
   "execution_count": 16,
   "metadata": {},
   "outputs": [
    {
     "name": "stdout",
     "output_type": "stream",
     "text": [
      "Valid User ✅\n"
     ]
    }
   ],
   "source": [
    "user = input('User Name: ')\n",
    "password = input('password: ')\n",
    "\n",
    "if (user == 'Aniq' or user == 'Javed') and password == '123':\n",
    "    print('Valid User ✅')\n",
    "else:\n",
    "    print('Invalid User ❌')"
   ]
  },
  {
   "cell_type": "code",
   "execution_count": 15,
   "metadata": {},
   "outputs": [
    {
     "name": "stdout",
     "output_type": "stream",
     "text": [
      "Valid user ✅\n"
     ]
    }
   ],
   "source": [
    "user = input('User Name: ')\n",
    "password = input('Password: ')\n",
    "if user in ['Aniq', 'Ahmed', 'Ali'] and password == '123':\n",
    "    print('Valid user ✅')\n",
    "else:\n",
    "    print('Invalid user ❌')"
   ]
  },
  {
   "cell_type": "markdown",
   "metadata": {},
   "source": [
    "## Loops 🔁"
   ]
  },
  {
   "cell_type": "raw",
   "metadata": {},
   "source": [
    "for <temporary Variable> in <list variable>:\n",
    "    <action statement>\n",
    "    <action statement>"
   ]
  },
  {
   "cell_type": "code",
   "execution_count": 23,
   "metadata": {},
   "outputs": [
    {
     "name": "stdout",
     "output_type": "stream",
     "text": [
      "1\n",
      "2\n",
      "3\n",
      "4\n",
      "5\n"
     ]
    }
   ],
   "source": [
    "nums = [1,2,3,4,5]\n",
    "for i in nums:\n",
    "    print(i)"
   ]
  },
  {
   "cell_type": "markdown",
   "metadata": {},
   "source": [
    "### Using Conditionals in loops ✨"
   ]
  },
  {
   "cell_type": "markdown",
   "metadata": {},
   "source": [
    "#### Using continue  📅 \n"
   ]
  },
  {
   "cell_type": "code",
   "execution_count": 24,
   "metadata": {},
   "outputs": [
    {
     "name": "stdout",
     "output_type": "stream",
     "text": [
      "1\n",
      "2\n",
      "4\n",
      "5\n",
      "2\n"
     ]
    }
   ],
   "source": [
    "#continue\n",
    "big_number_list = [1,2,-1,4,-5,5,2,-9]\n",
    "\n",
    "for i in big_number_list:\n",
    "    if i < 0:\n",
    "        continue\n",
    "    print(i)"
   ]
  },
  {
   "cell_type": "markdown",
   "metadata": {},
   "source": [
    "#### Using break  🔨"
   ]
  },
  {
   "cell_type": "code",
   "execution_count": 25,
   "metadata": {},
   "outputs": [
    {
     "name": "stdout",
     "output_type": "stream",
     "text": [
      "1\n",
      "2\n",
      "Negative number Detected..!!\n"
     ]
    }
   ],
   "source": [
    "#break\n",
    "big_number_list = [1,2,-1,4,-5,5,2,-9]\n",
    "\n",
    "for i in big_number_list:\n",
    "    if i < 0:\n",
    "        print('Negative number Detected..!!')\n",
    "        break\n",
    "    print(i)"
   ]
  },
  {
   "cell_type": "markdown",
   "metadata": {},
   "source": [
    "### Nested Loops 🌐\n"
   ]
  },
  {
   "cell_type": "code",
   "execution_count": 17,
   "metadata": {},
   "outputs": [
    {
     "name": "stdout",
     "output_type": "stream",
     "text": [
      "['Large', 'Big']\n",
      "Large\n",
      "Big\n",
      "['Medium', 'Intermediate']\n",
      "Medium\n",
      "Intermediate\n",
      "['Small', 'Tiny']\n",
      "Small\n",
      "Tiny\n"
     ]
    }
   ],
   "source": [
    "# nested loop\n",
    "groups = [['Large','Big'],['Medium', 'Intermediate'], ['Small','Tiny']]\n",
    "\n",
    "for group in groups:\n",
    "    print(group)\n",
    "    for name in group:\n",
    "        print(name)"
   ]
  },
  {
   "cell_type": "markdown",
   "metadata": {},
   "source": [
    "### Range ⏳\n"
   ]
  },
  {
   "cell_type": "code",
   "execution_count": 15,
   "metadata": {},
   "outputs": [
    {
     "name": "stdout",
     "output_type": "stream",
     "text": [
      "2 x 10 = 20\n",
      "2 x 9 = 18\n",
      "2 x 8 = 16\n",
      "2 x 7 = 14\n",
      "2 x 6 = 12\n",
      "2 x 5 = 10\n",
      "2 x 4 = 8\n",
      "2 x 3 = 6\n",
      "2 x 2 = 4\n",
      "2 x 1 = 2\n"
     ]
    }
   ],
   "source": [
    "for i in range(10,0,-1):\n",
    "#     print(2,\"x\",i,'=', 2*i)\n",
    "#     print(\"2 x \"+str(i)+\" =\"+str(2*i))\n",
    "    print(f\"2 x {i} = {2*i}\")"
   ]
  },
  {
   "cell_type": "markdown",
   "metadata": {},
   "source": [
    "#### Generating table for single integer 🔢\n"
   ]
  },
  {
   "cell_type": "code",
   "execution_count": 19,
   "metadata": {},
   "outputs": [
    {
     "name": "stdout",
     "output_type": "stream",
     "text": [
      "Enter table no: 3\n",
      "starting point of table: 1\n",
      "Ending point of table: 10\n",
      "3 x 1 = 3 \n",
      "3 x 2 = 6 \n",
      "3 x 3 = 9 \n",
      "3 x 4 = 12 \n",
      "3 x 5 = 15 \n",
      "3 x 6 = 18 \n",
      "3 x 7 = 21 \n",
      "3 x 8 = 24 \n",
      "3 x 9 = 27 \n",
      "3 x 10 = 30 \n"
     ]
    }
   ],
   "source": [
    "table_no = int(input('Enter table no: '))\n",
    "start = int(input('starting point of table: '))\n",
    "end = int(input('Ending point of table: '))\n",
    "\n",
    "for i in range(start,end+1):\n",
    "    print(f\"{table_no} x {i} = {table_no * i} \")"
   ]
  },
  {
   "cell_type": "markdown",
   "metadata": {},
   "source": [
    "#### Generating table for multiple integers 🔢"
   ]
  },
  {
   "cell_type": "code",
   "execution_count": 30,
   "metadata": {},
   "outputs": [
    {
     "name": "stdout",
     "output_type": "stream",
     "text": [
      "Enter table no: 5\n",
      "starting point of table: 2\n",
      "Ending point of table: 7\n",
      "1 x 2 = 10 \t2 x 2 = 10 \t3 x 2 = 10 \t4 x 2 = 10 \t5 x 2 = 10 \t\n",
      "1 x 3 = 15 \t2 x 3 = 15 \t3 x 3 = 15 \t4 x 3 = 15 \t5 x 3 = 15 \t\n",
      "1 x 4 = 20 \t2 x 4 = 20 \t3 x 4 = 20 \t4 x 4 = 20 \t5 x 4 = 20 \t\n",
      "1 x 5 = 25 \t2 x 5 = 25 \t3 x 5 = 25 \t4 x 5 = 25 \t5 x 5 = 25 \t\n",
      "1 x 6 = 30 \t2 x 6 = 30 \t3 x 6 = 30 \t4 x 6 = 30 \t5 x 6 = 30 \t\n",
      "1 x 7 = 35 \t2 x 7 = 35 \t3 x 7 = 35 \t4 x 7 = 35 \t5 x 7 = 35 \t\n"
     ]
    }
   ],
   "source": [
    "table_no = int(input('Enter table no: '))\n",
    "start = int(input('starting point of table: '))\n",
    "end = int(input('Ending point of table: '))\n",
    "\n",
    "for i in range(start,end+1):\n",
    "    for table in range(1,table_no+1):\n",
    "        print(f\"{table} x {i} = {table_no * i} \", end='\\t')\n",
    "    print()"
   ]
  },
  {
   "cell_type": "markdown",
   "metadata": {},
   "source": [
    "### While Loop 🔄\n"
   ]
  },
  {
   "cell_type": "code",
   "execution_count": 18,
   "metadata": {},
   "outputs": [
    {
     "name": "stdout",
     "output_type": "stream",
     "text": [
      "Time to eat ..!! 🍽️\n"
     ]
    }
   ],
   "source": [
    "hungry = True\n",
    "while hungry:\n",
    "    print('Time to eat ..!! 🍽️')\n",
    "    hungry = False # if we donot add this loop will in infite"
   ]
  },
  {
   "cell_type": "markdown",
   "metadata": {},
   "source": [
    "#### Incrementing ➕"
   ]
  },
  {
   "cell_type": "code",
   "execution_count": 36,
   "metadata": {},
   "outputs": [
    {
     "name": "stdout",
     "output_type": "stream",
     "text": [
      "1\n",
      "2\n",
      "3\n",
      "4\n"
     ]
    }
   ],
   "source": [
    "x = 1\n",
    "while x < 5:\n",
    "    print(x)\n",
    "    x +=1"
   ]
  },
  {
   "cell_type": "code",
   "execution_count": 1,
   "metadata": {},
   "outputs": [
    {
     "name": "stdout",
     "output_type": "stream",
     "text": [
      "line no :  1\n",
      "line no :  2\n",
      "line no :  3\n",
      "line no :  4\n",
      "line no :  5\n",
      "line no :  6\n",
      "line no :  7\n",
      "line no :  8\n",
      "line no :  9\n",
      "line no :  10\n"
     ]
    }
   ],
   "source": [
    "counter = 1 \n",
    "\n",
    "while counter <=10:\n",
    "    print('line no : ',counter)\n",
    "    counter +=1"
   ]
  },
  {
   "cell_type": "markdown",
   "metadata": {},
   "source": [
    "#### Decrementing ➖"
   ]
  },
  {
   "cell_type": "code",
   "execution_count": 35,
   "metadata": {},
   "outputs": [
    {
     "name": "stdout",
     "output_type": "stream",
     "text": [
      "5\n",
      "4\n",
      "3\n",
      "2\n",
      "1\n"
     ]
    }
   ],
   "source": [
    "x = 5\n",
    "while x > 0:\n",
    "    print(x)\n",
    "    x-=1"
   ]
  },
  {
   "cell_type": "code",
   "execution_count": 2,
   "metadata": {},
   "outputs": [
    {
     "name": "stdout",
     "output_type": "stream",
     "text": [
      "line no : 1000\n",
      "line no : 999\n",
      "line no : 998\n",
      "line no : 997\n",
      "line no : 996\n",
      "line no : 995\n",
      "line no : 994\n",
      "line no : 993\n",
      "line no : 992\n",
      "line no : 991\n",
      "line no : 990\n"
     ]
    }
   ],
   "source": [
    "counter = 1000\n",
    "\n",
    "while counter >=990:\n",
    "    print('line no :', counter)\n",
    "    counter-=1\n",
    "    "
   ]
  },
  {
   "cell_type": "code",
   "execution_count": null,
   "metadata": {},
   "outputs": [],
   "source": []
  }
 ],
 "metadata": {
  "kernelspec": {
   "display_name": "Python 3.9.7 64-bit",
   "language": "python",
   "name": "python3"
  },
  "language_info": {
   "codemirror_mode": {
    "name": "ipython",
    "version": 3
   },
   "file_extension": ".py",
   "mimetype": "text/x-python",
   "name": "python",
   "nbconvert_exporter": "python",
   "pygments_lexer": "ipython3",
   "version": "3.9.7"
  },
  "vscode": {
   "interpreter": {
    "hash": "9ff53134823692b9c4bfd108a74a871938438be695a1b5d0db0f2a625387eeb8"
   }
  }
 },
 "nbformat": 4,
 "nbformat_minor": 4
}
